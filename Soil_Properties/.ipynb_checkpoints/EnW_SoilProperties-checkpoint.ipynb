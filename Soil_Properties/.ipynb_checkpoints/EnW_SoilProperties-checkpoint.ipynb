{
 "cells": [
  {
   "cell_type": "code",
   "execution_count": null,
   "metadata": {
    "collapsed": false
   },
   "outputs": [],
   "source": [
    "import shapefile\n",
    "import netCDF4 as nc\n",
    "import pyproj\n",
    "import numpy as np\n",
    "from matplotlib.pyplot import rcParams\n",
    "\n",
    "# ECP Modules:\n",
    "from SoilTools import BrooksCorey as BC\n",
    "from SoilTools import VanGenuchten as VG\n",
    "from SoilTools import Thermal as TH\n",
    "\n",
    "# Plotting Modules:\n",
    "import matplotlib.pyplot as plt\n",
    "%matplotlib inline\n",
    "rcParams['figure.figsize'] = (15.,10)"
   ]
  },
  {
   "cell_type": "code",
   "execution_count": null,
   "metadata": {
    "collapsed": false
   },
   "outputs": [],
   "source": [
    "\n"
   ]
  },
  {
   "cell_type": "code",
   "execution_count": null,
   "metadata": {
    "collapsed": true
   },
   "outputs": [],
   "source": [
    "##################################################################################################\n",
    "#Define Directories and Filenames\n",
    "SOIL_DIR='/prj/GREENHOUSE/SOIL_PROPERTIES/datasets/England_Wales_Soil_Data/LDE16_12_SRUC_Tarsitano/'\n",
    "shp_file=SOIL_DIR+'Spatial Soil Data/NATMAP1000.shp'\n",
    "Hyd_LUT_file=SOIL_DIR+'Tabular Attribute Data/HORIZONhydraulics_V2.csv'\n",
    "Cst_LUT_file=SOIL_DIR+'Tabular Attribute Data/HORIZONfundamentals_V2.csv'\n",
    "\n",
    "LatLon_file='/users/eow/edwcom/CHESS/chess_landcover_2000.nc'\n",
    "\n",
    "OUTFILE=SOIL_DIR+'EnW_Soil_WeightedCompositionProperties_CHESSgrid.nc'\n",
    "####################################################################"
   ]
  },
  {
   "cell_type": "code",
   "execution_count": null,
   "metadata": {
    "collapsed": true
   },
   "outputs": [],
   "source": [
    "###################################################################\n",
    "# Options\n",
    "fill_value=-9999.0\n",
    "\n",
    "# Max number of Series to sum over\n",
    "nSERIES=10\n",
    "# LU Groups (Correspond to CHESS classes in  CHESS_LU_idx\n",
    "LU_groups= ['PG','AR','OT'] # ['LE']\n",
    "CHESS_LU_idx= [[2],[4],[0,1,3,5,6,7]] # [range(8)]\n",
    "nLU=len(LU_groups)\n",
    "\n",
    "# Define Soil Depths\n",
    "CH_soil_depths=np.array([0.1,0.35,1.0,3.0])\n",
    "CH_mean_soil_depths=np.array([0.05,0.225,0.675,2.0])\n",
    "nSD=len(CH_soil_depths)\n",
    "\n",
    "# Define input/output Parameter names to extract\n",
    "Comp_in_names=['SAND_TOTAL','SILT', 'CLAY', 'OC', 'PH','BULK_DENSITY'] \n",
    "                    #'SAND_FINE', 'SAND_MED', 'SAND_COARSE',\n",
    "Comp_out_names=['sand','silt','clay','org_carb','ph','Bulk_Density'] \n",
    "                    #'sand_fine','sand_med','sand_coarse',\n",
    "\n",
    "BC_Pnames=['bexp','sathh','satcon','sm_sat','sm_wilt','sm_crit','hcap','hcon']\n",
    "VG_Pnames=['oneovernminusone','oneoveralpha','ksat','sm_sat','sm_wilt','sm_crit','hcap','hcon']\n",
    "\n",
    "#######################################################################"
   ]
  },
  {
   "cell_type": "code",
   "execution_count": null,
   "metadata": {
    "collapsed": false
   },
   "outputs": [],
   "source": [
    "##########################################################################\n",
    "#read in latlon/xy data from chess_landcover\n",
    "LLinf=nc.Dataset(LatLon_file,'r')\n",
    "lats=LLinf.variables['lat'][:]\n",
    "lons=LLinf.variables['lon'][:]\n",
    "landcover=LLinf.variables['frac'][:]\n",
    "x=LLinf.variables['x'][:]\n",
    "y=LLinf.variables['y'][:]\n",
    "nx,ny=len(x),len(y)\n",
    "#LLinf.close()\n",
    "LAND_MASK=landcover.mask[0,:]\n",
    "\n",
    "CHESS_LU_map = np.zeros_like(landcover[:nLU,:])\n",
    "for iLU in range(nLU):\n",
    "    CHESS_LU_map[iLU,:,:]=np.sum(landcover[CHESS_LU_idx[iLU],:],axis=0)\n",
    "###################################################################################"
   ]
  },
  {
   "cell_type": "code",
   "execution_count": null,
   "metadata": {
    "collapsed": false
   },
   "outputs": [],
   "source": [
    "#################################################################################################\n",
    "# Read in the Look-up tables\n",
    "Cst_LUT_lines=[line[:-1] for line in open(Cst_LUT_file).readlines()]\n",
    "Hyd_LUT_lines=[line[:-1] for line in open(Hyd_LUT_file).readlines()]\n",
    "Cst_headers=Cst_LUT_lines.pop(0).split(',')\n",
    "Hyd_headers=Hyd_LUT_lines.pop(0).split(',')\n",
    "\n",
    "LUT_Dict={hdr:[] for hdr in Cst_headers+Hyd_headers}\n",
    "for Cst_line,Hyd_line in zip(Cst_LUT_lines,Hyd_LUT_lines):\n",
    "    Cst_vals=Cst_line.split(',')\n",
    "    Hyd_vals=Hyd_line.split(',')\n",
    "    # Unless there are values for sand, silt, clay, OC and ph, throw line away\n",
    "    if (Cst_vals[7]!='')&(Cst_vals[11]!='')&(Cst_vals[12]!='')&(Cst_vals[13]!='')&(Cst_vals[14]!='')\\\n",
    "                        &(Hyd_vals[7]!=''):\n",
    "        # Append Components to relevant list\n",
    "        for hdr,val in zip(Cst_headers,Cst_vals):\n",
    "            if val=='':\n",
    "                val='-1'\n",
    "            LUT_Dict[hdr].append(val)\n",
    "        # Append Hydraulics to list (missing out the series names and ids etc.)\n",
    "        for hdr,val in zip(Hyd_headers[7:],Hyd_vals[7:]):\n",
    "            if val=='':\n",
    "                val='-1'\n",
    "            LUT_Dict[hdr].append(val)\n",
    "\n",
    "headers_to_float=['UPPER_DEPTH', 'LOWER_DEPTH', 'SAND_TOTAL', \\\n",
    "                  'SAND_FINE', 'SAND_MED', 'SAND_COARSE', 'SILT', 'CLAY', 'OC', 'PH',\\\n",
    "                  'BULK_DENSITY', 'PARTICLE_DENSITY', 'TOTAL_POROSITY',\\\n",
    "                  'THV0', 'THV1', 'THV5', 'THV10', 'THV40', 'THV200', 'THV1500', \\\n",
    "                  'KSAT_SUBVERT', 'KSAT_LAT', \\\n",
    "                  'VG_TH_S', 'VG_TH_R', 'VG_ALPHA', 'VG_N', 'VG_M', \\\n",
    "                  'BC_TH_S', 'BC_ALPHA', 'BC_BETA',                  ]\n",
    "\n",
    "# convert to numpy arrays\n",
    "for hdr in headers_to_float:\n",
    "    LUT_Dict[hdr]=[float(val) for val in LUT_Dict[hdr]]\n",
    "for hdr in LUT_Dict:\n",
    "    LUT_Dict[hdr]=np.array(LUT_Dict[hdr])\n",
    "\n",
    "# Calculate Mean Depth\n",
    "LUT_Dict['MEAN_DEPTH']=(LUT_Dict['LOWER_DEPTH']+LUT_Dict['UPPER_DEPTH'])/200.\n",
    "#################################################################################################\n",
    "\n",
    "\n"
   ]
  },
  {
   "cell_type": "raw",
   "metadata": {
    "collapsed": false
   },
   "source": [
    "\n"
   ]
  },
  {
   "cell_type": "code",
   "execution_count": null,
   "metadata": {
    "collapsed": false
   },
   "outputs": [],
   "source": [
    "#########################################################\n",
    "# Read in Shape file\n",
    "SF=shapefile.Reader(shp_file)\n",
    "field_names=[field[0] for field in SF.fields]\n",
    "field_names.pop(0)\n",
    "Eindex=field_names.index('EAST_1K')\n",
    "Nindex=field_names.index('NORTH_1K')\n",
    "\n",
    "ShRcs=SF.shapeRecords()\n",
    "########################################################################"
   ]
  },
  {
   "cell_type": "code",
   "execution_count": null,
   "metadata": {
    "collapsed": false
   },
   "outputs": [],
   "source": [
    "print(BC_Pnames)"
   ]
  },
  {
   "cell_type": "code",
   "execution_count": null,
   "metadata": {
    "collapsed": false,
    "scrolled": true
   },
   "outputs": [],
   "source": [
    "####################################################################################\n",
    "## Loop around each shape, extracting the Soil Composition and \n",
    "# computing the BC and VG parameters\n",
    "# All calculated values are weighted accoring to the soil type weights in shapefile\n",
    "####################################################################################\n",
    "\n",
    "# Set up dictionaries for stroing the data:\n",
    "CHESS_SoilComp={ varname: np.zeros([nSD,ny,nx])+fill_value \\\n",
    "                    for varname in Comp_out_names  }\n",
    "BC_Properties={ varname: np.zeros([nSD,ny,nx])+fill_value \\\n",
    "                    for varname in BC_Pnames              }\n",
    "VG_Properties={ varname: np.zeros([nSD,ny,nx])+fill_value \\\n",
    "                    for varname in VG_Pnames              }\n",
    "\n",
    "LU_groups=['PG','AR','OT']\n",
    "for iShRc in range(len(ShRcs)):\n",
    "    ShRc=ShRcs[iShRc]\n",
    "    x_index=int(float(ShRc.record[Eindex])/1000.)\n",
    "    y_index=int(float(ShRc.record[Nindex])/1000.)\n",
    "    \n",
    "    #Check to see if location is a CHESS Land Point\n",
    "    if (LAND_MASK[y_index,x_index]==True):\n",
    "        continue\n",
    "    \n",
    "    #Create Dictionary to store point data in\n",
    "    Point_Data={ varname: np.zeros([nSD]) for varname in Comp_out_names  }\n",
    "    BC_Properties_P={ varname: np.zeros([nSD]) for varname in BC_Pnames   }\n",
    "    VG_Properties_P={ varname: np.zeros([nSD]) for varname in VG_Pnames   }\n",
    "    \n",
    "    # Collate Soil Series names and percetage cover\n",
    "    SERIES_dict={'names':[],'pc':[]}\n",
    "    for iS in range(nSERIES):\n",
    "        Sname_index=int(iS*2.)+2\n",
    "        Spc_index=Sname_index+1\n",
    "        if (ShRc.record[Spc_index]!=None)&\\\n",
    "            (ShRc.record[Sname_index] in LUT_Dict['SERIES_NAME']):\n",
    "            SERIES_dict['names'].append(ShRc.record[Sname_index])\n",
    "            SERIES_dict['pc'].append(ShRc.record[Spc_index])\n",
    "    # Convert to numpy arrays for searching\n",
    "    SERIES_dict['names']=np.array(SERIES_dict['names'])\n",
    "    SERIES_dict['pc']=np.array(SERIES_dict['pc'])\n",
    "    # Normalise percentages (i.e. ignoring the small and 'other' components)\n",
    "    SERIES_dict['pc']=SERIES_dict['pc']/np.sum(SERIES_dict['pc'])\n",
    "    \n",
    "    # Count for Soil Types in this gridcell\n",
    "    SOIL_SUM_COUNT=0\n",
    "    # Loop over soil series for location\n",
    "    for iS in range(len(SERIES_dict['names'])):\n",
    "        # Loop over LU groups:\n",
    "        LU_fraction=np.zeros(nSD)\n",
    "        \n",
    "        #Create Dictionary to store series data in\n",
    "        Series_Data={ varname: np.zeros([nSD]) for varname in Comp_out_names  }\n",
    "        BC_Properties_S={ varname: np.zeros([nSD]) for varname in BC_Pnames  }\n",
    "        VG_Properties_S={ varname: np.zeros([nSD]) for varname in VG_Pnames  }\n",
    "    \n",
    "        for iLU in range(len(LU_groups)):\n",
    "            # if Landuse not relevent then move on\n",
    "            if CHESS_LU_map[iLU,y_index,x_index]==0:\n",
    "                continue\n",
    "            \n",
    "            LU=LU_groups[iLU]\n",
    "            # index locations which have correct series\n",
    "            #print(SERIES_dict['names'][iS],LU)\n",
    "            LU_S_index= np.where((LUT_Dict['LU_GROUP']==LU)      & \\\n",
    "                                 (LUT_Dict['SERIES_NAME']==SERIES_dict['names'][iS]))[0]\n",
    "            #if there is no match LU and Soil Series then continue:\n",
    "            #print(LU_S_index)\n",
    "            if len(LU_S_index)==0:\n",
    "                continue\n",
    "            \n",
    "            # loop over output soil depths\n",
    "            for iSD in range(nSD):\n",
    "                # find closest input SD\n",
    "                if (len(LU_S_index)==0):\n",
    "                    print(LU, SERIES_dict['names'][iS])\n",
    "                    print(ShRc.record)\n",
    "                SD_index=np.argmin(np.abs( LUT_Dict['MEAN_DEPTH'][LU_S_index] \\\n",
    "                                          -CH_mean_soil_depths[iSD]) )\n",
    "                # INDEX of the closest soil depth for the series and LU\n",
    "                INDEX=LU_S_index[SD_index]\n",
    "                #print(iSD,INDEX)\n",
    "                LU_fraction[iSD]+=CHESS_LU_map[iLU,y_index,x_index]\n",
    "                # Loop over output parameters\n",
    "                for inname,outname in zip(Comp_in_names,Comp_out_names):\n",
    "                    #for each param, at each soil depth, sum the weighted components\n",
    "                    Series_Data[outname][iSD]+= \\\n",
    "                      (LUT_Dict[inname][INDEX]*SERIES_dict['pc'][iS]) \\\n",
    "                    * CHESS_LU_map[iLU,y_index,x_index]\n",
    "                 \n",
    "                \n",
    "                # get values required for BC and VG calculations\n",
    "                sand=LUT_Dict[Comp_in_names[0]][INDEX]\n",
    "                silt=LUT_Dict[Comp_in_names[1]][INDEX]\n",
    "                clay=LUT_Dict[Comp_in_names[2]][INDEX]\n",
    "                org_carb=LUT_Dict[Comp_in_names[3]][INDEX]\n",
    "                \n",
    "                # Compute the Brooks and Corey Soil Properties\n",
    "                BC_Properties_raw=BC.get_BC_soil_properties(clay,sand,silt)\n",
    "                BC_Properties_raw['hcap']=TH.hcap(clay,sand,silt)\n",
    "                BC_Properties_raw['hcon']=TH.hcon_Farouki(clay,sand,silt)\n",
    "                \n",
    "                # Sum using the percentage weighting and land use cover:\n",
    "                for BC_name in BC_Pnames:\n",
    "                    BC_Properties_S[BC_name][iSD]+= \\\n",
    "                    (BC_Properties_raw[BC_name]*SERIES_dict['pc'][iS]) \\\n",
    "                    * CHESS_LU_map[iLU,y_index,x_index]\n",
    "                \n",
    "                # Compute the Van Genuchten Soil Properties\n",
    "                VG_Properties_raw=VG.get_VG_soil_props_from_comp(clay,sand,silt,\\\n",
    "                                                                 OC_PC=org_carb, \\\n",
    "                                                                 RETURN_SOIL_TEXTURE=True)\n",
    "                \n",
    "                VG_Properties_raw['hcap']=TH.hcap(clay,sand,silt,                    \\\n",
    "                                                  sm_sat=VG_Properties_raw['sm_sat'],\\\n",
    "                                                  l_vg=True                          )\n",
    "                \n",
    "                VG_Properties_raw['hcon']=TH.hcon_Farouki(clay,sand,silt,                    \\\n",
    "                                                          sm_sat=VG_Properties_raw['sm_sat'],\\\n",
    "                                                          l_vg=True                          )\n",
    "                \n",
    "                # Sum using the percentage weighting and land use cover:\n",
    "                for VG_name in VG_Pnames:\n",
    "                    VG_Properties_S[VG_name][iSD]+= \\\n",
    "                    (VG_Properties_raw[VG_name]*SERIES_dict['pc'][iS]) \\\n",
    "                    * CHESS_LU_map[iLU,y_index,x_index]\n",
    "                        \n",
    "        # Normalise for any absent Land Uses if required\n",
    "        if (LU_fraction.min()>0.1):\n",
    "            SOIL_SUM_COUNT+=1\n",
    "            for outname in Comp_out_names:\n",
    "                #for each param, at each soil depth, sum the weighted components\n",
    "                Point_Data[outname] += Series_Data[outname]/LU_fraction\n",
    "            for BC_name in BC_Pnames:\n",
    "                BC_Properties_P[BC_name] += BC_Properties_S[BC_name]/LU_fraction\n",
    "            for VG_name in VG_Pnames:\n",
    "                VG_Properties_P[VG_name] += VG_Properties_S[VG_name]/LU_fraction\n",
    "        else:\n",
    "            continue\n",
    "    \n",
    "    # If no Soil FOund, reset to fill value\n",
    "    if SOIL_SUM_COUNT!=0:\n",
    "        for outname in Comp_out_names:\n",
    "            #for each param, at each soil depth, sum the weighted components\n",
    "            CHESS_SoilComp[outname][:,y_index,x_index]=Point_Data[outname]\n",
    "        for BC_name in BC_Pnames:\n",
    "            BC_Properties[BC_name][:,y_index,x_index]=BC_Properties_P[BC_name]\n",
    "        for VG_name in VG_Pnames:\n",
    "            VG_Properties[VG_name][:,y_index,x_index]=VG_Properties_P[VG_name]\n",
    "\n"
   ]
  },
  {
   "cell_type": "code",
   "execution_count": null,
   "metadata": {
    "collapsed": false
   },
   "outputs": [],
   "source": [
    "#ShRc.record"
   ]
  },
  {
   "cell_type": "code",
   "execution_count": null,
   "metadata": {
    "collapsed": true
   },
   "outputs": [],
   "source": [
    "for name in CHESS_SoilComp:\n",
    "    CHESS_SoilComp[name]=np.ma.masked_equal(CHESS_SoilComp[name],fill_value)"
   ]
  },
  {
   "cell_type": "code",
   "execution_count": null,
   "metadata": {
    "collapsed": false
   },
   "outputs": [],
   "source": []
  },
  {
   "cell_type": "code",
   "execution_count": null,
   "metadata": {
    "collapsed": false
   },
   "outputs": [],
   "source": [
    "\n"
   ]
  },
  {
   "cell_type": "code",
   "execution_count": null,
   "metadata": {
    "collapsed": true
   },
   "outputs": [],
   "source": [
    "total_soil=CHESS_SoilComp['clay']+CHESS_SoilComp['silt']+CHESS_SoilComp['sand']\n",
    "for name in ['sand','silt','clay']:\n",
    "    CHESS_SoilComp[name] = CHESS_SoilComp[name] * 100. / total_soil\n",
    "    "
   ]
  },
  {
   "cell_type": "code",
   "execution_count": null,
   "metadata": {
    "collapsed": false
   },
   "outputs": [],
   "source": []
  },
  {
   "cell_type": "code",
   "execution_count": null,
   "metadata": {
    "collapsed": false
   },
   "outputs": [],
   "source": [
    "\n",
    "###############################################################\n",
    "# Output data to netCDF file:\n",
    "###############################\n",
    "outf=nc.Dataset(OUTFILE,'w')\n",
    "\n",
    "# Create Dimensions\n",
    "outf.createDimension('x',nx)\n",
    "outf.createDimension('y',ny)\n",
    "outf.createDimension('z',nSD)\n",
    "\n",
    "# write out dimension variables\n",
    "for var in ['x','y']:\n",
    "    outvar=outf.createVariable(var,'float32',(var))\n",
    "    for att in LLinf.variables[var].ncattrs():\n",
    "        outvar.setncattr(str(att),LLinf.variables[var].getncattr(str(att)))\n",
    "    outvar[:]=LLinf.variables[var][:]\n",
    "\n",
    "outvar=outf.createVariable('z','float32',('z'))\n",
    "outvar.units='m'\n",
    "outvar.long_name='lower soil depth'\n",
    "outvar[:]=CH_soil_depths\n",
    "\n",
    "# Loop around soil Composition parameters and \n",
    "for var in CHESS_SoilComp:\n",
    "    outvar=outf.createVariable(var,'float32',('z','y','x'),fill_value=fill_value)\n",
    "    if var=='ph':\n",
    "        outvar.units='pH'\n",
    "    else:\n",
    "        outvar.units='percent'\n",
    "    outvar[:]=CHESS_SoilComp[var]\n",
    "    \n",
    "# Loop around soil BC parameters and \n",
    "for var in BC_Properties:\n",
    "    outvar=outf.createVariable('BC_'+var,'float32',('z','y','x'),fill_value=fill_value)\n",
    "    outvar[:]=BC_Properties[var]\n",
    "# Loop around soil VG parameters and \n",
    "for var in VG_Properties:\n",
    "    outvar=outf.createVariable('VG_'+var,'float32',('z','y','x'),fill_value=fill_value)\n",
    "    outvar[:]=VG_Properties[var]\n",
    "    \n",
    "outf.close()\n"
   ]
  },
  {
   "cell_type": "code",
   "execution_count": null,
   "metadata": {
    "collapsed": false
   },
   "outputs": [],
   "source": [
    "LLinf.close()"
   ]
  },
  {
   "cell_type": "code",
   "execution_count": null,
   "metadata": {
    "collapsed": false
   },
   "outputs": [],
   "source": []
  },
  {
   "cell_type": "code",
   "execution_count": null,
   "metadata": {
    "collapsed": false,
    "scrolled": true
   },
   "outputs": [],
   "source": [
    "\n"
   ]
  },
  {
   "cell_type": "code",
   "execution_count": null,
   "metadata": {
    "collapsed": false
   },
   "outputs": [],
   "source": []
  },
  {
   "cell_type": "code",
   "execution_count": null,
   "metadata": {
    "collapsed": false
   },
   "outputs": [],
   "source": []
  },
  {
   "cell_type": "code",
   "execution_count": null,
   "metadata": {
    "collapsed": false
   },
   "outputs": [],
   "source": []
  },
  {
   "cell_type": "code",
   "execution_count": null,
   "metadata": {
    "collapsed": true
   },
   "outputs": [],
   "source": []
  }
 ],
 "metadata": {
  "kernelspec": {
   "display_name": "Python 3",
   "language": "python",
   "name": "python3"
  },
  "language_info": {
   "codemirror_mode": {
    "name": "ipython",
    "version": 3
   },
   "file_extension": ".py",
   "mimetype": "text/x-python",
   "name": "python",
   "nbconvert_exporter": "python",
   "pygments_lexer": "ipython3",
   "version": "3.5.2"
  }
 },
 "nbformat": 4,
 "nbformat_minor": 0
}
