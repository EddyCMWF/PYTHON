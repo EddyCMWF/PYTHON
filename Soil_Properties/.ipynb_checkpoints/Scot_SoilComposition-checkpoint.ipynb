{
 "cells": [
  {
   "cell_type": "code",
   "execution_count": 1,
   "metadata": {
    "collapsed": true
   },
   "outputs": [],
   "source": [
    "import shapefile\n",
    "import netCDF4 as nc\n",
    "import pyproj\n",
    "import numpy as np\n",
    "import matplotlib.pyplot as plt\n",
    "from shapely.geometry import Polygon\n",
    "\n",
    "%matplotlib inline"
   ]
  },
  {
   "cell_type": "code",
   "execution_count": 2,
   "metadata": {
    "collapsed": false
   },
   "outputs": [
    {
     "name": "stdout",
     "output_type": "stream",
     "text": [
      "/prj/GREENHOUSE/SOIL_PROPERTIES/datasets/Scotland_Soil_Data/soil_250k/soil_250k.shp\n"
     ]
    }
   ],
   "source": [
    "# Filenames, directories and options\n",
    "SOIL_DIR='/prj/GREENHOUSE/SOIL_PROPERTIES/datasets/Scotland_Soil_Data/'\n",
    "shpvar='soil_250k'\n",
    "shp_file=SOIL_DIR+shpvar+'/'+shpvar+'.shp'\n",
    "if shpvar=='soiltexture':\n",
    "    shp_file=SOIL_DIR+shpvar+'/'+shpvar+'_osgb.shp'\n",
    "#prj_file=SOIL_DIR+shpvar+'/'+shpvar+'.prj'\n",
    "print(shp_file)\n",
    "\n",
    "LatLon_file='/users/eow/edwcom/CHESS/chess_landcover_2000.nc'\n",
    "\n",
    "LUT_file=SOIL_DIR+'SSKIB_OCT13_orgcarbGapFilled.csv'\n",
    "\n",
    "osgb36=pyproj.Proj('+proj=tmerc +lat_0=49 +lon_0=-2 +k=0.9996012717 +x_0=400000 +y_0=-100000 +ellps=airy +datum=OSGB36 +units=m +no_defs' ) # UK Ordnance Survey, 1936 datum \n",
    "\n",
    "OUTFILE=SOIL_DIR+'Scot_Soil_Constituents_CHESSgrid.nc'\n",
    "\n",
    "\n",
    "fill_value=-9999."
   ]
  },
  {
   "cell_type": "code",
   "execution_count": 3,
   "metadata": {
    "collapsed": false
   },
   "outputs": [],
   "source": [
    "#Read in LUT\n",
    "LUT_lines=open(LUT_file).readlines()\n",
    "LUT_lines=[line[:-1] for line in LUT_lines]\n",
    "headers=LUT_lines.pop(0).split(',')\n",
    "#print(headers)\n",
    "sand_index=headers.index('SAND_MED')\n",
    "silt_index=headers.index('SILT_MED')\n",
    "clay_index=headers.index('CLAY_MED')\n",
    "temp_LUT_Dict={hdr:[] for hdr in headers}\n",
    "for line in LUT_lines:\n",
    "    vals=line.split(',')\n",
    "    # Unless there are values for sand, silt, clay, OC and ph, throw line away\n",
    "    if (vals[sand_index]!='')&(vals[silt_index]!='')&(vals[clay_index]!=''):\n",
    "        for hdr,val in zip(headers,vals):\n",
    "            if val=='':\n",
    "                val='-1'\n",
    "            temp_LUT_Dict[hdr].append(val)\n",
    "\n",
    "Req_Headers=['LAND_USE', 'SERIES_NAME', 'SERIES_CODE', \\\n",
    "             'HORZ_TOP', 'HORZ_BOTTOM', \\\n",
    "             'CA_MED', 'MG_MED','NA_MED','K_MED','H_MED',          \\\n",
    "             'PH_W_MED','CARBON_MED','NITROGEN_MED','TOTAL_P_MED', \\\n",
    "             'SAND_MED','SILT_MED','CLAY_MED', 'organic_matter_med' ]\n",
    "\n",
    "LUT_Dict={hdr:temp_LUT_Dict[hdr] for hdr in Req_Headers}\n",
    "\n",
    "#cult_flag=np.zeros(len(LUT_Dict['LAND_USE']))\n",
    "#cult_flag[np.array(LUT_Dict['LAND_USE'])=='CULT']=1\n",
    "#LUT_Dict['LAND_USE']=cult_flag\n",
    "\n",
    "for hdr in Req_Headers[2:]:\n",
    "    LUT_Dict[hdr]=[float(val) for val in LUT_Dict[hdr]]\n",
    "for hdr in Req_Headers:\n",
    "    LUT_Dict[hdr]=np.array(LUT_Dict[hdr])\n",
    "\n",
    "\n",
    "# Sub missing median values for mean value\n",
    "#MED_hdrs=['CA_MED', 'MG_MED','NA_MED','K_MED','H_MED',          \\\n",
    "#          'PH_W_MED','CARBON_MED','NITROGEN_MED','TOTAL_P_MED', \\\n",
    "#          'SAND_MED','SILT_MED','CLAY_MED', 'organic_matter_med' ]\n",
    "#MEAN_hdrs=['CA_MEAN', 'MG_MEAN','NA_MEAN','K_MEAN','H_MEAN',          \\\n",
    "#          'PH_W_MEAN','CARBON_MEAN','NITROGEN_MEAN','TOTAL_P_MEAN', \\\n",
    "#          'SAND_MEAN','SILT_MEAN','CLAY_MEAN', 'organic_matter_mean' ]#\n",
    "#\n",
    "#for MEDhd,MEANhd in zip(MED_hdrs,MEAN_hdrs):\n",
    "#    if any (LUT_Dict[MEDhd]==-1):\n",
    "#        print(MEDhd)\n",
    "#        LUT_Dict[MEDhd][LUT_Dict[MEDhd]==-1]=np.array(temp_LUT_Dict[MEANhd])[LUT_Dict[MEDhd]==-1]\n",
    "#        print(np.where(LUT_Dict[MEDhd]==-1))\n",
    "\n",
    "LUT_Dict['MEAN_DEPTH']=(LUT_Dict['HORZ_TOP']+LUT_Dict['HORZ_BOTTOM'])/200.\n",
    "\n"
   ]
  },
  {
   "cell_type": "code",
   "execution_count": null,
   "metadata": {
    "collapsed": false
   },
   "outputs": [],
   "source": []
  },
  {
   "cell_type": "code",
   "execution_count": 4,
   "metadata": {
    "collapsed": false
   },
   "outputs": [],
   "source": [
    "#read in latlon/xy data from chess_landcover\n",
    "LLinf=nc.Dataset(LatLon_file,'r')\n",
    "lats=LLinf.variables['lat'][:]\n",
    "lons=LLinf.variables['lon'][:]\n",
    "landcover=LLinf.variables['frac'][:]\n",
    "x=LLinf.variables['x'][:]\n",
    "y=LLinf.variables['y'][:]\n",
    "#LLinf.close()\n",
    "CHESS_maxLC=np.ma.masked_array(np.argmax(landcover,axis=0), \\\n",
    "                               mask=landcover.mask[0,:,:],  \\\n",
    "                               fill_value=fill_value )\n",
    "CHESS_maxLC.data[CHESS_maxLC.mask==True]=fill_value\n",
    "CHESS_cropFrac=landcover[4,:]\n"
   ]
  },
  {
   "cell_type": "code",
   "execution_count": 5,
   "metadata": {
    "collapsed": false
   },
   "outputs": [],
   "source": [
    "#CHESS_cropFrac.mask[j,i]"
   ]
  },
  {
   "cell_type": "code",
   "execution_count": 6,
   "metadata": {
    "collapsed": false
   },
   "outputs": [],
   "source": [
    "CH_soil_depths=np.array([0.1,0.35,1.0,3.0])\n",
    "CH_mean_soil_depths=np.array([0.05,0.225,0.675,2.0])\n",
    "nx=len(x)\n",
    "ny=len(y)\n",
    "nSD=len(CH_soil_depths)\n",
    "\n",
    "Const_in_names=['CA_MED','MG_MED','NA_MED', 'K_MED', 'H_MED', \\\n",
    "                'PH_W_MED', 'CARBON_MED', 'NITROGEN_MED', 'TOTAL_P_MED',\\\n",
    "                'SAND_MED', 'SILT_MED', 'CLAY_MED', 'organic_matter_med']\n",
    "Const_out_names=['calcium','magnesium','sodium','potassium','hydrogen', \\\n",
    "                 'ph','carbon','nitrogen','phospherous', \\\n",
    "                 'sand','silt','clay','org_matter'] #'sand_fine','sand_med','sand_coarse',\n",
    "\n",
    "CHESS_SoilConst={ varname: np.zeros([nSD,ny,nx]) \\\n",
    "                    for varname in Const_out_names  }\n",
    "\n"
   ]
  },
  {
   "cell_type": "raw",
   "metadata": {
    "collapsed": false
   },
   "source": [
    "plt.imshow(CHESS_maxLC,origin='bottom')\n",
    "plt.colorbar()\n",
    "\n",
    "#plt.show()"
   ]
  },
  {
   "cell_type": "code",
   "execution_count": 7,
   "metadata": {
    "collapsed": false
   },
   "outputs": [],
   "source": [
    "SF=shapefile.Reader(shp_file)\n",
    "field_names=[field[0] for field in SF.fields]\n",
    "field_names.pop(0)\n",
    "ShRcs=SF.shapeRecords()\n"
   ]
  },
  {
   "cell_type": "raw",
   "metadata": {
    "collapsed": false
   },
   "source": [
    "ShRc=ShRcs[11746]\n",
    "for fname,rec in zip(field_names,ShRc.record):\n",
    "    print(fname,' - ',rec)\n",
    "print(ShRc.shape.bbox)\n",
    "print('______________')"
   ]
  },
  {
   "cell_type": "raw",
   "metadata": {
    "collapsed": false
   },
   "source": [
    "# Get Soil Series ID and percent lists for shape\n",
    "MAX_SERIES=8\n",
    "series_num=1\n",
    "Soil_Series_ID=[]\n",
    "Soil_Series_PC=[]\n",
    "SIDindex=field_names.index('sercde'+str(series_num))\n",
    "SPCindex=field_names.index('pcent'+str(series_num))\n",
    "temp_seriesID=ShRc.record[SIDindex]\n",
    "temp_seriesPC=ShRc.record[SPCindex]\n",
    "#print(SCindex, temp_seriescode)\n",
    "while (temp_seriesID[:1]!='\\x00')&(series_num<=MAX_SERIES):\n",
    "    Soil_Series_ID.append(int(temp_seriesID))\n",
    "    Soil_Series_PC.append(float(temp_seriesPC)/100.)\n",
    "    series_num+=1\n",
    "    SIDindex=field_names.index('sercde'+str(series_num))\n",
    "    SPCindex=field_names.index('pcent'+str(series_num))\n",
    "    temp_seriesID=ShRc.record[SIDindex]\n",
    "    temp_seriesPC=ShRc.record[SPCindex]\n",
    "\n",
    "nSS=len(Soil_Series_ID)\n",
    "print(Soil_Series_ID)\n",
    "print(Soil_Series_PC)"
   ]
  },
  {
   "cell_type": "raw",
   "metadata": {
    "collapsed": false
   },
   "source": [
    "# Loop around each soil series and sum weighted components for each Const field\n",
    "# Create profiles arrays for each output parameter for SEMI and CULT Land uses\n",
    "SEMI_profiles={ varname: np.zeros([nSD]) for varname in Const_out_names }\n",
    "CULT_profiles={ varname: np.zeros([nSD]) for varname in Const_out_names }\n",
    "PROFILE_PERCENT=0\n",
    "for iSS in range(nSS):\n",
    "    \n",
    "    full_LUT_index=np.where(LUT_Dict['SERIES_CODE']==Soil_Series_ID[iSS])[0]\n",
    "    #print(Soil_Series_ID[iSS],full_LUT_index,LUT_Dict['SERIES_NAME'][full_LUT_index])\n",
    "    \n",
    "    # Calculate Cultivated and Semi land-use constituent independently, if and where available\n",
    "    # Semi first\n",
    "    if 'SEMI'in LUT_Dict['LAND_USE'][full_LUT_index]:\n",
    "        LUT_index = full_LUT_index[LUT_Dict['LAND_USE'][full_LUT_index]=='SEMI']\n",
    "        # loop over output soil depths\n",
    "        for iSD in range(nSD):\n",
    "            # find closest input SD\n",
    "            SD_index=np.argmin(np.abs( LUT_Dict['MEAN_DEPTH'][LUT_index] \\\n",
    "                                      -CH_mean_soil_depths[iSD]) )\n",
    "            #print(CH_mean_soil_depths[iSD],LUT_Dict['MEAN_DEPTH'][LUT_index][SD_index])\n",
    "            # INDEX of the closest soil depth for the series and LU\n",
    "            INDEX=LUT_index[SD_index]\n",
    "            # Loop over output parameters\n",
    "            for inname,outname in zip(Const_in_names,Const_out_names):\n",
    "                #for each param, at each soil depth, sum the weighted components\n",
    "                SEMI_profiles[outname][iSD] += (LUT_Dict[inname][INDEX]*Soil_Series_PC[iSS])\n",
    "        COPY_FROM_CULT=0\n",
    "    else:\n",
    "        COPY_FROM_CULT=1\n",
    "    \n",
    "    # Next 'CULT\n",
    "    if 'CULT'in LUT_Dict['LAND_USE'][full_LUT_index]:\n",
    "        LUT_index = full_LUT_index[LUT_Dict['LAND_USE'][full_LUT_index]=='CULT']\n",
    "        # loop over output soil depths\n",
    "        for iSD in range(nSD):\n",
    "            # find closest input SD\n",
    "            SD_index=np.argmin(np.abs( LUT_Dict['MEAN_DEPTH'][LUT_index] \\\n",
    "                                      -CH_mean_soil_depths[iSD]) )\n",
    "            #print(CH_mean_soil_depths[iSD],LUT_Dict['MEAN_DEPTH'][LUT_index][SD_index])\n",
    "            # INDEX of the closest soil depth for the series and LU\n",
    "            INDEX=LUT_index[SD_index]\n",
    "            # Loop over output parameters\n",
    "            for inname,outname in zip(Const_in_names,Const_out_names):\n",
    "                #for each param, at each soil depth, sum the weighted components\n",
    "                CULT_profiles[outname][iSD] += (LUT_Dict[inname][INDEX]*Soil_Series_PC[iSS])\n",
    "        COPY_FROM_SEMI=0\n",
    "    else:\n",
    "        COPY_FROM_SEMI=1\n",
    "    \n",
    "    print(COPY_FROM_CULT,COPY_FROM_SEMI)\n",
    "\n",
    "    # Copy Profile Dictionaries from other land-use type where possible Where neccessary\n",
    "    if (COPY_FROM_CULT==1)&(COPY_FROM_SEMI==0):\n",
    "        if 'CULT'in LUT_Dict['LAND_USE'][full_LUT_index]:\n",
    "            LUT_index = full_LUT_index[LUT_Dict['LAND_USE'][full_LUT_index]=='CULT']\n",
    "            for iSD in range(nSD):\n",
    "                SD_index=np.argmin(np.abs( LUT_Dict['MEAN_DEPTH'][LUT_index] \\\n",
    "                                          -CH_mean_soil_depths[iSD]) )\n",
    "                INDEX=LUT_index[SD_index]\n",
    "                for inname,outname in zip(Const_in_names,Const_out_names):\n",
    "                    SEMI_profiles[outname][iSD] += (LUT_Dict[inname][INDEX]*Soil_Series_PC[iSS])\n",
    "            COPY_FROM_CULT=0\n",
    "        else:\n",
    "            COPY_FROM_CULT=1\n",
    "    elif (COPY_FROM_CULT==0)&(COPY_FROM_SEMI==1):\n",
    "        if 'SEMI'in LUT_Dict['LAND_USE'][full_LUT_index]:\n",
    "            LUT_index = full_LUT_index[LUT_Dict['LAND_USE'][full_LUT_index]=='SEMI']\n",
    "            for iSD in range(nSD):\n",
    "                SD_index=np.argmin(np.abs( LUT_Dict['MEAN_DEPTH'][LUT_index] \\\n",
    "                                          -CH_mean_soil_depths[iSD]) )\n",
    "                INDEX=LUT_index[SD_index]\n",
    "                for inname,outname in zip(Const_in_names,Const_out_names):\n",
    "                    CULT_profiles[outname][iSD] += (LUT_Dict[inname][INDEX]*Soil_Series_PC[iSS])\n",
    "            COPY_FROM_CULT=0\n",
    "        else:\n",
    "            COPY_FROM_CULT=1\n",
    "            \n",
    "    if (COPY_FROM_CULT==0)|(COPY_FROM_SEMI==0):\n",
    "        # Sum the percent totals for the case of missing soil series we can normalize\n",
    "        PROFILE_PERCENT+=Soil_Series_PC[iSS]\n",
    "\n",
    "print(PROFILE_PERCENT)\n",
    "if (PROFILE_PERCENT<1)&(PROFILE_PERCENT>0.):\n",
    "    for outname in Const_out_names:\n",
    "        #for each param, at each soil depth, sum the weighted components\n",
    "        CULT_profiles[outname]=CULT_profiles[outname]/PROFILE_PERCENT\n",
    "        SEMI_profiles[outname]=SEMI_profiles[outname]/PROFILE_PERCENT\n",
    "\n",
    "        \n",
    "sscdex=['sand','silt','clay']\n",
    "for dex in sscdex:\n",
    "    print('SEMI -',dex,'-',SEMI_profiles[dex])\n",
    "    print('CULT -',dex,'-',CULT_profiles[dex])\n",
    "    \n",
    "            \n",
    "        "
   ]
  },
  {
   "cell_type": "raw",
   "metadata": {
    "collapsed": false
   },
   "source": [
    "ShRc=ShRcs[6]\n",
    "temp_CHESS_SoilConst={ varname: np.zeros([nSD,ny,nx]) \\\n",
    "                    for varname in Const_out_names  }\n",
    "limits=[int(bbox/1000.) for bbox in ShRc.shape.bbox]\n",
    "#print(limits)\n",
    "x_limits=[limits[0],limits[2]]\n",
    "y_limits=[limits[1],limits[3]]\n",
    "#print(ShRc.shape.points)\n",
    "print(x_limits)\n",
    "print(y_limits)\n",
    "    \n",
    "INpoly=Polygon(ShRc.shape.points)\n",
    "plt.figure(figsize=(15,15))\n",
    "INx,INy=INpoly.exterior.xy\n",
    "plt.plot(INx,INy,label='INpoly')\n",
    "INpoly=INpoly.buffer(0)\n",
    "INx,INy=INpoly.exterior.xy\n",
    "plt.plot(INx,INy,label='INpoly_buffered')\n",
    "plt.legend()\n",
    "for i in range(x_limits[0],x_limits[1]+1):\n",
    "    for j in range(y_limits[0],y_limits[1]+1):\n",
    "        OUTpoly= Polygon( ( (i*1e3,j*1e3), \\\n",
    "                            (i*1e3,j*1e3+1e3), \\\n",
    "                            (i*1e3+1e3,j*1e3+1e3), \\\n",
    "                            (i*1e3+1e3,j*1e3), \\\n",
    "                            (i*1e3,j*1e3), \\\n",
    "                             )  )\n",
    "        OUTx,OUTy=OUTpoly.exterior.xy\n",
    "        plt.plot(OUTx,OUTy)#,label='('+str(i)+','+str(j)+')')\n",
    "        if INpoly.intersects(OUTpoly):\n",
    "            OVERLAP=INpoly.intersection(OUTpoly)\n",
    "            FRACTION=OVERLAP.area/1e6  #  1e6 m^2 in full pixel\n",
    "            #print(FRACTION)\n",
    "            for inname,outname in zip(Const_in_names,Const_out_names):\n",
    "                #for each param, at each soil depth, sum the weighted components\n",
    "                temp_CHESS_SoilConst[outname][:,j,i]+= \\\n",
    "                    ( CULT_profiles[outname] * CHESS_cropFrac[j,i] + \\\n",
    "                       SEMI_profiles[outname] * (1-CHESS_cropFrac[j,i]) ) * \\\n",
    "                    FRACTION\n",
    "                #if outname=='sand':\n",
    "                #    print('output=',temp_CHESS_SoilConst[outname][:,j,i])\n",
    "                #    print('CULT:',CULT_profiles[outname])\n",
    "                #    print( CHESS_cropFrac[j,i])\n",
    "                #    print('SEMI:',SEMI_profiles[outname])\n",
    "                #    print( 1-CHESS_cropFrac[j,i])\n",
    "                #    print(landcover[:,j,i].data)\n",
    "               "
   ]
  },
  {
   "cell_type": "code",
   "execution_count": null,
   "metadata": {
    "collapsed": false
   },
   "outputs": [],
   "source": [
    "CHESS_SoilConst={ varname: np.zeros([nSD,ny,nx]) \\\n",
    "                    for varname in Const_out_names  }\n",
    "TOTAL_FRACTION=np.zeros([ny,nx])\n",
    "#ShRc_index=[]\n",
    "#CHECK_index=[]\n",
    "MAX_SERIES=8\n",
    "for iShRc in range(len(ShRcs)):\n",
    "    #print(iShRc)\n",
    "    ShRc=ShRcs[iShRc]\n",
    "    # Get Soil Series ID and percent lists for shape\n",
    "    series_num=1\n",
    "    Soil_Series_ID=[]\n",
    "    Soil_Series_PC=[]\n",
    "    SIDindex=field_names.index('sercde'+str(series_num))\n",
    "    SPCindex=field_names.index('pcent'+str(series_num))\n",
    "    temp_seriesID=ShRc.record[SIDindex]\n",
    "    temp_seriesPC=ShRc.record[SPCindex]\n",
    "    while (temp_seriesID[:1]!='\\x00')&(series_num<MAX_SERIES):\n",
    "        Soil_Series_ID.append(int(temp_seriesID))\n",
    "        Soil_Series_PC.append(float(temp_seriesPC)/100.)\n",
    "        series_num+=1\n",
    "        SIDindex=field_names.index('sercde'+str(series_num))\n",
    "        SPCindex=field_names.index('pcent'+str(series_num))\n",
    "        temp_seriesID=ShRc.record[SIDindex]\n",
    "        temp_seriesPC=ShRc.record[SPCindex]\n",
    "    \n",
    "    nSS=len(Soil_Series_ID)\n",
    "    if nSS==0:\n",
    "        continue\n",
    "    \n",
    "    # Loop around each soil series and sum weighted components for each Const field\n",
    "    # Create profiles arrays for each output parameter for SEMI and CULT Land uses\n",
    "    SEMI_profiles={ varname: np.zeros([nSD]) for varname in Const_out_names }\n",
    "    CULT_profiles={ varname: np.zeros([nSD]) for varname in Const_out_names }\n",
    "    PROFILE_PERCENT=0\n",
    "    for iSS in range(nSS):\n",
    "        full_LUT_index=np.where(LUT_Dict['SERIES_CODE']==Soil_Series_ID[iSS])[0]\n",
    "        \n",
    "        # Calculate Cultivated and Semi land-use constituent independently, if and where available\n",
    "        # Semi first\n",
    "        if 'SEMI'in LUT_Dict['LAND_USE'][full_LUT_index]:\n",
    "            LUT_index = full_LUT_index[LUT_Dict['LAND_USE'][full_LUT_index]=='SEMI']\n",
    "            # loop over output soil depths\n",
    "            for iSD in range(nSD):\n",
    "                # find closest input SD\n",
    "                SD_index=np.argmin(np.abs( LUT_Dict['MEAN_DEPTH'][LUT_index]\\\n",
    "                                           -CH_mean_soil_depths[iSD]) )\n",
    "                # INDEX of the closest soil depth for the series\n",
    "                INDEX=LUT_index[SD_index]\n",
    "                # Loop over output parameters\n",
    "                for inname,outname in zip(Const_in_names,Const_out_names):\n",
    "                    #for each param, at each soil depth, sum the weighted components\n",
    "                    SEMI_profiles[outname][iSD]+=(LUT_Dict[inname][INDEX]*Soil_Series_PC[iSS])\n",
    "            COPY_FROM_CULT=0\n",
    "        else:\n",
    "            COPY_FROM_CULT=1\n",
    "    \n",
    "        # Next 'CULT\n",
    "        if 'CULT'in LUT_Dict['LAND_USE'][full_LUT_index]:\n",
    "            LUT_index = full_LUT_index[LUT_Dict['LAND_USE'][full_LUT_index]=='CULT']\n",
    "            # loop over output soil depths\n",
    "            for iSD in range(nSD):\n",
    "                # find closest input SD\n",
    "                SD_index=np.argmin(np.abs( LUT_Dict['MEAN_DEPTH'][LUT_index]\\\n",
    "                                           -CH_mean_soil_depths[iSD]) )\n",
    "                # INDEX of the closest soil depth for the series\n",
    "                INDEX=LUT_index[SD_index]\n",
    "                # Loop over output parameters\n",
    "                for inname,outname in zip(Const_in_names,Const_out_names):\n",
    "                    #for each param, at each soil depth, sum the weighted components\n",
    "                    CULT_profiles[outname][iSD] += (LUT_Dict[inname][INDEX]*Soil_Series_PC[iSS])\n",
    "            COPY_FROM_SEMI=0\n",
    "        else:\n",
    "            COPY_FROM_SEMI=1\n",
    "    \n",
    "        # Copy Profile Dictionaries from other land-use type where possible Where neccessary\n",
    "        if (COPY_FROM_CULT==1)&(COPY_FROM_SEMI==0):\n",
    "            if 'CULT'in LUT_Dict['LAND_USE'][full_LUT_index]:\n",
    "                LUT_index = full_LUT_index[LUT_Dict['LAND_USE'][full_LUT_index]=='CULT']\n",
    "                for iSD in range(nSD):\n",
    "                    SD_index=np.argmin(np.abs( LUT_Dict['MEAN_DEPTH'][LUT_index] \\\n",
    "                                              -CH_mean_soil_depths[iSD]) )\n",
    "                    INDEX=LUT_index[SD_index]\n",
    "                    for inname,outname in zip(Const_in_names,Const_out_names):\n",
    "                        SEMI_profiles[outname][iSD] += (LUT_Dict[inname][INDEX]*Soil_Series_PC[iSS])\n",
    "                COPY_FROM_CULT=0\n",
    "            else:\n",
    "                COPY_FROM_CULT=1\n",
    "        elif (COPY_FROM_CULT==0)&(COPY_FROM_SEMI==1):\n",
    "            if 'SEMI'in LUT_Dict['LAND_USE'][full_LUT_index]:\n",
    "                LUT_index = full_LUT_index[LUT_Dict['LAND_USE'][full_LUT_index]=='SEMI']\n",
    "                for iSD in range(nSD):\n",
    "                    SD_index=np.argmin(np.abs( LUT_Dict['MEAN_DEPTH'][LUT_index] \\\n",
    "                                              -CH_mean_soil_depths[iSD]) )\n",
    "                    INDEX=LUT_index[SD_index]\n",
    "                    for inname,outname in zip(Const_in_names,Const_out_names):\n",
    "                        CULT_profiles[outname][iSD] += (LUT_Dict[inname][INDEX]*Soil_Series_PC[iSS])\n",
    "                COPY_FROM_CULT=0\n",
    "            else:\n",
    "                COPY_FROM_CULT=1\n",
    "            \n",
    "        if (COPY_FROM_CULT==0)|(COPY_FROM_SEMI==0):\n",
    "            PROFILE_PERCENT+=Soil_Series_PC[iSS]\n",
    "    \n",
    "    # if Profile Percent = 0 there is no relevent information for the shape so move on\n",
    "    # This will be closest neighbour gap filled later\n",
    "    if PROFILE_PERCENT==0:\n",
    "        continue\n",
    "    \n",
    "    # Now Normalise the Profiles based on the percentage complete\n",
    "    for outname in Const_out_names:\n",
    "        CULT_profiles[outname]=CULT_profiles[outname]/PROFILE_PERCENT\n",
    "        SEMI_profiles[outname]=SEMI_profiles[outname]/PROFILE_PERCENT\n",
    "    \n",
    "    # Calculate the fraction of each overlapping CHESS chess grid square\n",
    "    limits=[int(bbox/1e3) for bbox in ShRc.shape.bbox]\n",
    "    x_limits=[limits[0],limits[2]]\n",
    "    y_limits=[limits[1],limits[3]]\n",
    "    if min(y_limits)>ny:\n",
    "        continue\n",
    "    if min(x_limits)>nx:\n",
    "        continue\n",
    "    INpoly=Polygon(ShRc.shape.points)\n",
    "    INpoly=INpoly.buffer(0)\n",
    "    \n",
    "    for i in range(x_limits[0],x_limits[1]+1):\n",
    "        for j in range(y_limits[0],y_limits[1]+1):\n",
    "            if not CHESS_cropFrac.mask[j,i]:\n",
    "                # CHESS polygons are 1km squares with a LL corner = j,i\n",
    "                OUTpoly= Polygon( ( (i*1e3,j*1e3),\\\n",
    "                                    (i*1e3,j*1e3+1e3),\\\n",
    "                                    (i*1e3+1e3,j*1e3+1e3),\\\n",
    "                                    (i*1e3+1e3,j*1e3),\\\n",
    "                                    (i*1e3,j*1e3),\\\n",
    "                                )  )\n",
    "                # Check for intersecting polygons\n",
    "                if OUTpoly.intersects(INpoly):\n",
    "                    # Get aarea of overlap\n",
    "                    OVERLAP=OUTpoly.intersection(INpoly)\n",
    "                    FRACTION=OVERLAP.area/1e6\n",
    "                    TOTAL_FRACTION[j,i]+=FRACTION\n",
    "                    for inname,outname in zip(Const_in_names,Const_out_names):\n",
    "                        #for each param, at each soil depth, sum the weighted components\n",
    "                        CHESS_SoilConst[outname][:,j,i]+= \\\n",
    "                            ( CULT_profiles[outname] * CHESS_cropFrac[j,i] + \\\n",
    "                              SEMI_profiles[outname] * (1-CHESS_cropFrac[j,i]) ) * \\\n",
    "                            FRACTION\n",
    "    "
   ]
  },
  {
   "cell_type": "code",
   "execution_count": null,
   "metadata": {
    "collapsed": false
   },
   "outputs": [],
   "source": []
  },
  {
   "cell_type": "code",
   "execution_count": null,
   "metadata": {
    "collapsed": false
   },
   "outputs": [],
   "source": [
    "#SAVE_CHECK_index=CHECK_index.copy()\n",
    "#print(len(CHECK_index))\n",
    "#print(len(SAVE_CHECK_index))\n",
    "#shindex_outf=open(SOIL_DIR+'shape_index.dat','w')\n",
    "#shindex_outf.write(CHECK_index)\n",
    "#shindex_outf.close()"
   ]
  },
  {
   "cell_type": "code",
   "execution_count": null,
   "metadata": {
    "collapsed": false
   },
   "outputs": [],
   "source": [
    "#import copy\n",
    "#CHESS_SoilConst_BU=copy.deepcopy(CHESS_SoilConst)\n",
    "#TOTAL_FRACTION_BU=copy.deepcopy(TOTAL_FRACTION)"
   ]
  },
  {
   "cell_type": "code",
   "execution_count": null,
   "metadata": {
    "collapsed": false
   },
   "outputs": [],
   "source": []
  },
  {
   "cell_type": "code",
   "execution_count": null,
   "metadata": {
    "collapsed": false
   },
   "outputs": [],
   "source": [
    "# Filter any locations with a fraction cover less than 20%\n",
    "ZEROindex=np.where(TOTAL_FRACTION<0.2)\n",
    "TOTAL_FRACTION[ZEROindex]=0\n",
    "\n",
    "# Normalise to a TOTAL_Fraction of 1\n",
    "TFindex=np.where(TOTAL_FRACTION>=0.2)\n",
    "for outname in Const_out_names:    \n",
    "    CHESS_SoilConst[outname][:,ZEROindex[0],ZEROindex[1]]=0.\n",
    "    CHESS_SoilConst[outname][:,TFindex[0],TFindex[1]]/= \\\n",
    "            TOTAL_FRACTION[TFindex]\n",
    "    CHESS_SoilConst[outname]=np.ma.masked_equal(CHESS_SoilConst[outname],0.)\n",
    "    CHESS_SoilConst[outname].data[CHESS_SoilConst[outname].mask==True]=fill_value\n",
    "    CHESS_SoilConst[outname].fill_value=fill_value"
   ]
  },
  {
   "cell_type": "code",
   "execution_count": null,
   "metadata": {
    "collapsed": false
   },
   "outputs": [],
   "source": [
    "MAXdex=CHESS_SoilConst['sand'][0,:].argmax()\n",
    "print(MAXdex)\n",
    "print(CHESS_SoilConst['sand'][0,:].max())\n",
    "print(CHESS_SoilConst['sand'][0,:].flat[MAXdex])\n",
    "print(TOTAL_FRACTION.flat[MAXdex])\n",
    "print(CHESS_cropFrac.flat[MAXdex])\n",
    "print(np.where(TOTAL_FRACTION==TOTAL_FRACTION.flat[MAXdex]))"
   ]
  },
  {
   "cell_type": "code",
   "execution_count": null,
   "metadata": {
    "collapsed": false
   },
   "outputs": [],
   "source": [
    "# Normalise sand/silt/clay fractions\n",
    "TOTAL_SSC=(CHESS_SoilConst['sand']+CHESS_SoilConst['silt']+CHESS_SoilConst['clay'])/100.\n",
    "for soil_comp in ['sand','silt','clay']:\n",
    "    CHESS_SoilConst[soil_comp]/=TOTAL_SSC\n"
   ]
  },
  {
   "cell_type": "code",
   "execution_count": null,
   "metadata": {
    "collapsed": false
   },
   "outputs": [],
   "source": [
    "for var in CHESS_SoilConst:\n",
    "    print(var)"
   ]
  },
  {
   "cell_type": "code",
   "execution_count": null,
   "metadata": {
    "collapsed": false
   },
   "outputs": [],
   "source": [
    "\n",
    "###############################################################\n",
    "# Output data to netCDF file:\n",
    "###############################\n",
    "outf=nc.Dataset(OUTFILE,'w')\n",
    "\n",
    "# Create Dimensions\n",
    "outf.createDimension('x',nx)\n",
    "outf.createDimension('y',ny)\n",
    "outf.createDimension('z',nSD)\n",
    "\n",
    "# write out dimension variables\n",
    "for var in ['x','y']:\n",
    "    outvar=outf.createVariable(var,'float32',(var))\n",
    "    for att in LLinf.variables[var].ncattrs():\n",
    "        outvar.setncattr(str(att),LLinf.variables[var].getncattr(str(att)))\n",
    "    outvar[:]=LLinf.variables[var][:]\n",
    "\n",
    "outvar=outf.createVariable('z','float32',('z'))\n",
    "outvar.units='m'\n",
    "outvar.long_name='lower soil depth'\n",
    "outvar[:]=CH_soil_depths\n",
    "\n",
    "# Loop around soil parameters and \n",
    "for var in CHESS_SoilConst:\n",
    "    outvar=outf.createVariable(var,'float32',('z','y','x'),fill_value=fill_value)\n",
    "    if var=='ph':\n",
    "        outvar.units='pH'\n",
    "    else:\n",
    "        outvar.units='percent'\n",
    "    outvar[:]=CHESS_SoilConst[var]\n",
    "    \n",
    "outf.close()\n"
   ]
  },
  {
   "cell_type": "code",
   "execution_count": null,
   "metadata": {
    "collapsed": false
   },
   "outputs": [],
   "source": []
  },
  {
   "cell_type": "code",
   "execution_count": null,
   "metadata": {
    "collapsed": false
   },
   "outputs": [],
   "source": [
    "plt.figure(figsize=(20,10))\n",
    "plt.subplot(1,2,1)\n",
    "plt.hist(TOTAL_FRACTION[TOTAL_FRACTION>0],range=(0,2))\n",
    "plt.subplot(1,2,2)\n",
    "plt.imshow(TOTAL_FRACTION[500:,:500],origin='bottom')\n",
    "plt.colorbar()\n",
    "print(np.max(TOTAL_FRACTION))\n",
    "print(np.min(TOTAL_FRACTION))\n",
    "print(np.mean(TOTAL_FRACTION))"
   ]
  },
  {
   "cell_type": "code",
   "execution_count": null,
   "metadata": {
    "collapsed": false,
    "scrolled": true
   },
   "outputs": [],
   "source": [
    "plotdata=(CHESS_SoilConst['sand'])#+CHESS_SoilConst['silt']+CHESS_SoilConst['clay'])/100.\n",
    "plt.figure(figsize=(15,15))\n",
    "for iSD in range(4):\n",
    "    print(iSD,plotdata.max(),plotdata.min(),plotdata.mean())\n",
    "    plt.subplot(2,2,iSD+1)\n",
    "    plt.imshow(plotdata[iSD,500:,:500],origin='bottom')#,vmax=1.1,vmin=0.9)\n",
    "    plt.colorbar()\n",
    "    "
   ]
  },
  {
   "cell_type": "code",
   "execution_count": null,
   "metadata": {
    "collapsed": true
   },
   "outputs": [],
   "source": []
  },
  {
   "cell_type": "code",
   "execution_count": null,
   "metadata": {
    "collapsed": false
   },
   "outputs": [],
   "source": [
    "plt.figure(figsize=(20,8))\n",
    "\n",
    "plotdata=CHESS_SoilConst['sand']\n",
    "plt.subplot(1,3,1)\n",
    "plt.imshow(plotdata[0,500:,:500],origin='bottom',vmax=150,vmin=0)\n",
    "plt.colorbar()\n",
    "\n",
    "plotdata=CHESS_SoilConst['sand']-CHESS_SoilConst_BU['sand']\n",
    "plt.subplot(1,3,2)\n",
    "plt.imshow(plotdata[0,500:,:500],origin='bottom',cmap='RdBu')\n",
    "plt.colorbar()\n",
    "\n",
    "plotdata=CHESS_SoilConst_BU['sand']\n",
    "plt.subplot(1,3,3)\n",
    "plt.imshow(plotdata[0,500:,:500],origin='bottom',vmax=150,vmin=0)\n",
    "plt.colorbar()\n"
   ]
  },
  {
   "cell_type": "code",
   "execution_count": null,
   "metadata": {
    "collapsed": false
   },
   "outputs": [],
   "source": [
    "plt.figure(figsize=(15,7))\n",
    "plt.subplot(1,2,1)\n",
    "plt.imshow(TOTAL_FRACTION[500:,:500],origin='bottom',vmax=1.1)\n",
    "plt.colorbar()\n",
    "plt.subplot(1,2,2)\n",
    "plt.imshow((1-CHESS_cropFrac[500:,:500]),origin='bottom')\n",
    "plt.colorbar()"
   ]
  },
  {
   "cell_type": "code",
   "execution_count": null,
   "metadata": {
    "collapsed": false
   },
   "outputs": [],
   "source": [
    "#from shapely.geometry import Polygon\n",
    "#print(nx,ny)\n",
    "print(landcover.shape)\n",
    "TOTAL_FRACTION=np.zeros([ny,nx])"
   ]
  },
  {
   "cell_type": "code",
   "execution_count": null,
   "metadata": {
    "collapsed": false
   },
   "outputs": [],
   "source": [
    "#j,i=842,288\n",
    "j,i=594,258\n",
    "print(TOTAL_FRACTION[j,i])\n",
    "outname='sand'\n",
    "#print(CHESS_SoilConst['sand'][:,j,i])\n",
    "#print(CHESS_SoilConst['silt'][:,j,i])\n",
    "#print(CHESS_SoilConst['clay'][:,j,i])\n",
    "\n",
    "print(CHESS_SoilConst[outname][:,j,i])\n",
    "print(CULT_profiles[outname])\n",
    "print(CHESS_cropFrac[j,i])\n",
    "print(SEMI_profiles[outname])\n"
   ]
  },
  {
   "cell_type": "code",
   "execution_count": null,
   "metadata": {
    "collapsed": false,
    "scrolled": true
   },
   "outputs": [],
   "source": [
    "print(x_limits[0],x_limits[1])\n",
    "print(y_limits[0],y_limits[1])\n",
    "print(CHESS_SoilConst['sand'].shape)\n",
    "print(CHESS_SoilConst['sand'][:,y_limits[0]:y_limits[1]+1,x_limits[0]:x_limits[1]+1])"
   ]
  },
  {
   "cell_type": "code",
   "execution_count": null,
   "metadata": {
    "collapsed": false
   },
   "outputs": [],
   "source": [
    "plt.figure(figsize=(15,15))\n",
    "for iShRc in ShRc_index:\n",
    "    ShRc=ShRcs[iShRc]\n",
    "    INpoly=Polygon(ShRc.shape.points)\n",
    "    x,y=INpoly.exterior.xy\n",
    "    plt.plot(x,y)\n",
    "\n",
    "    "
   ]
  },
  {
   "cell_type": "code",
   "execution_count": null,
   "metadata": {
    "collapsed": false,
    "scrolled": true
   },
   "outputs": [],
   "source": []
  },
  {
   "cell_type": "code",
   "execution_count": null,
   "metadata": {
    "collapsed": false
   },
   "outputs": [],
   "source": []
  },
  {
   "cell_type": "code",
   "execution_count": null,
   "metadata": {
    "collapsed": false
   },
   "outputs": [],
   "source": [
    "MASK_4level=np.array( [TOTAL_FRACTION==0 for i in range(nSD)])\n",
    "print(MASK_4level.shape)"
   ]
  },
  {
   "cell_type": "code",
   "execution_count": null,
   "metadata": {
    "collapsed": false
   },
   "outputs": [],
   "source": [
    "# Fill missing values laterally:\n",
    "# Sum soil components, this should sum to 100%\n",
    "total_soil=CHESS_SoilConst['clay']+CHESS_SoilConst['silt']+CHESS_SoilConst['sand']\n",
    "# loop over soil depths\n",
    "for iSD in range(nSD): \n",
    "    badex=np.where(total_soil.data[iSD,:]==0.0)\n",
    "    goodex=np.where(total_soil.data[iSD,:]>99.0)\n",
    "    goodex = [ good.astype(float) for good in goodex ]\n",
    "    for iBAD in zip(badex[0],badex[1]):\n",
    "        closest_good=np.argmin( np.abs( (goodex[0]-iBAD[0]) + (goodex[1]-iBAD[1]) ) )\n",
    "        closest_good=int(closest_good)\n",
    "        #print(iBAD,(goodex[0][closest_good],goodex[1][closest_good]))\n",
    "    \n",
    "    goodex = [ good.astype(int) for good in goodex ]\n",
    "    for name in ['sand','silt','clay']:\n",
    "        CHESS_SoilConst[name][iSD,badex[0],badex[1]] = \\\n",
    "            CHESS_SoilConst[name][iSD,goodex[0][closest_good],goodex[1][closest_good]]\n",
    "        \n",
    "total_soil=CHESS_SoilConst['clay']+CHESS_SoilConst['silt']+CHESS_SoilConst['sand']\n",
    "for name in ['sand','silt','clay']:\n",
    "    CHESS_SoilConst[name] = CHESS_SoilConst[name] * 100. / total_soil\n",
    "    "
   ]
  },
  {
   "cell_type": "code",
   "execution_count": null,
   "metadata": {
    "collapsed": false
   },
   "outputs": [],
   "source": []
  },
  {
   "cell_type": "code",
   "execution_count": null,
   "metadata": {
    "collapsed": false
   },
   "outputs": [],
   "source": [
    "\n"
   ]
  },
  {
   "cell_type": "code",
   "execution_count": null,
   "metadata": {
    "collapsed": false
   },
   "outputs": [],
   "source": []
  },
  {
   "cell_type": "code",
   "execution_count": null,
   "metadata": {
    "collapsed": false
   },
   "outputs": [],
   "source": []
  },
  {
   "cell_type": "code",
   "execution_count": null,
   "metadata": {
    "collapsed": false,
    "scrolled": true
   },
   "outputs": [],
   "source": [
    "\n"
   ]
  },
  {
   "cell_type": "code",
   "execution_count": null,
   "metadata": {
    "collapsed": false
   },
   "outputs": [],
   "source": []
  },
  {
   "cell_type": "code",
   "execution_count": null,
   "metadata": {
    "collapsed": false
   },
   "outputs": [],
   "source": []
  },
  {
   "cell_type": "code",
   "execution_count": null,
   "metadata": {
    "collapsed": false
   },
   "outputs": [],
   "source": []
  },
  {
   "cell_type": "code",
   "execution_count": null,
   "metadata": {
    "collapsed": true
   },
   "outputs": [],
   "source": []
  }
 ],
 "metadata": {
  "kernelspec": {
   "display_name": "Python 3",
   "language": "python",
   "name": "python3"
  },
  "language_info": {
   "codemirror_mode": {
    "name": "ipython",
    "version": 3
   },
   "file_extension": ".py",
   "mimetype": "text/x-python",
   "name": "python",
   "nbconvert_exporter": "python",
   "pygments_lexer": "ipython3",
   "version": "3.5.2"
  }
 },
 "nbformat": 4,
 "nbformat_minor": 0
}
