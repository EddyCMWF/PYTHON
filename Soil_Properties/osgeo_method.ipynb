{
 "cells": [
  {
   "cell_type": "code",
   "execution_count": null,
   "metadata": {
    "collapsed": false
   },
   "outputs": [],
   "source": [
    "import os, sys\n",
    "import numpy as np\n",
    "import netCDF4 as nc\n",
    "import matplotlib.pyplot as plt\n",
    "#import gdal\n",
    "from osgeo import gdal, gdalnumeric, ogr, osr\n",
    "from PIL import Image, ImageDraw\n",
    "import pyproj \n",
    "\n",
    "gdal.UseExceptions()"
   ]
  },
  {
   "cell_type": "code",
   "execution_count": null,
   "metadata": {
    "collapsed": true
   },
   "outputs": [],
   "source": [
    "SOIL_DIR='/prj/GREENHOUSE/SOIL_PROPERTIES/datasets/England_Wales_Soil_Data/LDE16_12_SRUC_Tarsitano/Spatial Soil Data/'\n",
    "shp_file=SOIL_DIR+'NATMAPtopsoiltexture.shp'\n",
    "\n",
    "raster_fn=SOIL_DIR+'NATMAPtopsoiltexture.tif'\n",
    "LatLon_file='/users/eow/edwcom/CHESS/chess_landcover_2000.nc'\n",
    "\n"
   ]
  },
  {
   "cell_type": "code",
   "execution_count": null,
   "metadata": {
    "collapsed": true
   },
   "outputs": [],
   "source": [
    "\n",
    "driverName='ESRI Shapefile'\n",
    "drv=ogr.GetDriverByName(driverName)\n",
    "dataSource=drv.Open(shp_file)\n",
    "\n",
    "Layer=dataSource.GetLayer()\n"
   ]
  },
  {
   "cell_type": "code",
   "execution_count": null,
   "metadata": {
    "collapsed": false
   },
   "outputs": [],
   "source": [
    "source_srs = Layer.GetSpatialRef()\n",
    "print(source_srs)\n",
    "x_min,x_max,y_min,y_max=Layer.GetExtent()\n",
    "print(x_min,x_max,y_min,y_max)"
   ]
  },
  {
   "cell_type": "code",
   "execution_count": null,
   "metadata": {
    "collapsed": false
   },
   "outputs": [],
   "source": [
    "NoData_value=-9999\n",
    "\n",
    "# Create the destination data source\n",
    "pixel_size=25\n",
    "x_res = int((x_max - x_min) / pixel_size)\n",
    "y_res = int((y_max - y_min) / pixel_size)\n",
    "target_ds = gdal.GetDriverByName('GTiff').Create(raster_fn, x_res, y_res, gdal.GDT_Byte)\n",
    "target_ds.SetGeoTransform((x_min, pixel_size, 0, y_max, 0, -pixel_size))\n",
    "band = target_ds.GetRasterBand(1)\n",
    "band.SetNoDataValue(NoData_value)\n"
   ]
  },
  {
   "cell_type": "raw",
   "metadata": {
    "collapsed": true
   },
   "source": [
    "NoData_value=-9999\n",
    "\n",
    "x_res = 1000 #int((x_max - x_min) / pixel_size)\n",
    "y_res = 1000 #int((y_max - y_min) / pixel_size)\n",
    "x_size = int((x_max - x_min) / x_res)\n",
    "y_size = int((y_max - y_min) / y_res)\n",
    "print(x_res,y_res)\n",
    "print(x_size,y_size)\n",
    "target_ds = gdal.GetDriverByName('GTiff').Create(raster_fn, x_res, y_res, gdal.GDT_Byte)\n",
    "target_ds.SetGeoTransform((x_min, x_size, 0, y_max, 0, -y_size))\n",
    "band = target_ds.GetRasterBand(1)\n",
    "band.SetNoDataValue(NoData_value)\n"
   ]
  },
  {
   "cell_type": "code",
   "execution_count": null,
   "metadata": {
    "collapsed": false
   },
   "outputs": [],
   "source": [
    "# Rasterize\n",
    "gdal.RasterizeLayer(target_ds, [1], Layer, burn_values=[0])\n"
   ]
  },
  {
   "cell_type": "code",
   "execution_count": null,
   "metadata": {
    "collapsed": false
   },
   "outputs": [],
   "source": [
    "osgb36=pyproj.Proj('+proj=tmerc +lat_0=49 +lon_0=-2 +k=0.9996012717 +x_0=400000 +y_0=-100000 +ellps=airy +datum=OSGB36 +units=m +no_defs' ) # UK Ordnance Survey, 1936 datum \n",
    "\n"
   ]
  },
  {
   "cell_type": "code",
   "execution_count": null,
   "metadata": {
    "collapsed": false
   },
   "outputs": [],
   "source": [
    "# Read LatLon file\n",
    "LLinf=nc.Dataset(LatLon_file,'r')\n",
    "lats=LLinf.variables['lat'][:]\n",
    "lons=LLinf.variables['lon'][:]\n",
    "LLinf.close()"
   ]
  },
  {
   "cell_type": "raw",
   "metadata": {},
   "source": [
    "Layer.GetName()\n",
    "LYR_defn=Layer.GetLayerDefn()\n",
    "\n",
    "for i in range(LYR_defn.GetFieldCount()):\n",
    "    fieldName=LYR_defn.GetFieldDefn(i).GetName()\n",
    "    fieldTypeCode = LYR_defn.GetFieldDefn(i).GetType()\n",
    "    fieldType = LYR_defn.GetFieldDefn(i).GetFieldTypeName(fieldTypeCode)\n",
    "    fieldWidth = LYR_defn.GetFieldDefn(i).GetWidth()\n",
    "    GetPrecision = LYR_defn.GetFieldDefn(i).GetPrecision()\n",
    "    \n",
    "    print(fieldName + \" - \" + fieldType+ \" \" + str(fieldWidth) + \" \" + str(GetPrecision))\n",
    "    "
   ]
  },
  {
   "cell_type": "raw",
   "metadata": {},
   "source": [
    "#for FEAT in Layer:\n",
    "#    print(FEAT.GetField('TEXTURE'))"
   ]
  },
  {
   "cell_type": "raw",
   "metadata": {},
   "source": [
    "'''\n",
    "for FEAT in Layer[:10]:\n",
    "    geom=FEAT.GetGeometryRef()\n",
    "    print(geom.Centroid().ExportToWkt())\n",
    "    '''\n",
    "len(Layer)    \n",
    "    "
   ]
  },
  {
   "cell_type": "code",
   "execution_count": null,
   "metadata": {
    "collapsed": false
   },
   "outputs": [],
   "source": [
    "\n"
   ]
  },
  {
   "cell_type": "code",
   "execution_count": null,
   "metadata": {
    "collapsed": true
   },
   "outputs": [],
   "source": []
  }
 ],
 "metadata": {
  "kernelspec": {
   "display_name": "Python 3",
   "language": "python",
   "name": "python3"
  },
  "language_info": {
   "codemirror_mode": {
    "name": "ipython",
    "version": 3
   },
   "file_extension": ".py",
   "mimetype": "text/x-python",
   "name": "python",
   "nbconvert_exporter": "python",
   "pygments_lexer": "ipython3",
   "version": "3.5.2"
  }
 },
 "nbformat": 4,
 "nbformat_minor": 0
}
