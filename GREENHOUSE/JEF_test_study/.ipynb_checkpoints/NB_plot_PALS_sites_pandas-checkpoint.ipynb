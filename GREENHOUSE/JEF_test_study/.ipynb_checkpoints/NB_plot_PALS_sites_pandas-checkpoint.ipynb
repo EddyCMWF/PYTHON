{
 "cells": [
  {
   "cell_type": "code",
   "execution_count": 1,
   "metadata": {
    "collapsed": false,
    "scrolled": false
   },
   "outputs": [],
   "source": [
    "\n",
    "import netCDF4 as nc\n",
    "#import netcdftime as nctime\n",
    "import numpy as np\n",
    "import scipy.stats as stats\n",
    "import matplotlib.pyplot as plt\n",
    "import matplotlib.dates as mdates\n",
    "import glob, sys, os\n",
    "import csv\n",
    "import pandas as pd\n",
    "\n",
    "# ECP modules\n",
    "import PlotTools.plot_tools as PT\n",
    "import data_info_PALS as datainfo\n",
    "from maths_tools import TimeSeriesTools as TST\n",
    "\n",
    "plt.rcParams['figure.figsize']=(20,12)\n",
    "%matplotlib inline\n",
    "\n"
   ]
  },
  {
   "cell_type": "code",
   "execution_count": 2,
   "metadata": {
    "collapsed": false
   },
   "outputs": [
    {
     "data": {
      "text/plain": [
       "[<matplotlib.lines.Line2D at 0x7f9b2fe8c2e8>]"
      ]
     },
     "execution_count": 2,
     "metadata": {},
     "output_type": "execute_result"
    },
    {
     "data": {
      "image/png": "[encoded data removed]",
      "text/plain": [
       "<matplotlib.figure.Figure at 0x7f9b2ffcb908>"
      ]
     },
     "metadata": {},
     "output_type": "display_data"
    }
   ],
   "source": [
    "INTERACTIVE='Y'\n",
    "iDISPLAY='Y'\n",
    "\n",
    "########################################\n",
    "# Constants and options\n",
    "kgC_to_umolsCO2_factor = (1./12.)* 1e9\n",
    "seconds_in_year = 60.*60.*24.*365.\n",
    "Lc_H2O = 2.501e6\n",
    "SITE_colour = 'red'\n",
    "JULES_colour= 'green'\n",
    "\n",
    "#LC_names = ['Broadleaf','Needleleaf','C3 grass','C4 Grass','shrub',\\\n",
    "#            'urban','lake','soil','ice']\n",
    "LC_names = ['Tree','Tree','Grass','Grass','shrub',\\\n",
    "            'urban','lake','soil','ice']\n",
    "nLCs = len(LC_names)\n",
    "LC_markers = [ 'x','+','v','^','D',\\\n",
    "               's','p','o','h']\n",
    "LC_mews    = [ 2,2,0,0,0,\\\n",
    "               0,0,0,0]\n",
    "LC_symsizes= [ 80 for i in range(nLCs) ]\n",
    "LC_handles = [ plt.Line2D((0,1),(0,0), color='k', marker=LC_markers[iLC], linestyle='') for iLC in range(nLCs) ]\n",
    "\n",
    "SEAS_names=['DJF','MAM','JJA','SON']\n",
    "nSEAS=4\n",
    "\n",
    "###################################\n",
    "# Directories and filenames\n",
    "PALS_dir = '/prj/GREENHOUSE/PALS_comparison/'\n",
    "site_metadata_file = PALS_dir+'sites_meta_plot.csv'\n",
    "site_frac_file = PALS_dir+'sites_julesfracs.dat'\n",
    "#\n",
    "JULES_output_dir = PALS_dir+'output/'\n",
    "#\n",
    "SITE_data_dir = '/data/grp/fluxdata/PALS_sites_ECP/'\n",
    "#\n",
    "BASE_plot_dir = PALS_dir+'plots/'\n",
    "\n",
    "###################################\n",
    "# Read in meta data\n",
    "meta_data=list(csv.reader(open(site_metadata_file,'r')))\n",
    "meta_data_hdrs=meta_data.pop(0)\n",
    "\n",
    "site_frac_dat = list(csv.reader(open(site_frac_file,'r'),delimiter='-'))\n",
    "frac_list = [line[1][1:] for line in site_frac_dat]\n",
    "\n",
    "###################################\n",
    "# Fetch JULES sources info\n",
    "JULES_sources = datainfo.JULES_sources()\n",
    "\n",
    "plt.plot(np.arange(100))\n"
   ]
  },
  {
   "cell_type": "code",
   "execution_count": 3,
   "metadata": {
    "collapsed": false
   },
   "outputs": [
    {
     "name": "stdout",
     "output_type": "stream",
     "text": [
      "Plot time-series? (Y/N) \n",
      "Plot LHF and SHF scatter? (Y/N) N\n",
      "Plot NEE and GPP scatter? (Y/N) N\n",
      "Plot LHF vs GPP scatter? (Y/N) N\n",
      "Plot CO2 flux time-series breakdown? (Y/N) Y\n",
      "Plot scatter and Taylor diagrams of C uptake for all sites? (Y/N) N\n",
      "Plot scatter and Taylor diagrams of Heat  uptake for all sites? (Y/N) N\n",
      "Plot diurnal behaviour of GPP and NEE (Y/N) N\n",
      "Plot seasonal diurnal behaviour of GPP and NEE (Y/N) N\n",
      "Plot scatter and Taylor diagrams of diurnal amplitudes for all site (Y/N) N\n",
      "Plot seasonal scatter and Taylor diagrams of diurnal amplitudes for all site (Y/N) N\n",
      "Plot diurnal behaviour of GPP, NEE and RESP (Y/N) N\n",
      "Plot seasonal diurnal behaviour of GPP and NEE and RESP (Y/N) N\n"
     ]
    }
   ],
   "source": [
    "\n",
    "PLOTS=''\n",
    "if (INTERACTIVE=='Y'):\n",
    "    PLOTS+=input('Plot time-series? (Y/N) ')  # PLOTS[0]\n",
    "    PLOTS+=input('Plot LHF and SHF scatter? (Y/N) ')  # PLOTS[1] \n",
    "    PLOTS+=input('Plot NEE and GPP scatter? (Y/N) ')  # PLOTS[2]\n",
    "    PLOTS+=input('Plot LHF vs GPP scatter? (Y/N) ')  # PLOTS[3]\n",
    "    PLOTS+=input('Plot CO2 flux time-series breakdown? (Y/N) ')  # PLOTS[4]\n",
    "    PLOTS+=input('Plot scatter and Taylor diagrams of C uptake for all sites? (Y/N) ')  # PLOTS[5]\n",
    "    PLOTS+=input('Plot scatter and Taylor diagrams of Heat  uptake for all sites? (Y/N) ')  # PLOTS[6]\n",
    "    PLOTS+='N' #raw_input('(Y/N) ')  # PLOTS[7]\n",
    "    PLOTS+='N' #raw_input('(Y/N) ')  # PLOTS[8]\n",
    "    PLOTS+='N' #raw_input('(Y/N) ')  # PLOTS[9]\n",
    "    PLOTS+=input('Plot diurnal behaviour of GPP and NEE (Y/N) ')  # PLOTS[10]\n",
    "    PLOTS+=input('Plot seasonal diurnal behaviour of GPP and NEE (Y/N) ')  # PLOTS[11]\n",
    "    PLOTS+=input('Plot scatter and Taylor diagrams of diurnal amplitudes for all site (Y/N) ')  # PLOTS[12]\n",
    "    PLOTS+=input('Plot seasonal scatter and Taylor diagrams of diurnal amplitudes for all site (Y/N) ')  # PLOTS[13]\n",
    "    PLOTS+=input('Plot diurnal behaviour of GPP, NEE and RESP (Y/N) ')  # PLOTS[14]\n",
    "    PLOTS+=input('Plot seasonal diurnal behaviour of GPP and NEE and RESP (Y/N) ')  # PLOTS[15]\n",
    "else:\n",
    "    PLOTS='YNNNYNNNNNNNNNNN'\n"
   ]
  },
  {
   "cell_type": "code",
   "execution_count": 4,
   "metadata": {
    "collapsed": false
   },
   "outputs": [
    {
     "name": "stdout",
     "output_type": "stream",
     "text": [
      "Available sites: \n",
      " #            Site        Country  latitude longitude\n",
      "  0:        Amplero          Italy   41.9041   13.6052\n",
      "  1:        Audubon  United States   31.5907   -110.51\n",
      "  2:       Blodgett  United States   38.8952  -120.633\n",
      "  3:          Bondv  United States   40.0062  -88.2904\n",
      "  4:         Boreas         Canada   55.8796  -98.4808\n",
      "  5:       Brooking  United States   44.3453  -96.8362\n",
      "  6:          Bugac        Hungary   46.6911   19.6013\n",
      "  7:         Cabauw    Netherlands    51.971     4.927\n",
      "  8:         Castel          Italy   41.7052   12.3761\n",
      "  9:         Degero         Sweden   64.1833     19.55\n",
      " 10:        ElSaler          Spain    39.346  -0.31881\n",
      " 11:        Espirra       Portugal   38.6394   -8.6018\n",
      " 12:       FortPeck  United States   48.3077  -105.102\n",
      " 13:        Goodwin  United States   34.2547  -89.8735\n",
      " 14:        Harvard  United States   42.5378  -72.1715\n",
      " 15:          Hesse         France   48.6742   7.06462\n",
      " 16:       Howlandm  United States   45.2041  -68.7402\n",
      " 17:       Hyytiala        Finland   61.8474   24.2948\n",
      " 18:       Kaamanen        Finland   69.1407    27.295\n",
      " 19:         Loobos    Netherlands   52.1679   5.74396\n",
      " 20:        Majadas          Spain   39.9415  -5.77336\n",
      " 21:       Merbleue         Canada   45.4094  -75.5186\n",
      " 22:         Mopane       Botswana  -19.9155   23.5605\n",
      " 23:        Quebecc         Canada   49.2671  -74.0365\n",
      " 24:        Quebecf         Canada   49.6925  -74.3421\n",
      " 25:         Rocca1          Italy   42.4081     11.93\n",
      " 26:         Rocca2          Italy   42.3903   11.9209\n",
      " 27:          Sodan        Finland   67.3619   26.6378\n",
      " 28:       Sylvania  United States    46.242  -89.3477\n",
      " 29:       Tharandt        Germany   50.9636   13.5669\n",
      " 30:          Tonzi  United States   38.4316  -120.966\n",
      " 31:          Tumba      Australia  -35.6557   148.152\n",
      " 32:        UniMich  United States   45.5598  -84.7138\n",
      " 33:         Willow  United States   45.8059  -90.0799\n",
      "Enter flux site: 9\n",
      "SITE =  9 Degero\n"
     ]
    }
   ],
   "source": [
    "\n",
    "################################################################################\n",
    "# Select a site from the list of available sites\n",
    "if (INTERACTIVE=='Y'):\n",
    "    print('Available sites: ')\n",
    "    print('%3s%15s%15s%10s%10s' % (' # ','Site','Country','latitude','longitude'))\n",
    "    for i, site_meta in zip(range(len(meta_data)),meta_data):\n",
    "        print( '%3s:%15s%15s%10s%10s' % (i, site_meta[0].strip(), \\\n",
    "                                            site_meta[1].strip(), \\\n",
    "                                            site_meta[7].strip(), \\\n",
    "                                            site_meta[8].strip()) )\n",
    "    \n",
    "    SITE = int(input('Enter flux site: '))\n",
    "else:\n",
    "    SITE=9\n",
    "    \n",
    "print('SITE = ',SITE,meta_data[SITE][0].strip())"
   ]
  },
  {
   "cell_type": "code",
   "execution_count": 5,
   "metadata": {
    "collapsed": false
   },
   "outputs": [
    {
     "name": "stdout",
     "output_type": "stream",
     "text": [
      "Available JULES sources: \n",
      "  0:                   Jvn4.5\n",
      "  1:         Jvn4.5_notriffid\n",
      "  2:                 Jvn4.3.1\n",
      "  3:               Jvn4.3.1-E\n",
      "  4:          Jvn4.3.1-E-preN\n",
      "  5:             Jvn4.3.1-E-F\n",
      "  6:        Jvn4.3.1-E-F-preN\n",
      "  7:      Jvn4.3.1-E-F_repara\n",
      "  8:         Jvn4.3.1-E-F-DOC\n",
      "  9:        Jvn4.3.1-E-F-varN\n",
      " 10: Jvn4.3.1-E-F-repara-varN\n",
      " 11:        Jvn4.3.1-E-F-lowN\n",
      "Enter JULES sources to plot sepeated by commas, for all sources enter ALL: 1\n",
      "nJSOURCES, J_SOURCES =  1 ['Jv4.5_notriffid']\n"
     ]
    }
   ],
   "source": [
    "######################################################################################\n",
    "# Select JULES source[s]\n",
    "if (INTERACTIVE=='Y'):\n",
    "    print('Available JULES sources: ')\n",
    "    for i,Jsource in zip(range(len(JULES_sources)),JULES_sources):\n",
    "        print('%3s:%25s' % (i,Jsource[0]) )\n",
    "\n",
    "    source_temp = input('Enter JULES sources to plot sepeated by commas, '+\\\n",
    "                            'for all sources enter ALL: ')\n",
    "    if source_temp=='ALL':\n",
    "        J_SOURCES = range(len(JULES_sources))\n",
    "    else:\n",
    "        J_SOURCES = [int(source) for source in source_temp.split(',')]\n",
    "\n",
    "    del source_temp\n",
    "else:\n",
    "    J_SOURCES=[0,1]\n",
    "    \n",
    "nJSOURCES = len(J_SOURCES)\n",
    "J_names = [JULES_sources[iSOURCE][1]['longname'] for iSOURCE in J_SOURCES]\n",
    "print('nJSOURCES, J_SOURCES = ',nJSOURCES,J_names)\n",
    "\n",
    "# construct list of inputs required for plotting later:\n",
    "PS_names  = [ 'Site' ] + J_names \n",
    "PS_colours = [ SITE_colour ] + [JULES_sources[iSOURCE][1]['colour'] for iSOURCE in J_SOURCES]\n",
    "nPS = len(PS_names)\n",
    "PS_handles = [plt.Line2D((0,1),(0,0),color=PS_colours[iPS],lw=3) for iPS in range(nPS)] \n"
   ]
  },
  {
   "cell_type": "code",
   "execution_count": 6,
   "metadata": {
    "collapsed": false
   },
   "outputs": [
    {
     "name": "stdout",
     "output_type": "stream",
     "text": [
      "Available time resolutions: \n",
      "0 - tstep\n",
      "1 - day\n",
      "Select a time resolution: 1\n"
     ]
    }
   ],
   "source": [
    "\n",
    "#######################################################################################\n",
    "# T resolution\n",
    "Tres_names = ['tstep','day']\n",
    "Tres_Stags = ['','_daily']\n",
    "if INTERACTIVE=='Y':\n",
    "    print('Available time resolutions: ')\n",
    "    for iTRES in range(len(Tres_names)):\n",
    "        print( iTRES, '- '+Tres_names[iTRES])\n",
    "    iTRES = int(input('Select a time resolution: '))\n",
    "else:\n",
    "    iTRES = 1\n",
    "\n",
    "Tres = Tres_names[iTRES]\n",
    "Tres_Stag= Tres_Stags[iTRES]\n",
    "\n"
   ]
  },
  {
   "cell_type": "code",
   "execution_count": 7,
   "metadata": {
    "collapsed": false
   },
   "outputs": [
    {
     "name": "stdout",
     "output_type": "stream",
     "text": [
      "Plot output directory: /prj/GREENHOUSE/PALS_comparison/plots/temp/\n",
      "Enter alternative plot output directory or hit return to continue: \n"
     ]
    }
   ],
   "source": [
    "# Optional plot_dir input\n",
    "plot_dir=BASE_plot_dir+'temp/'\n",
    "if (INTERACTIVE=='Y'):\n",
    "    print('Plot output directory: '+plot_dir)\n",
    "    plot_dir_temp=input('Enter alternative plot output directory or hit return to continue: ')\n",
    "    if (len(plot_dir_temp)>0):\n",
    "        plot_dir=plot_dir_temp\n",
    "        \n",
    "        "
   ]
  },
  {
   "cell_type": "code",
   "execution_count": 8,
   "metadata": {
    "collapsed": false
   },
   "outputs": [
    {
     "name": "stdout",
     "output_type": "stream",
     "text": [
      "Site: Degero\n",
      "Plots saved in: /prj/GREENHOUSE/PALS_comparison/plots/temp/Degero/\n"
     ]
    }
   ],
   "source": [
    "temp_frac = frac_list[SITE].split()\n",
    "site_meta=meta_data[SITE]\n",
    "frac=np.array(temp_frac,dtype='float')\n",
    "site_name=site_meta[0].strip()\n",
    "site_country=site_meta[1].strip()\n",
    "site_vegtype=site_meta[2].strip()\n",
    "site_canht=site_meta[3].strip()\n",
    "site_measht=site_meta[4].strip()\n",
    "site_lat=site_meta[7].strip()\n",
    "site_lon=site_meta[8].strip()\n",
    "\n",
    "site_pft=temp_frac.index(max(temp_frac))\n",
    "site_marker=LC_markers[temp_frac.index(max(temp_frac))]\n",
    "\n",
    "site_plot_dir = plot_dir+site_name+'/'\n",
    "os.system('mkdir -p '+site_plot_dir)\n",
    "\n",
    "print('Site: '+site_name)\n",
    "print('Plots saved in: '+site_plot_dir)\n"
   ]
  },
  {
   "cell_type": "code",
   "execution_count": 10,
   "metadata": {
    "collapsed": false
   },
   "outputs": [
    {
     "name": "stdout",
     "output_type": "stream",
     "text": [
      "/data/grp/fluxdata/PALS_sites_ECP/DegeroFluxnet.1.4_flux_daily.nc\n"
     ]
    }
   ],
   "source": [
    "######################################\n",
    "# Read in-situ site data\n",
    "SITE_fname = SITE_data_dir+site_name+'Fluxnet.1.4_flux'+Tres_Stag+'.nc'\n",
    "print(SITE_fname)\n",
    "Sinf       = nc.Dataset(SITE_fname,'r')\n",
    "############################################################\n",
    "# Extract data and convert to same units (Site data units)\n",
    "#'time':nctime.num2date(Sinf.variables['time'][:],units=Sinf.variables['time'].units),       \\\n",
    "S_data = {'NEE':Sinf.variables['NEE'][:].squeeze()*-1.0,                    \\\n",
    "          'TER':Sinf.variables['TER'][:].squeeze(), \\\n",
    "          'GPP':Sinf.variables['GPP'][:].squeeze(), \\\n",
    "          'LHF':Sinf.variables['Qle'][:].squeeze(),                         \\\n",
    "          'SHF':Sinf.variables['Qh'][:].squeeze(),                          \\\n",
    "          }\n",
    "\n",
    "#         'TER':np.ma.masked_less(Sinf.variables['TER'][:].squeeze(),0.0), \\\n",
    "#         'GPP':np.ma.masked_less(Sinf.variables['GPP'][:].squeeze(),0.0), \\\n",
    "\n",
    "S_seconds=Sinf.variables['time'][:].astype('float64')\n",
    "S_seconds=np.round(S_seconds/1800.)*1800.\n",
    "S_time = nc.num2date(S_seconds, \\\n",
    "                         units=Sinf.variables['time'].units)\n",
    "S_data['FQW'] = S_data['LHF']/Lc_H2O\n",
    "S_data['WUE'] = S_data['GPP']/S_data['FQW']\n",
    "    \n",
    "S_panda = pd.DataFrame( S_data, index=S_time )\n",
    "\n",
    "# Store Annual C uptake in a list for later plots\n",
    "SITE_Net_Annual_Evap=S_panda['FQW'].mean()*seconds_in_year\n",
    "SITE_Net_Annual_Heat=S_panda['SHF'].mean()*seconds_in_year\n",
    "SITE_Net_Annual_Cuptake=(S_panda['NEE'].mean()/kgC_to_umolsCO2_factor)\\\n",
    "                         * seconds_in_year\n",
    "SITE_Gross_Annual_Cuptake=(S_panda['GPP'].mean()/kgC_to_umolsCO2_factor)\\\n",
    "                           * seconds_in_year\n",
    "Sinf.close()\n"
   ]
  },
  {
   "cell_type": "code",
   "execution_count": 11,
   "metadata": {
    "collapsed": false
   },
   "outputs": [
    {
     "name": "stdout",
     "output_type": "stream",
     "text": [
      "0.357495666332\n"
     ]
    }
   ],
   "source": [
    "print(SITE_Gross_Annual_Cuptake)\n"
   ]
  },
  {
   "cell_type": "code",
   "execution_count": 27,
   "metadata": {
    "collapsed": false
   },
   "outputs": [],
   "source": [
    "############################################\n",
    "# Loop round JULES sources and extract data to dictionary of lists\n",
    "J_pandas=[]\n",
    "\n",
    "JULES_Net_Annual_Evap = []\n",
    "JULES_Net_Annual_Heat = []\n",
    "JULES_Net_Annual_Cuptake = []\n",
    "JULES_Gross_Annual_Cuptake = []\n",
    "JULES_mean_diurnal_GPP_Amplitude = [] \n",
    "JULES_mean_diurnal_NEE_Amplitude = [] \n",
    "JULES_mean_diurnal_GPP_Amplitude_BySeas = [ [] for j in range(4) ]\n",
    "JULES_mean_diurnal_NEE_Amplitude_BySeas = [ [] for j in range(4) ]\n",
    "\n",
    "# Correlations and standard deviations for taylor plots\n",
    "SHF_correlation = []\n",
    "SHF_meanbias    = []\n",
    "SHF_stddev      = []\n",
    "LHF_correlation = []\n",
    "LHF_meanbias    = []\n",
    "LHF_stddev      = []\n",
    "NEE_correlation = []\n",
    "NEE_meanbias    = []\n",
    "NEE_stddev      = []\n",
    "GPP_correlation = []\n",
    "GPP_meanbias    = []\n",
    "GPP_stddev      = []\n",
    "\n"
   ]
  },
  {
   "cell_type": "code",
   "execution_count": 28,
   "metadata": {
    "collapsed": false
   },
   "outputs": [
    {
     "name": "stdout",
     "output_type": "stream",
     "text": [
      "/prj/GREENHOUSE/PALS_comparison/Jvn4.5_notriffid/output/Degero.day.nc\n"
     ]
    }
   ],
   "source": [
    "\n",
    "for Jcnt in range(nJSOURCES):\n",
    "    iSOURCE = J_SOURCES[Jcnt]\n",
    "    #print iSOURCE, Jcnt, len(JULES_sources), nJSOURCES\n",
    "    Jsource = JULES_sources[iSOURCE]\n",
    "    ######################################\n",
    "    # Construct filename and open:\n",
    "    JULES_fname=Jsource[1]['data_dir']+site_name+'.'+Tres+'.nc'\n",
    "    print(JULES_fname)\n",
    "    Jinf = nc.Dataset(JULES_fname,'r')\n",
    "    J_data = { 'NPP':Jinf.variables[Jsource[1]['npp_name']][:].squeeze() \\\n",
    "                                *   kgC_to_umolsCO2_factor,              \\\n",
    "               'GPP':np.ma.masked_less(Jinf.variables[Jsource[1]['gpp_name']][:].squeeze() \\\n",
    "                                *   kgC_to_umolsCO2_factor, 1e-5 ),               \\\n",
    "               'resp_s':Jinf.variables[Jsource[1]['resp_s_name']][:].squeeze() \\\n",
    "                                *   kgC_to_umolsCO2_factor,                   \\\n",
    "               'resp_p':Jinf.variables[Jsource[1]['resp_p_name']][:].squeeze() \\\n",
    "                                *   kgC_to_umolsCO2_factor,                   \\\n",
    "              'FQW':Jinf.variables['fqw_gb'][:].squeeze(),                 \\\n",
    "              'LHF':Jinf.variables['latent_heat'][:].squeeze(),            \\\n",
    "              'SHF':Jinf.variables['ftl_gb'][:].squeeze(),                 \\\n",
    "             }\n",
    "    \n",
    "    # Quick fix to add diurnal cycle to J-E-F output\n",
    "    if (Tres=='tstep') & ('-E-' in Jsource[1]['longname']):\n",
    "        print('Calculating Diurnal NPP from original NPP and the ratio of '+\\\n",
    "              ' npp_nuptake_out/npp_nuptake_out')\n",
    "        J_data['NPP']= Jinf.variables['npp_gb'][:].squeeze() * \\\n",
    "                     ( Jinf.variables['npp_nuptake_out_gb'][:].squeeze() / \\\n",
    "                       Jinf.variables['npp_nuptake_in_gb'][:].squeeze()  ) \\\n",
    "                      *   kgC_to_umolsCO2_factor\n",
    "        \n",
    "    J_data['NEE']= J_data['NPP']-J_data['resp_s'] \n",
    "    J_data['WUE']= J_data['GPP']/J_data['FQW']\n",
    "    J_seconds=Jinf.variables['time_bounds'][:,0].astype('float64')\n",
    "    J_seconds=np.round(J_seconds/1800.)*1800.\n",
    "    J_time=nc.num2date(J_seconds, units=Jinf.variables['time'].units  )\n",
    "    \n",
    "    J_panda = pd.DataFrame(J_data,index=J_time)\n",
    "    J_pandas.append(J_panda.copy())\n",
    "    \n",
    "    Jinf.close()\n",
    "    \n",
    "    # Calculate Annual uptakes/evaporation/energ flux\n",
    "    JULES_Net_Annual_Evap.append( J_panda['FQW'].mean()*seconds_in_year )\n",
    "    JULES_Net_Annual_Heat.append( J_panda['SHF'].mean()*seconds_in_year )\n",
    "    \n",
    "    JULES_Net_Annual_Cuptake.append(J_panda['NEE'].mean()*   \\\n",
    "                                    seconds_in_year/kgC_to_umolsCO2_factor )\n",
    "    JULES_Gross_Annual_Cuptake.append(J_panda['GPP'].mean()* \\\n",
    "                                      seconds_in_year/kgC_to_umolsCO2_factor )\n",
    "    \n",
    "    # Calculate and store the Specific Heat Flux Statistics  \n",
    "    SHF_meanbias.append((J_panda['SHF']-S_panda['SHF']).mean()) \n",
    "    SHF_stddev.append( (J_panda['SHF']-S_panda['SHF']).std() )\n",
    "    SHF_correlation.append( J_panda['SHF'].corr(S_panda['SHF']))\n",
    "    \n",
    "    # Calculate and store the Latent Heat Flux Statistics  \n",
    "    LHF_meanbias.append((J_panda['LHF']-S_panda['LHF']).mean()) \n",
    "    LHF_stddev.append( (J_panda['LHF']-S_panda['LHF']).std() )\n",
    "    LHF_correlation.append( J_panda['LHF'].corr(S_panda['LHF']))\n",
    "    \n",
    "    # Calculate and store the NEE Statistics  \n",
    "    NEE_meanbias.append((J_panda['NEE']-S_panda['NEE']).mean()) \n",
    "    NEE_stddev.append( (J_panda['NEE']-S_panda['NEE']).std() )\n",
    "    NEE_correlation.append( J_panda['NEE'].corr(S_panda['NEE']))\n",
    "    \n",
    "    # Calculate and store the GPP Statistics  \n",
    "    GPP_meanbias.append((J_panda['GPP']-S_panda['GPP']).mean()) \n",
    "    GPP_stddev.append( (J_panda['GPP']-S_panda['GPP']).std() )\n",
    "    GPP_correlation.append( J_panda['GPP'].corr(S_panda['GPP']))\n",
    "    \n",
    "        "
   ]
  },
  {
   "cell_type": "code",
   "execution_count": 31,
   "metadata": {
    "collapsed": false,
    "scrolled": false
   },
   "outputs": [],
   "source": [
    "\n",
    "#Create Parameter Pandas\n",
    "LHF_panda=pd.concat([S_panda['LHF']]+[J_panda['LHF'] for J_panda in J_pandas],axis=1)\n",
    "LHF_panda.columns=[PS_names]\n",
    "#LHF_panda=LHF_panda.dropna(0)\n",
    "SHF_panda=pd.concat([S_panda['SHF']]+[J_panda['SHF'] for J_panda in J_pandas],axis=1)\n",
    "SHF_panda.columns=(PS_names)\n",
    "#SHF_panda=SHF_panda.dropna(0)\n",
    "NEE_panda=pd.concat([S_panda['NEE']]+[J_panda['NEE'] for J_panda in J_pandas],axis=1)\n",
    "NEE_panda.columns=(PS_names)\n",
    "#NEE_panda=NEE_panda.dropna(0)\n",
    "GPP_panda=pd.concat([S_panda['GPP']]+[J_panda['GPP'] for J_panda in J_pandas],axis=1)\n",
    "GPP_panda.columns=(PS_names)\n",
    "#GPP_panda=GPP_panda.dropna(0)\n",
    "NPP_panda=pd.concat([J_panda['NPP'] for J_panda in J_pandas],axis=1)\n",
    "NPP_panda.columns=(PS_names[1:])\n",
    "#NPP_panda=NPP_panda.dropna(0)\n",
    "RESPS_panda=pd.concat([J_panda['resp_s'] for J_panda in J_pandas],axis=1)\n",
    "RESPS_panda.columns=(PS_names[1:])\n",
    "#RESPS_panda=RESPS_panda.dropna(0)\n",
    "RESPP_panda=pd.concat([J_panda['resp_p'] for J_panda in J_pandas],axis=1)\n",
    "RESPP_panda.columns=(PS_names[1:])\n",
    "#RESPP_panda=RESPP_panda.dropna(0)\n",
    "TER_panda=pd.concat([S_panda['TER']],axis=1)\n",
    "TER_panda.columns=(PS_names[0:1])\n"
   ]
  },
  {
   "cell_type": "code",
   "execution_count": 35,
   "metadata": {
    "collapsed": false
   },
   "outputs": [],
   "source": [
    "\n",
    "##########################################################\n",
    "# Plot time-series of SHF, LHF, and NEE\n",
    "if (PLOTS[0]=='Y'):\n",
    "    \n",
    "    FIG = plt.figure(figsize=(14,12))\n",
    "    \n",
    "    AX = FIG.add_subplot(3,1,1)\n",
    "    SHF_panda.plot(lw=1.5,ax=AX,color=PS_colours,legend=False)\n",
    "    AX.text(1.02,0.22,\"Mean Bias: \",transform=AX.transAxes, fontsize=14)\n",
    "    AX.text(1.02,0.08,\"SHF Std. Dev.: \",transform=AX.transAxes, fontsize=14)\n",
    "    for Jcnt in range(nJSOURCES):\n",
    "        AX.text(1.02+(Jcnt*0.07),0.16,\"%6.2f\"%(SHF_meanbias[Jcnt]), \\\n",
    "                transform=AX.transAxes, fontsize=14, color=PS_colours[Jcnt+1] )\n",
    "        AX.text(1.02+(Jcnt*0.07),0.02,\"%6.2f\"%(SHF_stddev[Jcnt]), \\\n",
    "                transform=AX.transAxes, fontsize=14, color=PS_colours[Jcnt+1] )\n",
    "        AX.set_ylabel('Sensible Heat Flux (W $m^{-2}$)', fontsize=14)\n",
    "      \n",
    "    AX = FIG.add_subplot(3,1,2)\n",
    "    LHF_panda.plot(lw=1.5,ax=AX,color=PS_colours,legend=False)\n",
    "    AX.text(1.02,0.22,\"LHF Mean Bias: \",transform=AX.transAxes, fontsize=14)\n",
    "    AX.text(1.02,0.08,\"LHF Std. Dev.: \",transform=AX.transAxes, fontsize=14)\n",
    "    for Jcnt in range(nJSOURCES):\n",
    "        AX.text(1.02+(Jcnt*0.07),0.16,\"%6.2f\"%(LHF_meanbias[Jcnt]), \\\n",
    "                transform=AX.transAxes, fontsize=14, color=PS_colours[Jcnt+1] )\n",
    "        AX.text(1.02+(Jcnt*0.07),0.02,\"%6.2f\"%(LHF_stddev[Jcnt]), \\\n",
    "                transform=AX.transAxes, fontsize=14, color=PS_colours[Jcnt+1] )\n",
    "    AX.set_ylabel('Latent Heat Flux (W $m^{-2}$)', fontsize=14)\n",
    "    handles,labels=AX.get_legend_handles_labels()\n",
    "    \n",
    "    AX = FIG.add_subplot(3,1,3)\n",
    "    NEE_panda.plot(lw=1.5,ax=AX,color=PS_colours,legend=False)\n",
    "    GPP_panda.plot(lw=1.5,ax=AX,ls='-.',color=PS_colours,legend=False)\n",
    "    AX.text(1.02,0.46,\"NEE Mean Bias: \",transform=AX.transAxes, fontsize=14)\n",
    "    AX.text(1.02,0.32,\"NEE Std. Dev.: \",transform=AX.transAxes, fontsize=14)\n",
    "    AX.text(1.02,0.16,\"GPP Mean Bias: \",transform=AX.transAxes, fontsize=14)\n",
    "    AX.text(1.02,0.02,\"GPP Std. Dev.: \",transform=AX.transAxes, fontsize=14)\n",
    "    for Jcnt in range(nJSOURCES):\n",
    "        AX.text(1.02+(Jcnt*0.07),0.38,\"%6.2f\"%(NEE_meanbias[Jcnt]), \\\n",
    "                transform=AX.transAxes, fontsize=14, color=PS_colours[Jcnt+1] )\n",
    "        AX.text(1.02+(Jcnt*0.07),0.26,\"%6.2f\"%(NEE_stddev[Jcnt]), \\\n",
    "                transform=AX.transAxes, fontsize=14, color=PS_colours[Jcnt+1] )\n",
    "        AX.text(1.02+(Jcnt*0.07),0.10,\"%6.2f\"%(GPP_meanbias[Jcnt]), \\\n",
    "                transform=AX.transAxes, fontsize=14, color=PS_colours[Jcnt+1] )\n",
    "        AX.text(1.02+(Jcnt*0.07),-0.04,\"%6.2f\"%(GPP_stddev[Jcnt]), \\\n",
    "                transform=AX.transAxes, fontsize=14, color=PS_colours[Jcnt+1] )\n",
    "        AX.text(1.075+(Jcnt*0.06),0.71,\"%6.2f\"%(JULES_Net_Annual_Cuptake[Jcnt]), \\\n",
    "                transform=AX.transAxes, fontsize=14, color=PS_colours[Jcnt+1] )\n",
    "        AX.text(1.075+(Jcnt*0.06),0.87,\"%6.2f\"%(JULES_Gross_Annual_Cuptake[Jcnt]), \\\n",
    "                transform=AX.transAxes, fontsize=14, color=PS_colours[Jcnt+1] )\n",
    "        \n",
    "    AX.set_ylabel('NEE and GPP ($\\mu$mol $m^{-2} s^{-1}$)')\n",
    "    \n",
    "    AX.text(1.03,0.95,\"Gross C Uptake: \",\\\n",
    "            transform=AX.transAxes, fontsize=14)\n",
    "    AX.text(1.01,0.87,\"%6.2f\"%(SITE_Gross_Annual_Cuptake),\\\n",
    "            transform=AX.transAxes, fontsize=14, color=SITE_colour )\n",
    "    AX.text(1.03,0.79,\"Net C Uptake:\",\\\n",
    "            transform=AX.transAxes, fontsize=14)\n",
    "    AX.text(1.01,0.71,\"%6.2f\"%(SITE_Net_Annual_Cuptake),\\\n",
    "            transform=AX.transAxes, fontsize=14, color=SITE_colour )\n",
    "    AX.text(1.03,0.63,\"(gC y$^{-1}$ m$^{-2}$)\",\\\n",
    "            transform=AX.transAxes, fontsize=14)\n",
    "    \n",
    "    FIG.legend( handles,labels, loc=8, ncol=nJSOURCES+1)\n",
    "    FIG.tight_layout(rect=[0,0.05,0.8,0.96])\n",
    "    FIG.suptitle(site_name+'flux tower time-series, obs and J-E-F',\\\n",
    "                 fontsize=24)\n",
    "    FIG.text(0.8,0.92,'Country: '+site_country,fontsize=16)\n",
    "    FIG.text(0.8,0.895,'PFT: '+site_vegtype,fontsize=16)\n",
    "    FIG.text(0.8,0.87,'Lat: '+site_lat+'$^o$E',fontsize=16)\n",
    "    FIG.text(0.8,0.845,'Lon: '+site_lon+'$^o$N',fontsize=16)\n",
    "    FIG.text(0.8,0.82,'Can. hgt: '+site_canht+' m',fontsize=16)\n",
    "    FIG.text(0.8,0.795,'Meas. hgt: '+site_measht+' m',fontsize=16)\n",
    "    \n",
    "    \n",
    "    FIG.savefig(site_plot_dir+site_name+'_Flux_Comparison_Time-Series.png', \\\n",
    "                bbox_inches='tight')\n",
    "    \n",
    "    if iDISPLAY=='Y':\n",
    "        plt.show()\n",
    "    else:\n",
    "        plt.close()\n",
    "\n",
    "    \n"
   ]
  },
  {
   "cell_type": "raw",
   "metadata": {},
   "source": []
  }
 ],
 "metadata": {
  "kernelspec": {
   "display_name": "Python 3",
   "language": "python",
   "name": "python3"
  },
  "language_info": {
   "codemirror_mode": {
    "name": "ipython",
    "version": 3
   },
   "file_extension": ".py",
   "mimetype": "text/x-python",
   "name": "python",
   "nbconvert_exporter": "python",
   "pygments_lexer": "ipython3",
   "version": "3.5.2"
  }
 },
 "nbformat": 4,
 "nbformat_minor": 0
}
