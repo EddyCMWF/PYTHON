{
 "cells": [
  {
   "cell_type": "code",
   "execution_count": 1,
   "metadata": {
    "collapsed": false
   },
   "outputs": [],
   "source": [
    "#import os\n",
    "import netCDF4 as nc\n",
    "import numpy as np\n",
    "\n",
    "import pandas as pd\n",
    "\n",
    "import matplotlib.pyplot as plt\n",
    "\n",
    "\n",
    "#\n",
    "#import iris\n",
    "#\n",
    "#from iris_jules import jules as irju\n",
    "#from iris_jules import convertpoints2grid as conpts2grid\n",
    "#\n",
    "#\n",
    "from matplotlib.pyplot import rcParams\n",
    "%matplotlib inline\n",
    "rcParams['figure.figsize'] = (15.,10)\n",
    "\n"
   ]
  },
  {
   "cell_type": "code",
   "execution_count": 2,
   "metadata": {
    "collapsed": true
   },
   "outputs": [],
   "source": [
    "########################################\n",
    "# Constants and options\n",
    "kgC_to_umolsCO2_factor =  (1e3/12.0107)*1e6  #(grams of substance/molar mass) * micromoles conversion\n",
    "seconds_in_year = 60.*60.*24.*365.\n",
    "Lc_H2O = 2.501e6\n"
   ]
  },
  {
   "cell_type": "code",
   "execution_count": null,
   "metadata": {
    "collapsed": false
   },
   "outputs": [],
   "source": []
  },
  {
   "cell_type": "code",
   "execution_count": 3,
   "metadata": {
    "collapsed": false
   },
   "outputs": [],
   "source": [
    "# Directories and Filenames\n",
    "\n",
    "site='Brattleby'\n",
    "JULESsubdir='Jvn4.6_variableRGROW'\n",
    "runids=['r0%02d'%rgrow for rgrow in range(5,31,5)]\n",
    "tstep='tstep'\n",
    "nJULES=len(runids)\n",
    "\n",
    "BASE_DIR='/prj/GREENHOUSE/GREENHOUSE_sites/'\n",
    "\n",
    "JULES_OUTPUT_DIR=BASE_DIR+'output/'+site+'/'+JULESsubdir+'/'\n",
    "JULES_fnames=[JULES_OUTPUT_DIR+site+'_'+runid+'.'+tstep+'.nc' for runid in runids]\n",
    "\n",
    "SITE_DIR=BASE_DIR+'data/'+site+'/'\n",
    "SITE_fname=SITE_DIR+'ConCrop_FullFlux_data.nc'\n",
    "\n"
   ]
  },
  {
   "cell_type": "code",
   "execution_count": 4,
   "metadata": {
    "collapsed": false
   },
   "outputs": [],
   "source": [
    "\n",
    "WK_varnames=['NEE','GPP','TER','SHF','LHF','T_soil','SMC','SHF_grnd']\n",
    "\n",
    "SITE_varnames=['NEE','GPP','TER','H','LE','T_soil','SMC','downward_heat_flux_at_ground_level']\n",
    "SITE_timename='time'\n",
    "\n",
    "JULES_varnames=['npp_gb','gpp_gb','resp_s_gb','resp_p_gb','t_soil','smcl','ftl_gb','latent_heat']\n",
    "JULES_timename='time'\n",
    "\n"
   ]
  },
  {
   "cell_type": "code",
   "execution_count": null,
   "metadata": {
    "collapsed": false
   },
   "outputs": [],
   "source": []
  },
  {
   "cell_type": "code",
   "execution_count": 5,
   "metadata": {
    "collapsed": false,
    "scrolled": true
   },
   "outputs": [],
   "source": [
    "# Read in Site data and convert to pandas\n",
    "Sinf=nc.Dataset(SITE_fname,'r')\n",
    "\n",
    "SITE_Dict={}\n",
    "for inname,wkname in zip(SITE_varnames,WK_varnames):\n",
    "    #print(inname,wkname)\n",
    "    SITE_Dict[wkname]=Sinf.variables[inname][:].squeeze()\n",
    "\n",
    "SITE_time=nc.num2date(Sinf.variables[SITE_timename][:],  \\\n",
    "                      Sinf.variables[SITE_timename].units)\n",
    "Sinf.close()\n",
    "\n",
    "SITE_Dict['T_soil']  = np.mean(SITE_Dict['T_soil'].reshape(-1,4),axis=1)\n",
    "SITE_Dict['SMC']     = np.mean(SITE_Dict['SMC'].reshape(-1,4),axis=1)\n",
    "SITE_Dict['SHF_grnd']= np.mean(SITE_Dict['SHF_grnd'],axis=1)\n",
    "\n",
    "SITE_panda = pd.DataFrame(SITE_Dict,index=SITE_time)\n"
   ]
  },
  {
   "cell_type": "code",
   "execution_count": 6,
   "metadata": {
    "collapsed": false
   },
   "outputs": [
    {
     "ename": "SyntaxError",
     "evalue": "invalid syntax (<ipython-input-6-0a1f21a34173>, line 1)",
     "output_type": "error",
     "traceback": [
      "\u001b[0;36m  File \u001b[0;32m\"<ipython-input-6-0a1f21a34173>\"\u001b[0;36m, line \u001b[0;32m1\u001b[0m\n\u001b[0;31m    -\u001b[0m\n\u001b[0m     ^\u001b[0m\n\u001b[0;31mSyntaxError\u001b[0m\u001b[0;31m:\u001b[0m invalid syntax\n"
     ]
    }
   ],
   "source": [
    "-"
   ]
  },
  {
   "cell_type": "code",
   "execution_count": 7,
   "metadata": {
    "collapsed": false
   },
   "outputs": [],
   "source": [
    "#SITE_panda[['GPP','NEE','TER']].plot()\n",
    "#J_pandas[3].columns"
   ]
  },
  {
   "cell_type": "code",
   "execution_count": null,
   "metadata": {
    "collapsed": false
   },
   "outputs": [],
   "source": []
  },
  {
   "cell_type": "code",
   "execution_count": 8,
   "metadata": {
    "collapsed": false
   },
   "outputs": [
    {
     "ename": "NameError",
     "evalue": "name 'J_pandas' is not defined",
     "output_type": "error",
     "traceback": [
      "\u001b[0;31m---------------------------------------------------------------------------\u001b[0m",
      "\u001b[0;31mNameError\u001b[0m                                 Traceback (most recent call last)",
      "\u001b[0;32m<ipython-input-8-db76d05cfd74>\u001b[0m in \u001b[0;36m<module>\u001b[0;34m()\u001b[0m\n\u001b[1;32m      1\u001b[0m \u001b[0;31m# Create Variable Pandas\u001b[0m\u001b[0;34m\u001b[0m\u001b[0;34m\u001b[0m\u001b[0m\n\u001b[1;32m      2\u001b[0m \u001b[0mvar\u001b[0m\u001b[0;34m=\u001b[0m\u001b[0;34m'SMC'\u001b[0m\u001b[0;34m\u001b[0m\u001b[0m\n\u001b[0;32m----> 3\u001b[0;31m \u001b[0mpanda_list\u001b[0m\u001b[0;34m=\u001b[0m\u001b[0;34m[\u001b[0m\u001b[0mJ_panda\u001b[0m\u001b[0;34m[\u001b[0m\u001b[0mvar\u001b[0m\u001b[0;34m]\u001b[0m \u001b[0;32mfor\u001b[0m \u001b[0mJ_panda\u001b[0m \u001b[0;32min\u001b[0m \u001b[0mJ_pandas\u001b[0m\u001b[0;34m]\u001b[0m\u001b[0;34m\u001b[0m\u001b[0m\n\u001b[0m\u001b[1;32m      4\u001b[0m \u001b[0mpanda_list\u001b[0m\u001b[0;34m.\u001b[0m\u001b[0mappend\u001b[0m\u001b[0;34m(\u001b[0m\u001b[0mSITE_panda\u001b[0m\u001b[0;34m[\u001b[0m\u001b[0mvar\u001b[0m\u001b[0;34m]\u001b[0m\u001b[0;34m*\u001b[0m\u001b[0;36m100.\u001b[0m\u001b[0;34m)\u001b[0m\u001b[0;34m\u001b[0m\u001b[0m\n\u001b[1;32m      5\u001b[0m \u001b[0mSMC_panda\u001b[0m\u001b[0;34m=\u001b[0m\u001b[0mpd\u001b[0m\u001b[0;34m.\u001b[0m\u001b[0mconcat\u001b[0m\u001b[0;34m(\u001b[0m\u001b[0mpanda_list\u001b[0m\u001b[0;34m,\u001b[0m\u001b[0maxis\u001b[0m\u001b[0;34m=\u001b[0m\u001b[0;36m1\u001b[0m\u001b[0;34m)\u001b[0m\u001b[0;34m\u001b[0m\u001b[0m\n",
      "\u001b[0;31mNameError\u001b[0m: name 'J_pandas' is not defined"
     ]
    }
   ],
   "source": [
    "# Create Variable Pandas\n",
    "var='SMC'\n",
    "panda_list=[J_panda[var] for J_panda in J_pandas]\n",
    "panda_list.append(SITE_panda[var]*100.)\n",
    "SMC_panda=pd.concat(panda_list,axis=1)\n",
    "SMC_panda.columns=runids+['Site']\n",
    "\n",
    "\n",
    "SMC_panda.plot()"
   ]
  },
  {
   "cell_type": "code",
   "execution_count": null,
   "metadata": {
    "collapsed": false
   },
   "outputs": [],
   "source": [
    "daily_GPP=J_pandas[4]['GPP'].resample('D').mean()*86400\n",
    "daily_GPP.plot()"
   ]
  },
  {
   "cell_type": "code",
   "execution_count": null,
   "metadata": {
    "collapsed": false,
    "scrolled": false
   },
   "outputs": [],
   "source": [
    "# Create Variable Pandas\n",
    "var='GPP'\n",
    "panda_list=[J_panda[var]*kgC_to_umolsCO2_factor for J_panda in J_pandas]\n",
    "panda_list.append(SITE_panda[var])\n",
    "GPP_panda=pd.concat(panda_list,axis=1)\n",
    "GPP_panda.columns=runids+['Site']\n",
    "\n",
    "GPP_panda=GPP_panda.resample('D').mean()\n",
    "GPP_panda.plot()"
   ]
  },
  {
   "cell_type": "code",
   "execution_count": null,
   "metadata": {
    "collapsed": false
   },
   "outputs": [],
   "source": [
    "print(SITE_panda['GPP'].mean()*seconds_in_year/ kgC_to_umolsCO2_factor)\n",
    "print(J_pandas[4]['GPP'].mean()*seconds_in_year)"
   ]
  },
  {
   "cell_type": "code",
   "execution_count": null,
   "metadata": {
    "collapsed": false
   },
   "outputs": [],
   "source": [
    "# Create Variable Pandas\n",
    "var='NEE'\n",
    "panda_list=[J_panda[var]*kgC_to_umolsCO2_factor*-1. for J_panda in J_pandas]\n",
    "panda_list.append(SITE_panda[var])\n",
    "NEE_panda=pd.concat(panda_list,axis=1)\n",
    "NEE_panda.columns=runids+['Site']\n",
    "\n",
    "NEE_panda=NEE_panda.resample('D').mean()\n",
    "NEE_panda.plot()\n"
   ]
  },
  {
   "cell_type": "code",
   "execution_count": null,
   "metadata": {
    "collapsed": false
   },
   "outputs": [],
   "source": [
    "# Create Variable Pandas\n",
    "var='TER'\n",
    "panda_list=[J_panda[var]*kgC_to_umolsCO2_factor for J_panda in J_pandas]\n",
    "panda_list.append(SITE_panda[var])\n",
    "TER_panda=pd.concat(panda_list,axis=1)\n",
    "TER_panda.columns=runids+['Site']\n",
    "\n",
    "TER_panda=TER_panda.resample('D').mean()\n",
    "TER_panda.plot()\n"
   ]
  },
  {
   "cell_type": "code",
   "execution_count": null,
   "metadata": {
    "collapsed": false
   },
   "outputs": [],
   "source": [
    "# Create Variable Pandas\n",
    "var='SHF'\n",
    "panda_list=[J_panda[var] for J_panda in J_pandas]\n",
    "panda_list.append(SITE_panda[var])\n",
    "SHF_panda=pd.concat(panda_list,axis=1)\n",
    "SHF_panda.columns=runids+['Site']\n",
    "\n",
    "SHF_panda=SHF_panda.resample('D').mean()\n",
    "SHF_panda.plot()"
   ]
  },
  {
   "cell_type": "code",
   "execution_count": null,
   "metadata": {
    "collapsed": false
   },
   "outputs": [],
   "source": [
    "# Create Variable Pandas\n",
    "var='LHF'\n",
    "panda_list=[J_panda[var] for J_panda in J_pandas]\n",
    "panda_list.append(SITE_panda[var])\n",
    "LHF_panda=pd.concat(panda_list,axis=1)\n",
    "LHF_panda.columns=runids+['Site']\n",
    "\n",
    "LHF_panda=LHF_panda.resample('D').mean()\n",
    "LHF_panda.plot()"
   ]
  },
  {
   "cell_type": "code",
   "execution_count": null,
   "metadata": {
    "collapsed": false
   },
   "outputs": [],
   "source": [
    "SITE_panda[['LHF','SHF','SHF_grnd']].plot()"
   ]
  },
  {
   "cell_type": "code",
   "execution_count": null,
   "metadata": {
    "collapsed": false
   },
   "outputs": [],
   "source": [
    "#Finf=nc.Dataset(SITE_DIR+'ConCrop_Flux_data.nc','r')\n",
    "\n",
    "\n",
    "#print(Finf.variables['NEE']._FillValue)"
   ]
  },
  {
   "cell_type": "code",
   "execution_count": null,
   "metadata": {
    "collapsed": false
   },
   "outputs": [],
   "source": [
    "SITE_panda[['SMC']].plot()"
   ]
  },
  {
   "cell_type": "code",
   "execution_count": null,
   "metadata": {
    "collapsed": false
   },
   "outputs": [],
   "source": [
    "J_pandas[3][['SMC']].plot()"
   ]
  },
  {
   "cell_type": "code",
   "execution_count": null,
   "metadata": {
    "collapsed": true
   },
   "outputs": [],
   "source": []
  }
 ],
 "metadata": {
  "kernelspec": {
   "display_name": "Python 3",
   "language": "python",
   "name": "python3"
  },
  "language_info": {
   "codemirror_mode": {
    "name": "ipython",
    "version": 3
   },
   "file_extension": ".py",
   "mimetype": "text/x-python",
   "name": "python",
   "nbconvert_exporter": "python",
   "pygments_lexer": "ipython3",
   "version": "3.5.2"
  }
 },
 "nbformat": 4,
 "nbformat_minor": 0
}
