{
 "cells": [
  {
   "cell_type": "code",
   "execution_count": 1,
   "metadata": {
    "collapsed": true
   },
   "outputs": [],
   "source": [
    "#import os\n",
    "import netCDF4 as nc\n",
    "import numpy as np\n",
    "import glob\n",
    "\n",
    "import pandas as pd\n",
    "\n",
    "import matplotlib.pyplot as plt\n",
    "\n",
    "from matplotlib.pyplot import rcParams\n",
    "%matplotlib inline\n",
    "rcParams['figure.figsize'] = (15.,10)\n"
   ]
  },
  {
   "cell_type": "code",
   "execution_count": 2,
   "metadata": {
    "collapsed": true
   },
   "outputs": [],
   "source": [
    "DATA_DIR='/prj/GREENHOUSE/UKsitecomp/CHESS_runs/'\n",
    "JULES_tag='JULES_v4.3_'\n",
    "runs=['standard','TRIFFID_RsQ10','TRIFFID_RsRothC']\n",
    "profile='halfhourly'\n",
    "file_res='yearly'\n",
    "PLOT_DIR=DATA_DIR+'plots/'\n"
   ]
  },
  {
   "cell_type": "code",
   "execution_count": 3,
   "metadata": {
    "collapsed": true
   },
   "outputs": [],
   "source": [
    "site_name='Wytham Wood'\n",
    "site_index=12\n",
    "pft_index=0\n",
    "soil_layer=0\n",
    "start_year=2010\n",
    "end_year=2012\n",
    "\n",
    "variables=['gpp_gb','npp_gb','resp_p_gb','resp_s_gb',\\\n",
    "           'resp_l','resp_r','resp_w',\\\n",
    "           'anetc','rdc','resp_p_g','resp_p_m']\n",
    "\n"
   ]
  },
  {
   "cell_type": "code",
   "execution_count": null,
   "metadata": {
    "collapsed": false
   },
   "outputs": [],
   "source": []
  },
  {
   "cell_type": "code",
   "execution_count": null,
   "metadata": {
    "collapsed": false
   },
   "outputs": [],
   "source": []
  },
  {
   "cell_type": "code",
   "execution_count": null,
   "metadata": {
    "collapsed": false
   },
   "outputs": [
    {
     "name": "stdout",
     "output_type": "stream",
     "text": [
      "standard\n",
      "2010\n"
     ]
    }
   ],
   "source": [
    "DataDict={ run : { var:{} for var in variables} for run in runs }\n",
    "\n",
    "for run in runs:\n",
    "    print(run)\n",
    "    for year in range(start_year,end_year+1):\n",
    "        print(year)\n",
    "        infile=DATA_DIR+JULES_tag+run+'/'+JULES_tag+run+'.'+profile+'.'+str(year)+'.nc'\n",
    "        inf=nc.Dataset(infile)\n",
    "        if year==start_year:\n",
    "            for var in variables:\n",
    "                DataDict[run][var]['data']=inf.variables[var][...,site_index].squeeze()\n",
    "                DataDict[run][var]['dims']=inf.variables[var].dimensions\n",
    "                DataDict[run][var]['units']=inf.variables[var].units\n",
    "            DataDict['latitude']=inf.variables['latitude'][0,site_index]\n",
    "            DataDict['longitude']=inf.variables['longitude'][0,site_index]\n",
    "            DataDict[run]['time']={'data':inf.variables['time'][:],    \\\n",
    "                              'units':inf.variables['time'].units }\n",
    "        else:\n",
    "            for var in variables:                \n",
    "                DataDict[run][var]['data']=np.append(DataDict[run][var]['data'],\\\n",
    "                                                  inf.variables[var][...,site_index].squeeze(),\\\n",
    "                                                  axis=0)\n",
    "            DataDict[run]['time']['data']=np.append(DataDict[run]['time']['data'], \\\n",
    "                                                 inf.variables['time'][:])\n",
    "    \n",
    "    DataDict[run]['time']['data']=np.round(DataDict[run]['time']['data']/1800.).astype('float64') \\\n",
    "                                    *1800.\n",
    "    DataDict[run]['time']['object']=nc.num2date( DataDict[run]['time']['data'],       \\\n",
    "                                                units=DataDict[run]['time']['units'] )\n",
    "    "
   ]
  },
  {
   "cell_type": "code",
   "execution_count": null,
   "metadata": {
    "collapsed": false,
    "scrolled": false
   },
   "outputs": [],
   "source": [
    "DataDict[runs[0]]['time']['data'].shape"
   ]
  },
  {
   "cell_type": "code",
   "execution_count": null,
   "metadata": {
    "collapsed": false
   },
   "outputs": [],
   "source": [
    "for run in runs:\n",
    "    for var in variables:\n",
    "        if 'pft' in DataDict[run][var]['dims']:\n",
    "            DataDict[run][var]['data']=DataDict[run][var]['data'][:,pft_index]\n",
    "        elif 'soil' in DataDict[run][var]['dims']:\n",
    "            DataDict[run][var]['data']=DataDict[run][var]['data'][:,soil_layer]\n",
    "        elif ('scpool' in DataDict[run][var]['dims'])  & \\\n",
    "             (len(DataDict[run][var]['data'].shape)>1):\n",
    "            DataDict[run][var]['data']=np.sum(DataDict[run][var]['data'],axis=1)\n",
    "        "
   ]
  },
  {
   "cell_type": "code",
   "execution_count": null,
   "metadata": {
    "collapsed": false
   },
   "outputs": [],
   "source": [
    "SmallDict={run:{var:DataDict[run][var]['data'] for var in variables} for run in runs}\n",
    "DataFrame={run:pd.DataFrame(SmallDict[run],index=DataDict[run]['time']['object']) for run in runs}\n"
   ]
  },
  {
   "cell_type": "code",
   "execution_count": null,
   "metadata": {
    "collapsed": false
   },
   "outputs": [],
   "source": []
  },
  {
   "cell_type": "code",
   "execution_count": null,
   "metadata": {
    "collapsed": false
   },
   "outputs": [],
   "source": []
  },
  {
   "cell_type": "code",
   "execution_count": null,
   "metadata": {
    "collapsed": false
   },
   "outputs": [],
   "source": [
    "# conversion to gCO2 m^-2 hr^-1\n",
    "units_conversion= (44.01/12.01) * 1e3 * 3600.\n",
    "for run in runs:\n",
    "    tmp=DataFrame[run].groupby(DataFrame[run].index.dayofyear).mean()\n",
    "    tmp.index=pd.to_datetime(tmp.index.astype(str))\n",
    "    pltvars=['gpp','npp','resp_p','resp_s']\n",
    "    (tmp[pltvars]*units_conversion).plot()\n",
    "    plt.title('JULES-'+run+': Principal Components')\n",
    "    plt.xlabel('Day of Year')\n",
    "    plt.ylabel('gCO2 m$^{-2}$ hr$^{-1}$')\n",
    "    plt.savefig(PLOT_DIR+run+'_PrincipalComponents.png')\n",
    "    plt.show()\n",
    "    \n",
    "    pltvars=['resp_s','resp_p','resp_l','resp_r','resp_w','rdc']\n",
    "    (tmp[pltvars]*units_conversion).plot()\n",
    "    plt.title('JULES-'+run+': Respiration Components')\n",
    "    plt.xlabel('Day of Year')\n",
    "    plt.ylabel('gCO2 m$^{-2}$ hr$^{-1}$')\n",
    "    plt.savefig(PLOT_DIR+run+'_RespirationComponents.png')\n",
    "    plt.show()\n",
    "    "
   ]
  },
  {
   "cell_type": "code",
   "execution_count": null,
   "metadata": {
    "collapsed": false
   },
   "outputs": [],
   "source": [
    "#Plot October Only\n",
    "sp=273\n",
    "ep=sp+31\n",
    "# conversion to gCO2 m^-2 hr^-1\n",
    "units_conversion= (44.01/12.01) * 1e3 * 3600.\n",
    "for run in runs:\n",
    "    tmp=DataFrame[run].groupby(DataFrame['standard'].index.dayofyear).mean()\n",
    "    pltvars=['gpp','npp','resp_p','resp_s']\n",
    "    (tmp[pltvars][sp:ep]*units_conversion).plot()\n",
    "    plt.title('JULES-'+run+': Principal Components - October')\n",
    "    plt.xlabel('Day of Year')\n",
    "    plt.ylabel('gCO2 m$^{-2}$ hr$^{-1}$')\n",
    "    plt.savefig(PLOT_DIR+run+'_PrincipalComponents_October.png')\n",
    "    plt.show()\n",
    "    \n",
    "    pltvars=['resp_s','resp_p','resp_l','resp_r','resp_w','rdc']\n",
    "    (tmp[pltvars][sp:ep]*units_conversion).plot()\n",
    "    plt.title('JULES-'+run+': Respiration Components - October')\n",
    "    plt.xlabel('Day of Year')\n",
    "    plt.ylabel('gCO2 m$^{-2}$ hr$^{-1}$')\n",
    "    plt.savefig(PLOT_DIR+run+'_RespirationComponents_October.png')\n",
    "    plt.show()\n",
    "    "
   ]
  },
  {
   "cell_type": "code",
   "execution_count": null,
   "metadata": {
    "collapsed": false
   },
   "outputs": [],
   "source": []
  },
  {
   "cell_type": "code",
   "execution_count": null,
   "metadata": {
    "collapsed": false
   },
   "outputs": [],
   "source": [
    "#Plot October Only\n",
    "# conversion to gCO2 m^-2 hr^-1\n",
    "units_conversion= (44.01/12.01) * 1e3 * 3600.\n",
    "for run in runs:    \n",
    "    tmp=DataFrame[run][DataFrame[run].index.month==10].copy()\n",
    "    tmp['Time']=tmp.index.map(lambda x: x.strftime(\"%H:%M\"))\n",
    "    tmp=tmp.groupby(tmp['Time']).mean()\n",
    "    tmp.index=pd.to_datetime(tmp.index.astype(str))\n",
    "    \n",
    "    pltvars=['gpp','npp','resp_p','resp_s']\n",
    "    (tmp[pltvars]*units_conversion).plot()\n",
    "    plt.title('JULES-'+run+': Principal Components - OctoberDiurnal')\n",
    "    plt.xlabel('Day of Year')\n",
    "    plt.ylabel('gCO2 m$^{-2}$ hr$^{-1}$')\n",
    "    plt.savefig(PLOT_DIR+run+'_PrincipalComponents_OctoberDiurnal.png')\n",
    "    plt.show()\n",
    "    \n",
    "    pltvars=['resp_s','resp_p','resp_l','resp_r','resp_w','rdc']\n",
    "    (tmp[pltvars]*units_conversion).plot()\n",
    "    plt.title('JULES-'+run+': Respiration Components - October Diurnal')\n",
    "    plt.xlabel('Day of Year')\n",
    "    plt.ylabel('gCO2 m$^{-2}$ hr$^{-1}$')\n",
    "    plt.savefig(PLOT_DIR+run+'_RespirationComponents_OctoberDiurnal.png')\n",
    "    plt.show()\n",
    "    "
   ]
  },
  {
   "cell_type": "code",
   "execution_count": null,
   "metadata": {
    "collapsed": false
   },
   "outputs": [],
   "source": []
  },
  {
   "cell_type": "code",
   "execution_count": null,
   "metadata": {
    "collapsed": true
   },
   "outputs": [],
   "source": []
  }
 ],
 "metadata": {
  "kernelspec": {
   "display_name": "Python 3",
   "language": "python",
   "name": "python3"
  },
  "language_info": {
   "codemirror_mode": {
    "name": "ipython",
    "version": 3
   },
   "file_extension": ".py",
   "mimetype": "text/x-python",
   "name": "python",
   "nbconvert_exporter": "python",
   "pygments_lexer": "ipython3",
   "version": "3.5.2"
  }
 },
 "nbformat": 4,
 "nbformat_minor": 0
}
