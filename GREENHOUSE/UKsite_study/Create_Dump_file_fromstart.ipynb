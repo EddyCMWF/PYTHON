{
 "cells": [
  {
   "cell_type": "code",
   "execution_count": 2,
   "metadata": {
    "collapsed": true
   },
   "outputs": [],
   "source": [
    "import numpy as np\n",
    "import netCDF4 as nc\n",
    "#import pandas as pd\n",
    "\n"
   ]
  },
  {
   "cell_type": "code",
   "execution_count": 3,
   "metadata": {
    "collapsed": true
   },
   "outputs": [],
   "source": [
    "#CROPdump='Brattleby_crop.dump.20130601.0.nc'\n",
    "#STDdump='Brattleby_std_wFIXES.dump.20130601.0.nc'\n",
    "\n",
    "#dumpfile='Brattleby_std_wFIXES.dump.20130601.0.nc'\n",
    "#dumpfile='Brattleby_albmarDATA.dump.20100601.0.nc'\n",
    "#dumpfile='Brattleby_crop.dump.20130601.0.nc'\n",
    "\n",
    "indumpfile='Brattleby_croptrif_albmar.dump.20100601.0.nc'\n",
    "outdumpfile='Brattleby_croptrif_albmar.dump.20100601.0.nc'"
   ]
  },
  {
   "cell_type": "code",
   "execution_count": 4,
   "metadata": {
    "collapsed": true
   },
   "outputs": [],
   "source": [
    "inf=nc.Dataset(indumpfile,'r')\n",
    "outf=nc.Dataset(outdumpfile,'w')\n",
    "#STDinf=nc.Dataset(STDdump,'r')\n"
   ]
  },
  {
   "cell_type": "code",
   "execution_count": 5,
   "metadata": {
    "collapsed": false
   },
   "outputs": [],
   "source": [
    "for dim in inf.dimensions:\n",
    "    if str(dim)=='scpool':\n",
    "        outf.createDimension('scpool',4)\n",
    "    else:\n",
    "        outf.createDimension(str(dim),len(inf.dimensions[str(dim)]))"
   ]
  },
  {
   "cell_type": "code",
   "execution_count": 6,
   "metadata": {
    "collapsed": false
   },
   "outputs": [],
   "source": [
    "for var in inf.variables:\n",
    "    invar=inf.variables[var]\n",
    "    outvar=outf.createVariable(var,'float32',invar.dimensions)\n",
    "    if str(var)=='cs':\n",
    "        outvar[:]=[0.025,2.11,0.17,8.21]\n",
    "    else:\n",
    "        outvar[:]=invar[:]\n",
    "    \n",
    "        "
   ]
  },
  {
   "cell_type": "code",
   "execution_count": null,
   "metadata": {
    "collapsed": false
   },
   "outputs": [],
   "source": []
  },
  {
   "cell_type": "code",
   "execution_count": 8,
   "metadata": {
    "collapsed": false
   },
   "outputs": [],
   "source": [
    "inf.close()\n",
    "outf.close()"
   ]
  },
  {
   "cell_type": "code",
   "execution_count": 10,
   "metadata": {
    "collapsed": true
   },
   "outputs": [],
   "source": [
    "#STDinf.close()"
   ]
  },
  {
   "cell_type": "code",
   "execution_count": null,
   "metadata": {
    "collapsed": true
   },
   "outputs": [],
   "source": []
  }
 ],
 "metadata": {
  "kernelspec": {
   "display_name": "Python 3",
   "language": "python",
   "name": "python3"
  },
  "language_info": {
   "codemirror_mode": {
    "name": "ipython",
    "version": 3
   },
   "file_extension": ".py",
   "mimetype": "text/x-python",
   "name": "python",
   "nbconvert_exporter": "python",
   "pygments_lexer": "ipython3",
   "version": "3.5.2"
  }
 },
 "nbformat": 4,
 "nbformat_minor": 0
}
