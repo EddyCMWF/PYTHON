{
 "cells": [
  {
   "cell_type": "code",
   "execution_count": 1,
   "metadata": {
    "collapsed": true
   },
   "outputs": [],
   "source": [
    "import numpy as np\n",
    "import netCDF4 as nc\n",
    "#import pandas as pd\n",
    "\n"
   ]
  },
  {
   "cell_type": "code",
   "execution_count": 10,
   "metadata": {
    "collapsed": true
   },
   "outputs": [],
   "source": [
    "#CROPdump='Brattleby_crop.dump.20130601.0.nc'\n",
    "#STDdump='Brattleby_std_wFIXES.dump.20130601.0.nc'\n",
    "\n",
    "#dumpfile='Brattleby_std_wFIXES.dump.20130601.0.nc'\n",
    "#dumpfile='Brattleby_albmarDATA.dump.20100601.0.nc'\n",
    "#dumpfile='Brattleby_crop.dump.20130601.0.nc'\n",
    "\n",
    "dumpfile='Brattleby_crop.dump.20100601.0.nc'\n",
    "#dumpfile='Brattleby_crop.dump.20130601.0.nc'"
   ]
  },
  {
   "cell_type": "code",
   "execution_count": 12,
   "metadata": {
    "collapsed": false
   },
   "outputs": [],
   "source": [
    "amf=nc.Dataset(dumpfile,'a')\n",
    "\n",
    "#STDinf=nc.Dataset(STDdump,'r')\n"
   ]
  },
  {
   "cell_type": "code",
   "execution_count": null,
   "metadata": {
    "collapsed": false
   },
   "outputs": [],
   "source": []
  },
  {
   "cell_type": "code",
   "execution_count": null,
   "metadata": {
    "collapsed": false
   },
   "outputs": [],
   "source": []
  },
  {
   "cell_type": "code",
   "execution_count": 13,
   "metadata": {
    "collapsed": false
   },
   "outputs": [],
   "source": [
    "#amvar=amf.createVariable('canht','float32',('pft','land'))\n",
    "#amvar[:]=[19.01,16.38,0.79,1.26,1,0.79,0.79,1.26,0.79]\n",
    "#amvar=amf.createVariable('croplai','float32',('cpft','land'))\n",
    "#amvar[:]=[2 for i in range(4)]\n",
    "amf.variables['cs'][:]=7.7"
   ]
  },
  {
   "cell_type": "code",
   "execution_count": 14,
   "metadata": {
    "collapsed": false
   },
   "outputs": [],
   "source": [
    "amf.close()"
   ]
  },
  {
   "cell_type": "code",
   "execution_count": 10,
   "metadata": {
    "collapsed": true
   },
   "outputs": [],
   "source": [
    "#STDinf.close()"
   ]
  },
  {
   "cell_type": "code",
   "execution_count": null,
   "metadata": {
    "collapsed": true
   },
   "outputs": [],
   "source": []
  }
 ],
 "metadata": {
  "kernelspec": {
   "display_name": "Python 3",
   "language": "python",
   "name": "python3"
  },
  "language_info": {
   "codemirror_mode": {
    "name": "ipython",
    "version": 3
   },
   "file_extension": ".py",
   "mimetype": "text/x-python",
   "name": "python",
   "nbconvert_exporter": "python",
   "pygments_lexer": "ipython3",
   "version": "3.5.2"
  }
 },
 "nbformat": 4,
 "nbformat_minor": 0
}
