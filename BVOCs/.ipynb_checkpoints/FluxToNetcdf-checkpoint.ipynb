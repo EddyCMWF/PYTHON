{
 "cells": [
  {
   "cell_type": "code",
   "execution_count": 2,
   "metadata": {
    "collapsed": true
   },
   "outputs": [],
   "source": [
    "import netCDF4 as nc\n",
    "import numpy as np\n"
   ]
  },
  {
   "cell_type": "code",
   "execution_count": 3,
   "metadata": {
    "collapsed": true
   },
   "outputs": [],
   "source": [
    "BASE_DIR='/prj/wetlands_africa/jules/JASMIN/BVOCs/SITE_DATA/'\n",
    "\n",
    "infile=BASE_DIR+'Isoprene_Flux_AuchencorthMoss_2015.csv'\n",
    "outfile=BASE_DIR+'Isoprene_Flux_AuchencorthMoss_2015.nc'\n",
    "\n",
    "#infile=BASE_DIR+'Isoprene_Flux_AliceHolt_2005.csv'\n",
    "#outfile=BASE_DIR+'Isoprene_Flux_AliceHolt_2005.nc'\n",
    "\n",
    "fill_value=-999.\n",
    "out_time_units='seconds since 2000-01-01 00:00:00'\n"
   ]
  },
  {
   "cell_type": "code",
   "execution_count": 4,
   "metadata": {
    "collapsed": true
   },
   "outputs": [],
   "source": [
    "inlines=open(infile,'r').readlines()\n",
    "headers=inlines.pop(0).split(',')"
   ]
  },
  {
   "cell_type": "code",
   "execution_count": 5,
   "metadata": {
    "collapsed": false
   },
   "outputs": [
    {
     "name": "stdout",
     "output_type": "stream",
     "text": [
      "['Date & Time [UTC]', 'DOY', 'Temperature [C]', 'PAR [umol m-2 s-1]', 'Isoprene Flux [ug m-2 h-1]', 'Isoprene Flux Random Error [ug m-2 h-1]', 'Isoprene Concentration [ug m-3]\\n']\n"
     ]
    }
   ],
   "source": [
    "print(headers)\n",
    "short_headers=['time','t','par','isoprene','isoprene_err','isoprene_mmr']\n",
    "units=[out_time_units,'C','umol m-2 s-1','ug m-2 h-1','ug m-2 h-1','ug m-3']"
   ]
  },
  {
   "cell_type": "code",
   "execution_count": 6,
   "metadata": {
    "collapsed": false
   },
   "outputs": [],
   "source": [
    "DataDict={ hdr:[] for hdr in short_headers }\n",
    "for line in inlines:\n",
    "    split=line[:-1].split(',')\n",
    "    DataDict['time'].append(nc.datetime.strptime(split[0],'%d/%m/%Y %H:%M'))\n",
    "    for hdr,val in zip(short_headers[1:],split[2:]):\n",
    "        if val != '':\n",
    "            DataDict[hdr].append(float(val))\n",
    "        else:\n",
    "            DataDict[hdr].append(fill_value)\n",
    "    "
   ]
  },
  {
   "cell_type": "code",
   "execution_count": 7,
   "metadata": {
    "collapsed": false
   },
   "outputs": [],
   "source": [
    "outf=nc.Dataset(outfile,'w')\n",
    "outf.createDimension('time',len(DataDict['time']))\n",
    "\n",
    "for var,unit in zip(short_headers,units):\n",
    "    outvar=outf.createVariable(var,'float32',('time'),fill_value=fill_value)\n",
    "    outvar.units=unit\n",
    "    \n",
    "    if var == 'time':\n",
    "        outvar[:] = nc.date2num(DataDict[var],units=out_time_units)\n",
    "    else:\n",
    "        outvar[:]=DataDict[var]\n",
    "\n",
    "outf.title='Alice Holt Isoprene Flux Data'\n",
    "outf.owner='Ben Langford'\n",
    "outf.converted_by='Edward Comyn-Platt (edwcom@ceh.ac.uk)'\n",
    "outf.close()\n",
    "    "
   ]
  },
  {
   "cell_type": "code",
   "execution_count": 8,
   "metadata": {
    "collapsed": false
   },
   "outputs": [
    {
     "ename": "RuntimeError",
     "evalue": "NetCDF: Not a valid ID",
     "output_type": "error",
     "traceback": [
      "\u001b[0;31m---------------------------------------------------------------------------\u001b[0m",
      "\u001b[0;31mRuntimeError\u001b[0m                              Traceback (most recent call last)",
      "\u001b[0;32m<ipython-input-8-6e2e6550ee10>\u001b[0m in \u001b[0;36m<module>\u001b[0;34m()\u001b[0m\n\u001b[0;32m----> 1\u001b[0;31m \u001b[0moutf\u001b[0m\u001b[0;34m.\u001b[0m\u001b[0mclose\u001b[0m\u001b[0;34m(\u001b[0m\u001b[0;34m)\u001b[0m\u001b[0;34m\u001b[0m\u001b[0m\n\u001b[0m",
      "\u001b[0;32mnetCDF4/_netCDF4.pyx\u001b[0m in \u001b[0;36mnetCDF4._netCDF4.Dataset.close (netCDF4/_netCDF4.c:15059)\u001b[0;34m()\u001b[0m\n",
      "\u001b[0;31mRuntimeError\u001b[0m: NetCDF: Not a valid ID"
     ]
    }
   ],
   "source": [
    "outf.close()"
   ]
  },
  {
   "cell_type": "code",
   "execution_count": null,
   "metadata": {
    "collapsed": true
   },
   "outputs": [],
   "source": []
  }
 ],
 "metadata": {
  "kernelspec": {
   "display_name": "Python 3",
   "language": "python",
   "name": "python3"
  },
  "language_info": {
   "codemirror_mode": {
    "name": "ipython",
    "version": 3
   },
   "file_extension": ".py",
   "mimetype": "text/x-python",
   "name": "python",
   "nbconvert_exporter": "python",
   "pygments_lexer": "ipython3",
   "version": "3.5.2"
  }
 },
 "nbformat": 4,
 "nbformat_minor": 0
}
