{
 "cells": [
  {
   "cell_type": "code",
   "execution_count": 40,
   "metadata": {
    "collapsed": true
   },
   "outputs": [],
   "source": [
    "import netCDF4 as nc\n",
    "import numpy as np\n",
    "import matplotlib.pylab as plt\n",
    "import matplotlib.cm as cm\n",
    "import sys\n",
    "import calendar\n",
    "\n",
    "import PlotTools.plot_tools as PTs\n",
    "\n",
    "import iris\n",
    "import iris.plot as iplt\n",
    "import iris.quickplot as qplt\n",
    "\n",
    "from matplotlib.pyplot import rcParams\n",
    "%matplotlib inline\n",
    "rcParams['figure.figsize'] = (15.,10)\n",
    "\n",
    "from iris_jules import jules\n"
   ]
  },
  {
   "cell_type": "code",
   "execution_count": 3,
   "metadata": {
    "collapsed": true
   },
   "outputs": [],
   "source": [
    "def netcdf_read_onto_grid(var,inf,grindex,grimask,fill_value=-999):\n",
    "    griddata=Jinf.variables[var][:].squeeze()\n",
    "    griddata=np.ma.masked_array(griddata[...,grindex],mask=grimask,fill_value=fill_value)\n",
    "    griddata.data[griddata.mask==True]=fill_value\n",
    "    return griddata"
   ]
  },
  {
   "cell_type": "code",
   "execution_count": 41,
   "metadata": {
    "collapsed": false
   },
   "outputs": [],
   "source": [
    "fill_value=-999.\n",
    "\n",
    "BVOC_DIR='/prj/wetlands_africa/jules/JASMIN/BVOCs/'\n",
    "\n",
    "OUT_DIR=BVOC_DIR+'ECP_plots/'\n",
    "\n",
    "JULES_DIR=BVOC_DIR+'/JULES_OUTPUT/'\n",
    "Jrunids = ['J4.6_EMEP4UK_VG',\\\n",
    "           'J4.6_EMEP4UK_VG_tefld']\n",
    "Jrun_snames = ['VG_std','VG_tefld']\n",
    "\n",
    "EMEP4UK_DIR=BVOC_DIR+'EMEP4UK_output/rv4.3/'\n",
    "EMEP4UK_tag='EMEP4UK_UK_webrun_emep_4.3_'\n",
    "\n",
    "profile='monthly'\n",
    "file_tsteps=12\n",
    "\n",
    "START_YEAR=2001\n",
    "END_YEAR=2002\n",
    "Ndays_month=np.array([31,28,31,30,31,30,31,31,30,31,30,31])\n",
    "Ndays_month_leap=np.array([31,29,31,30,31,30,31,31,30,31,30,31])\n",
    "\n",
    "invars=['isoprene','terpene','gpp','tstar']\n",
    "\n",
    "FRAC_file=BVOC_DIR+'JULES_ancils/'+\\\n",
    "            'EMEP4UK_LandFrac.nc'\n",
    "    \n",
    "LAI_file=BVOC_DIR+'JULES_ancils/'+\\\n",
    "            'EMEP4UK_LAI.nc'\n",
    "\n",
    "AREA_file=BVOC_DIR+'EMEP4UK_output/rv4.3/'+\\\n",
    "            'EMEP4UK_UK_webrun_emep_4.3_Area_Grid_km2.nc'\n",
    "\n",
    "PFT_names=['TB-conif','TB-decid','Med-Needle','Med-Broadleaf',\\\n",
    "           'TB-Crop','Med-Crop','Root-crop',\\\n",
    "           'Moorland','Grass','Med-Scrub']\n",
    "\n",
    "LF_names=PFT_names+['Soil','Lake','Ice','Urban']\n",
    "nLFs=len(LF_names)\n",
    "\n",
    "# index for the relevant PFTs:\n",
    "PFT_index=[0,1,4,6,7,8]\n",
    "\n",
    "nPFTs=len(PFT_index)\n",
    "GRID_file = '/users/eow/edwcom/EMEP/EMEP4UK/EMEP4UK_JULES_output_index.nc'\n"
   ]
  },
  {
   "cell_type": "code",
   "execution_count": 13,
   "metadata": {
    "collapsed": false
   },
   "outputs": [
    {
     "name": "stdout",
     "output_type": "stream",
     "text": [
      "[0, 1, 4, 6, 7, 8]\n"
     ]
    }
   ],
   "source": [
    "LAND_FRAC=nc.Dataset(FRAC_file,'r').variables['Land_Frac'][:]\n",
    "PFT_FRAC=LAND_FRAC[PFT_index,:]\n",
    "\n",
    "AREA=nc.Dataset(AREA_file,'r').variables['Area_Grid_km2'][0,:]*1e6\n",
    "\n",
    "#LAI=nc.Dataset(LAI_file,'r').variables['lai'][:]\n",
    "GRINF=nc.Dataset(GRID_file,'r')\n",
    "GRINDEX=GRINF.variables['land_index'][:]\n",
    "lats_2d=GRINF.variables['lats'][:]\n",
    "lons_2d=GRINF.variables['lons'][:]\n",
    "print(PFT_index)\n",
    "GRIMASK_TSTEPsPFTs= np.array( [ [GRINDEX.mask for iPFT in PFT_names] \\\n",
    "                                              for iTSTEP in range(file_tsteps) ] )\n",
    "GRIMASK_TSTEPsLFs= np.array( [ [GRINDEX.mask for iLF in LF_names] \\\n",
    "                                              for iTSTEP in range(file_tsteps) ] )\n",
    "GRIMASK_TSTEPs= np.array( [ GRINDEX.mask for iTSTEP in range(file_tsteps) ] )"
   ]
  },
  {
   "cell_type": "code",
   "execution_count": 14,
   "metadata": {
    "collapsed": false
   },
   "outputs": [],
   "source": [
    "#for iLF in range(nLFs):\n",
    "#    FILEPLOTname='/users/eow/edwcom/EMEP/EMEP4UK/plots/ancils/USED_LF/'+str(iLF)+'-'+LF_names[iLF]+'.png'\n",
    "#    PLOTDATA=np.ma.masked_less(LAND_FRAC[iLF,:],0.01)\n",
    "#    PTs.plot_map(PLOTDATA,lons_2d,lats_2d,\\\n",
    "#                 FILE_PLOT=FILEPLOTname,iDISPLAY='N',\\\n",
    "#                 CMAP='OrRd',NLEVELS=250,TICK_FORMAT='%0.1f',NTICKS=11,\\\n",
    "#                 LATDEL=2,LONDEL=2, LON_RANGE=[-13,10.8],LAT_RANGE=[51.5,56.8], \\\n",
    "#                 DATA_RANGE=[0,1], \\\n",
    "#                 FONTSIZES=[15,15,18,18], \\\n",
    "#                 PLOT_TITLE=LF_names[iLF], \\\n",
    "#                 CBAR_ORIENTATION='vertical', \\\n",
    "#                 WIDTH=8,HEIGHT=9,RESOLUTION='i',PROJECTION='stere' \\\n",
    "#                  )"
   ]
  },
  {
   "cell_type": "code",
   "execution_count": 15,
   "metadata": {
    "collapsed": false
   },
   "outputs": [
    {
     "name": "stdout",
     "output_type": "stream",
     "text": [
      "(6, 270, 220)\n",
      "(270, 220)\n",
      "(12, 10, 270, 220)\n",
      "(270, 220)\n",
      "(270, 220)\n"
     ]
    }
   ],
   "source": [
    "print(PFT_FRAC.shape)\n",
    "print(AREA.shape)\n",
    "print(GRIMASK_TSTEPsPFTs.shape)\n",
    "print(lats_2d.shape)\n",
    "print(lons_2d.shape)"
   ]
  },
  {
   "cell_type": "code",
   "execution_count": null,
   "metadata": {
    "collapsed": false
   },
   "outputs": [],
   "source": []
  },
  {
   "cell_type": "code",
   "execution_count": 19,
   "metadata": {
    "collapsed": false
   },
   "outputs": [
    {
     "name": "stdout",
     "output_type": "stream",
     "text": [
      "(24, 6, 270, 220)\n",
      "(24, 6, 270, 220)\n",
      "(24, 6, 270, 220)\n",
      "(24, 6, 270, 220)\n",
      "(24, 270, 220)\n",
      "(24, 6, 270, 220)\n",
      "(24, 6, 270, 220)\n",
      "(24, 6, 270, 220)\n",
      "(24, 6, 270, 220)\n",
      "(24, 270, 220)\n"
     ]
    }
   ],
   "source": [
    "\n",
    "ISO_Dict={}\n",
    "TERP_Dict={}\n",
    "TSTAR_Dict={}\n",
    "GPP_Dict={}\n",
    "PAR_Dict={}\n",
    "\n",
    "year=START_YEAR\n",
    "Jrunid=Jrunids[0]\n",
    "for Jrunid in Jrunids:\n",
    "    for year in range(START_YEAR,END_YEAR+1):\n",
    "        J_fname=JULES_DIR+Jrunid+'/'+Jrunid+'.'+profile+'.'+str(year)+'.nc'\n",
    "    \n",
    "        Jinf=nc.Dataset(J_fname,'r')\n",
    "        # Read in ISO, Terp, tstar and gpp data onto 2D lat lon Grids\n",
    "        # Isoprene\n",
    "        temp_ISOdata=netcdf_read_onto_grid('isoprene',Jinf,\\\n",
    "                                           GRINDEX,GRIMASK_TSTEPsPFTs,\\\n",
    "                                           fill_value=fill_value)\n",
    "        temp_TERPdata=netcdf_read_onto_grid('terpene',Jinf,\\\n",
    "                                           GRINDEX,GRIMASK_TSTEPsPFTs,\\\n",
    "                                           fill_value=fill_value)\n",
    "        temp_TSTARdata=netcdf_read_onto_grid('tstar',Jinf,\\\n",
    "                                           GRINDEX,GRIMASK_TSTEPsLFs,\\\n",
    "                                           fill_value=fill_value)\n",
    "        temp_GPPdata=netcdf_read_onto_grid('gpp',Jinf,\\\n",
    "                                           GRINDEX,GRIMASK_TSTEPsPFTs,\\\n",
    "                                           fill_value=fill_value)\n",
    "        \n",
    "        temp_SWdata=netcdf_read_onto_grid('sw_down',Jinf,\\\n",
    "                                           GRINDEX,GRIMASK_TSTEPs,\\\n",
    "                                           fill_value=fill_value)\n",
    "        \n",
    "        # convert data units (Iso and Terp to g day^-1, GPP to kg day) \n",
    "        # and append along time axis\n",
    "        # and extract the relevant PFTs\n",
    "        if year==START_YEAR:\n",
    "        #                           cover * Area in m^2 * second in day * g in kg\n",
    "            ISO_Data=temp_ISOdata[:,PFT_index,:]*PFT_FRAC*AREA*86400*1e3\n",
    "            TERP_Data=temp_TERPdata[:,PFT_index,:]*PFT_FRAC*AREA*86400*1e3\n",
    "            TSTAR_Data=temp_TSTARdata[:,PFT_index,:]\n",
    "            GPP_Data=temp_GPPdata[:,PFT_index,:]*PFT_FRAC*AREA*86400\n",
    "            PAR_Data=temp_SWdata*0.5\n",
    "        else:\n",
    "            ISO_Data=np.append(ISO_Data,temp_ISOdata[:,PFT_index,:]*PFT_FRAC*AREA*86400*1e3,axis=0)\n",
    "            TERP_Data=np.append(TERP_Data,temp_TERPdata[:,PFT_index,:]*PFT_FRAC*AREA*86400*1e3,axis=0)\n",
    "            TSTAR_Data=np.append(TSTAR_Data,temp_TSTARdata[:,PFT_index,:],axis=0)\n",
    "            GPP_Data=np.append(GPP_Data,temp_GPPdata[:,PFT_index,:]*PFT_FRAC*AREA*86400,axis=0)\n",
    "            PAR_Data=np.append(PAR_Data,temp_SWdata*0.5,axis=0)\n",
    "\n",
    "    \n",
    "        Jinf.close()\n",
    "    \n",
    "    #print(ISO_Data.shape)\n",
    "    #print(TERP_Data.shape)\n",
    "    #print(TSTAR_Data.shape)\n",
    "    #print(GPP_Data.shape)\n",
    "    #print(PAR_Data.shape)\n",
    "    ISO_Dict[Jrunid]=ISO_Data.copy()\n",
    "    TERP_Dict[Jrunid]=TERP_Data.copy()\n",
    "    TSTAR_Dict[Jrunid]=TSTAR_Data.copy()\n",
    "    GPP_Dict[Jrunid]=GPP_Data.copy()\n",
    "    PAR_Dict[Jrunid]=PAR_Data.copy()"
   ]
  },
  {
   "cell_type": "code",
   "execution_count": 27,
   "metadata": {
    "collapsed": false
   },
   "outputs": [
    {
     "name": "stdout",
     "output_type": "stream",
     "text": [
      "[ 26.5  31.5  29.5  31.5  29.5  31.   31.5  29.5  31.5  29.5  31. ]\n"
     ]
    }
   ],
   "source": []
  },
  {
   "cell_type": "code",
   "execution_count": 61,
   "metadata": {
    "collapsed": false
   },
   "outputs": [
    {
     "name": "stdout",
     "output_type": "stream",
     "text": [
      "/prj/wetlands_africa/jules/JASMIN/BVOCs/EMEP4UK_output/rv4.3/EMEP4UK_UK_webrun_emep_4.3_2001_monthly_BVOCS.nc\n",
      "/prj/wetlands_africa/jules/JASMIN/BVOCs/EMEP4UK_output/rv4.3/EMEP4UK_UK_webrun_emep_4.3_2002_monthly_BVOCS.nc\n"
     ]
    }
   ],
   "source": [
    "# Read in and Append the EMEP4UK data\n",
    "year=START_YEAR\n",
    "for year in range(START_YEAR,END_YEAR+1):\n",
    "    if calendar.isleap(year):\n",
    "        Ndays=Ndays_month\n",
    "    else:\n",
    "        Ndays=Ndays_month_leap\n",
    "        \n",
    "    EMEP4UK_file=EMEP4UK_DIR+EMEP4UK_tag+str(year)+'_'+profile+'_BVOCS.nc'\n",
    "    #print(EMEP4UK_file)\n",
    "    \n",
    "    Einf=nc.Dataset(EMEP4UK_file,'r')\n",
    "    temp_EMtime_obj=nc.num2date(Einf.variables['time'][:],\\\n",
    "                                units=Einf.variables['time'].units)\n",
    "    \n",
    "    temp_ISOdata=Einf.variables['Emis_mgm2_BioNatC5H8'][:]\n",
    "    temp_TERPdata=Einf.variables['Emis_mgm2_BioNatAPINENE'][:]\n",
    "    temp_T2Mdata=Einf.variables['T2m'][:]\n",
    "    temp_RH2Mdata=Einf.variables['rh2m'][:]\n",
    "    Einf.close()\n",
    "    \n",
    "    # Change to emission rate per day (g m^-2 day^-1)\n",
    "    temp_ISOdata=np.array( [temp_ISOdata[imnth]/Ndays[imnth] for imnth in range(12)] )*1e-3\n",
    "    temp_TERPdata=np.array( [temp_TERPdata[imnth]/Ndays[imnth] for imnth in range(12)] )*1e-3\n",
    "    \n",
    "    # Append to data array, and multiply through by Area\n",
    "    if year==START_YEAR:\n",
    "        ISO_Data=temp_ISOdata*AREA\n",
    "        TERP_Data=temp_TERPdata*AREA\n",
    "        T2M_Data=temp_T2Mdata\n",
    "        RH2M_Data=temp_RH2Mdata\n",
    "        #EMtime_num=temp_EMtime_num\n",
    "        #EMtime_obj=temp_EMtime_obj\n",
    "    else:\n",
    "        ISO_Data=np.append(ISO_Data,temp_ISOdata*AREA,axis=0)\n",
    "        TERP_Data=np.append(TERP_Data,temp_TERPdata*AREA,axis=0)\n",
    "        T2M_Data=np.append(T2M_Data,temp_T2Mdata,axis=0)\n",
    "        RH2M_Data=np.append(RH2M_Data,temp_RH2Mdata,axis=0)\n",
    "        #EMtime_num=np.append(EMtime_num,temp_EMtime_num)\n",
    "        #EMtime_obj=np.append(EMtime_obj,temp_EMtime_obj)\n",
    "    \n",
    "\n",
    "ISO_Dict['EMEP4UK']=ISO_Data\n",
    "TERP_Dict['EMEP4UK']=TERP_Data\n",
    "    \n",
    "#print(temp_ISOdata.shape)\n",
    "\n"
   ]
  },
  {
   "cell_type": "code",
   "execution_count": 57,
   "metadata": {
    "collapsed": false
   },
   "outputs": [
    {
     "name": "stdout",
     "output_type": "stream",
     "text": [
      "3.26296\n",
      "3.26296252012\n"
     ]
    }
   ],
   "source": [
    "temp_ISOdata2=np.array( [temp_ISOdata[imnth]/Ndays[imnth] for imnth in range(12)] )\n",
    "print(temp_ISOdata[6,130,100])\n",
    "print(temp_ISOdata2[6,130,100]*31)"
   ]
  },
  {
   "cell_type": "code",
   "execution_count": 1,
   "metadata": {
    "collapsed": false
   },
   "outputs": [
    {
     "name": "stdout",
     "output_type": "stream",
     "text": [
      "Name:\tpython\n",
      "State:\tR (running)\n",
      "Tgid:\t9411\n",
      "Ngid:\t0\n",
      "Pid:\t9411\n",
      "PPid:\t25782\n",
      "TracerPid:\t0\n",
      "Uid:\t25990\t25990\t25990\t25990\n",
      "Gid:\t26331\t26331\t26331\t26331\n",
      "FDSize:\t64\n",
      "Groups:\t25010 26331 26403 26404 26414 26444 26449 \n",
      "VmPeak:\t  813092 kB\n",
      "VmSize:\t  747556 kB\n",
      "VmLck:\t       0 kB\n",
      "VmPin:\t       0 kB\n",
      "VmHWM:\t   44984 kB\n",
      "VmRSS:\t   44984 kB\n",
      "VmData:\t  491128 kB\n",
      "VmStk:\t     136 kB\n",
      "VmExe:\t       4 kB\n",
      "VmLib:\t   16016 kB\n",
      "VmPTE:\t     476 kB\n",
      "VmSwap:\t       0 kB\n",
      "Threads:\t9\n",
      "SigQ:\t1/128266\n",
      "SigPnd:\t0000000000000000\n",
      "ShdPnd:\t0000000000000000\n",
      "SigBlk:\t0000000000000000\n",
      "SigIgn:\t0000000001001004\n",
      "SigCgt:\t0000000180000002\n",
      "CapInh:\t0000000000000000\n",
      "CapPrm:\t0000000000000000\n",
      "CapEff:\t0000000000000000\n",
      "CapBnd:\t0000003fffffffff\n",
      "Seccomp:\t0\n",
      "Cpus_allowed:\tff\n",
      "Cpus_allowed_list:\t0-7\n",
      "Mems_allowed:\t00000000,00000000,00000000,00000000,00000000,00000000,00000000,00000000,00000000,00000000,00000000,00000000,00000000,00000000,00000000,00000001\n",
      "Mems_allowed_list:\t0\n",
      "voluntary_ctxt_switches:\t1079\n",
      "nonvoluntary_ctxt_switches:\t10\n",
      "\n"
     ]
    }
   ],
   "source": [
    "import os\n",
    "_proc_status = '/proc/%d/status' % os.getpid()\n",
    "t = open(_proc_status)\n",
    "v = t.read()\n",
    "t.close()\n",
    "print(v)"
   ]
  },
  {
   "cell_type": "code",
   "execution_count": null,
   "metadata": {
    "collapsed": false
   },
   "outputs": [],
   "source": []
  },
  {
   "cell_type": "code",
   "execution_count": null,
   "metadata": {
    "collapsed": true
   },
   "outputs": [],
   "source": []
  }
 ],
 "metadata": {
  "kernelspec": {
   "display_name": "Python 3",
   "language": "python",
   "name": "python3"
  },
  "language_info": {
   "codemirror_mode": {
    "name": "ipython",
    "version": 3
   },
   "file_extension": ".py",
   "mimetype": "text/x-python",
   "name": "python",
   "nbconvert_exporter": "python",
   "pygments_lexer": "ipython3",
   "version": "3.5.2"
  }
 },
 "nbformat": 4,
 "nbformat_minor": 0
}
