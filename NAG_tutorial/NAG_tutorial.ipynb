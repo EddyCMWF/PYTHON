{
 "cells": [
  {
   "cell_type": "code",
   "execution_count": 2,
   "metadata": {},
   "outputs": [],
   "source": [
    "import numpy as np\n",
    "import matplotlib.pyplot as plt\n",
    "\n",
    "from naginterfaces.library import opt\n",
    "\n",
    "from naginterfaces.library.opt import bounds_quasi_func_easy\n"
   ]
  },
  {
   "cell_type": "code",
   "execution_count": 20,
   "metadata": {
    "scrolled": true
   },
   "outputs": [],
   "source": [
    "#help(bounds_quasi_func_easy)"
   ]
  },
  {
   "cell_type": "code",
   "execution_count": 5,
   "metadata": {},
   "outputs": [],
   "source": [
    "rosen = lambda x: (sum(100.0*(x[1:]-x[:-1]**2.0)**2.0 + (1.0-x[:-1])**2.0))"
   ]
  },
  {
   "cell_type": "code",
   "execution_count": 6,
   "metadata": {},
   "outputs": [],
   "source": [
    "x=np.arange(100)\n",
    "y=rosen(x)"
   ]
  },
  {
   "cell_type": "code",
   "execution_count": 11,
   "metadata": {},
   "outputs": [
    {
     "data": {
      "text/plain": [
       "180690366846.0"
      ]
     },
     "execution_count": 11,
     "metadata": {},
     "output_type": "execute_result"
    }
   ],
   "source": [
    "rosen(x)"
   ]
  },
  {
   "cell_type": "code",
   "execution_count": 14,
   "metadata": {},
   "outputs": [
    {
     "name": "stdout",
     "output_type": "stream",
     "text": [
      "[0. 0. 0. 0.]\n"
     ]
    }
   ],
   "source": [
    "x = np.zeros([4])\n",
    "print(x)"
   ]
  },
  {
   "cell_type": "code",
   "execution_count": 15,
   "metadata": {},
   "outputs": [],
   "source": [
    "n=len(x)\n",
    "bl, bu = np.zeros(n), np.zeros(n)+2.\n",
    "ibound = 0"
   ]
  },
  {
   "cell_type": "code",
   "execution_count": 16,
   "metadata": {},
   "outputs": [],
   "source": [
    "opt_soln = bounds_quasi_func_easy(ibound, rosen, bl, bu, x)"
   ]
  },
  {
   "cell_type": "code",
   "execution_count": 18,
   "metadata": {},
   "outputs": [
    {
     "name": "stdout",
     "output_type": "stream",
     "text": [
      "nag_return_data(bl=array([0., 0., 0., 0.]), bu=array([2., 2., 2., 2.]), x=array([1., 1., 1., 1.]), f=5.062034908055814e-18, iw=array([1, 2, 3, 4, 4, 4], dtype=int32), w=array([-1.48625874e-008,  3.21398065e-008, -8.60831417e-008,\n",
      "        3.55305119e-008,  1.46359605e+003,  4.96853092e+000,\n",
      "       -1.06312073e+001,  4.83294418e+000,  6.92235564e-310,\n",
      "        6.92241329e-310,  6.92235574e-310,  0.00000000e+000,\n",
      "        9.99999985e-001,  9.99999981e-001,  9.99999984e-001,\n",
      "        9.99999980e-001,  9.99999985e-001,  9.99999981e-001,\n",
      "        9.99999984e-001,  9.99999980e-001,  1.66343671e-003,\n",
      "        2.08049890e-003,  1.66343671e-003,  2.08049890e-003,\n",
      "        9.52322499e-009,  1.89797969e-008,  3.66243466e-008,\n",
      "        7.61960641e-008, -1.48625874e-008,  3.21398065e-008,\n",
      "       -8.60831417e-008,  3.55305119e-008,  3.08451136e-008,\n",
      "        5.90867722e-007, -1.45883186e-006,  6.25004405e-007,\n",
      "        6.58017461e-008,  6.54751846e-009,  6.54751846e-009,\n",
      "        6.58017461e-009, -5.15545708e-001,  6.81369771e-002,\n",
      "       -5.94038312e-001, -2.88169878e-002,  4.60570161e-002,\n",
      "       -4.94706146e-001,  8.11641251e+002,  8.27907987e+002,\n",
      "        1.02819216e+003,  7.02510886e-001, -1.48625874e-008,\n",
      "        3.21398065e-008, -8.60831417e-008,  3.55305119e-008]))\n"
     ]
    }
   ],
   "source": [
    "print(opt_soln)"
   ]
  },
  {
   "cell_type": "code",
   "execution_count": 19,
   "metadata": {},
   "outputs": [
    {
     "name": "stdout",
     "output_type": "stream",
     "text": [
      "5.06203490806e-18\n"
     ]
    }
   ],
   "source": [
    "print(opt_soln.f)"
   ]
  },
  {
   "cell_type": "code",
   "execution_count": 2,
   "metadata": {},
   "outputs": [],
   "source": [
    "from naginterfaces.library import rand\n",
    "statecomm = rand.init_repeat(genid=2, seed=[32958])"
   ]
  },
  {
   "cell_type": "code",
   "execution_count": 5,
   "metadata": {},
   "outputs": [],
   "source": [
    "n=100\n",
    "x = rand.dist_uniform01(n,statecomm)\n",
    "y = rand.dist_uniform01(n,statecomm)"
   ]
  },
  {
   "cell_type": "code",
   "execution_count": 6,
   "metadata": {},
   "outputs": [
    {
     "data": {
      "text/plain": [
       "array([ 0.39127999,  0.08601481, -0.49445421, -0.25416891, -0.23644496,\n",
       "       -0.04156922, -0.30159878,  0.72373659,  0.31550127,  0.12414955,\n",
       "        0.62026972, -0.51196443,  0.68452716,  0.21078467,  0.05227253,\n",
       "        0.54500941,  0.23653172,  0.85947025,  0.00521434, -0.44869397,\n",
       "       -0.52730493, -0.69020699, -0.24893827, -0.20671054, -0.24338801,\n",
       "       -0.38581751,  0.0452706 , -0.28693447,  0.81360372, -0.43511162,\n",
       "        0.54326959, -0.59673691, -0.12904464,  0.27545442,  0.42271894,\n",
       "        0.16878575, -0.44880304,  0.05437467, -0.64489135, -0.30666001,\n",
       "        0.75794892,  0.62266656, -0.62210731, -0.29029301, -0.12176626,\n",
       "        0.89651983, -0.10669959,  0.26043916, -0.84607513, -0.01083872,\n",
       "        0.07621345,  0.31966354,  0.06099081, -0.23992538, -0.33104588,\n",
       "       -0.19431666, -0.75227235,  0.04985201, -0.37646871, -0.20363649,\n",
       "       -0.32475249, -0.25158856,  0.10807739, -0.2397748 , -0.16735812,\n",
       "        0.24242694,  0.05721849, -0.06736566, -0.5842506 , -0.15501433,\n",
       "       -0.67623878,  0.00537222,  0.1474462 , -0.25308433, -0.67304584,\n",
       "        0.49336172,  0.10118513,  0.4851153 , -0.41853135,  0.32392889,\n",
       "       -0.73026096, -0.12425554,  0.03576014, -0.0697963 ,  0.16192159,\n",
       "        0.20101693, -0.38719571,  0.62499486, -0.32433874, -0.14064239,\n",
       "        0.41033376, -0.04422124, -0.16627558, -0.24958379,  0.17549256,\n",
       "       -0.52796908,  0.12326166,  0.01420573, -0.49327596, -0.47614864])"
      ]
     },
     "execution_count": 6,
     "metadata": {},
     "output_type": "execute_result"
    }
   ],
   "source": [
    "x-y"
   ]
  },
  {
   "cell_type": "code",
   "execution_count": null,
   "metadata": {},
   "outputs": [],
   "source": []
  }
 ],
 "metadata": {
  "kernelspec": {
   "display_name": "Python 2",
   "language": "python",
   "name": "python2"
  },
  "language_info": {
   "codemirror_mode": {
    "name": "ipython",
    "version": 2
   },
   "file_extension": ".py",
   "mimetype": "text/x-python",
   "name": "python",
   "nbconvert_exporter": "python",
   "pygments_lexer": "ipython2",
   "version": "2.7.15"
  }
 },
 "nbformat": 4,
 "nbformat_minor": 2
}
