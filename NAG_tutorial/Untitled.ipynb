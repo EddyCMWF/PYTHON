{
 "cells": [
  {
   "cell_type": "code",
   "execution_count": 7,
   "metadata": {},
   "outputs": [],
   "source": [
    "from naginterfaces.library import quad\n",
    "import math\n",
    "import numpy as np\n",
    "import matplotlib.pyplot as plt"
   ]
  },
  {
   "cell_type": "code",
   "execution_count": 34,
   "metadata": {},
   "outputs": [],
   "source": [
    "\n",
    "a=0.\n",
    "b=np.pi*2.\n",
    "epsr=1e-20\n",
    "n=100\n",
    "sine_func = lambda x:np.sin(x)\n"
   ]
  },
  {
   "cell_type": "code",
   "execution_count": 39,
   "metadata": {},
   "outputs": [
    {
     "data": {
      "text/plain": [
       "[<matplotlib.lines.Line2D at 0x7f85638b5690>]"
      ]
     },
     "execution_count": 39,
     "metadata": {},
     "output_type": "execute_result"
    },
    {
     "data": {
      "image/png": "[encoded data removed]",
      "text/plain": [
       "<Figure size 432x288 with 1 Axes>"
      ]
     },
     "metadata": {
      "needs_background": "light"
     },
     "output_type": "display_data"
    }
   ],
   "source": [
    "x=np.arange(0,10,0.1)\n",
    "plt.plot(x,sine_func(x))"
   ]
  },
  {
   "cell_type": "code",
   "execution_count": 40,
   "metadata": {},
   "outputs": [],
   "source": [
    "output = quad.dim1_fin_well(a,b,epsr,sine_func,n)"
   ]
  },
  {
   "cell_type": "code",
   "execution_count": 41,
   "metadata": {},
   "outputs": [
    {
     "data": {
      "text/plain": [
       "nag_return_data(result=-3.768736988473722e-16, npts=7, relerr=6.106226635438361e-17)"
      ]
     },
     "execution_count": 41,
     "metadata": {},
     "output_type": "execute_result"
    }
   ],
   "source": [
    "output"
   ]
  },
  {
   "cell_type": "code",
   "execution_count": 43,
   "metadata": {},
   "outputs": [],
   "source": [
    "from naginterfaces.library import lapacklin"
   ]
  },
  {
   "cell_type": "code",
   "execution_count": 44,
   "metadata": {},
   "outputs": [],
   "source": [
    "A = [ [4.16,  0,    0,    0],\n",
    "      [-3.12,  5.03, 0,   0],\n",
    "      [0.56, -0.83, 0.76, 0],\n",
    "      [-0.10,  1.18, 0.34, 1.18]]\n",
    "b = [  [8.70, 8.30],\n",
    "       [-13.35, 2.13],\n",
    "       [1.89, 1.61],\n",
    "       [-4.14, 5.00]]\n"
   ]
  },
  {
   "cell_type": "code",
   "execution_count": 57,
   "metadata": {},
   "outputs": [],
   "source": [
    "A_1 = lapacklin.dpotrf('U',A)\n",
    "#b_1 = lapacklin.dpotrf('U',b)"
   ]
  },
  {
   "cell_type": "code",
   "execution_count": 61,
   "metadata": {},
   "outputs": [
    {
     "data": {
      "text/plain": [
       "array([[ 2.03960781, -3.12      ,  0.56      , -0.1       ],\n",
       "       [ 0.        ,  2.24276615, -0.83      ,  1.18      ],\n",
       "       [ 0.        ,  0.        ,  0.87177979,  0.34      ],\n",
       "       [ 0.        ,  0.        ,  0.        ,  1.08627805]])"
      ]
     },
     "execution_count": 61,
     "metadata": {},
     "output_type": "execute_result"
    }
   ],
   "source": [
    "A_1.transpose()"
   ]
  },
  {
   "cell_type": "code",
   "execution_count": 58,
   "metadata": {},
   "outputs": [],
   "source": [
    "C = lapacklin.dpotrs('U',A_1,b)"
   ]
  },
  {
   "cell_type": "code",
   "execution_count": 59,
   "metadata": {},
   "outputs": [
    {
     "data": {
      "text/plain": [
       "array([[ 2.09134615,  1.99519231],\n",
       "       [-2.65407555,  0.42345924],\n",
       "       [ 2.48684211,  2.11842105],\n",
       "       [-3.50847458,  4.23728814]])"
      ]
     },
     "execution_count": 59,
     "metadata": {},
     "output_type": "execute_result"
    }
   ],
   "source": [
    "C"
   ]
  },
  {
   "cell_type": "code",
   "execution_count": 65,
   "metadata": {},
   "outputs": [],
   "source": [
    "from naginterfaces.library import rand\n",
    "\n",
    "statecomm = rand.init_repeat(genid=2, seed=[32958])"
   ]
  },
  {
   "cell_type": "code",
   "execution_count": 73,
   "metadata": {},
   "outputs": [],
   "source": [
    "n=100\n",
    "\n",
    "a=rand.dist_normal(n,0.,2.,statecomm)\n",
    "b=rand.dist_normal(n,0.,2.,statecomm)"
   ]
  },
  {
   "cell_type": "code",
   "execution_count": 74,
   "metadata": {},
   "outputs": [
    {
     "name": "stdout",
     "output_type": "stream",
     "text": [
      "[ 0.68466533 -0.66455011  2.74974442  0.63135595  1.06628286  0.64810773\n",
      " -0.92904205  0.40430647  0.5642084   1.04301334 -1.16495178  3.03874214\n",
      "  1.94848497  0.3716081   1.7207415  -0.7490878   1.24473842 -0.75280325\n",
      " -3.43014017  1.01354433  0.21175068  1.06151291 -0.6147142  -1.09504457\n",
      " -1.52175438  1.95072117 -0.45236434  1.22790754  0.41552774  0.75781435\n",
      " -3.1607538  -1.81798743 -0.62089989 -0.66050409  2.98838194 -4.57407166\n",
      "  0.72972225 -0.53566542  0.26137508  0.35275645  2.00370782  0.79359818\n",
      "  0.95865845  0.69439931 -1.99626398 -1.23099196  0.61889449 -2.16899182\n",
      " -1.84941672 -1.57578102 -0.7261756   1.40255786  1.48091144 -1.03759686\n",
      " -1.49450353  1.1680229  -1.9749007   0.71718688  1.7823675   0.98229661\n",
      " -2.00981344 -0.29528779  0.43433574  1.26715644 -0.00663153  0.31806099\n",
      "  0.92885333 -0.28281673 -1.44526649  2.46091728  2.56444186 -3.14876419\n",
      "  0.44421727 -1.18432652 -1.74390317  1.0169028  -3.03723103 -2.44174095\n",
      " -0.8114389  -0.0854593  -0.6914464   0.59531219 -0.60962528  1.95454822\n",
      " -0.28188619  2.20654408 -1.80369872 -1.31127991 -1.14753672 -1.66697235\n",
      "  0.27928308  0.71906912 -1.51984368  2.3319633  -0.99406406  1.78399384\n",
      " -0.36587809 -0.10690082 -0.01435504  2.12053274]\n"
     ]
    }
   ],
   "source": [
    "print(b)"
   ]
  },
  {
   "cell_type": "code",
   "execution_count": 80,
   "metadata": {},
   "outputs": [
    {
     "data": {
      "text/plain": [
       "<matplotlib.collections.PathCollection at 0x7f856261bd10>"
      ]
     },
     "execution_count": 80,
     "metadata": {},
     "output_type": "execute_result"
    },
    {
     "data": {
      "image/png": "[encoded data removed]",
      "text/plain": [
       "<Figure size 432x288 with 1 Axes>"
      ]
     },
     "metadata": {
      "needs_background": "light"
     },
     "output_type": "display_data"
    }
   ],
   "source": [
    "plt.scatter(a,b,s=0.5,marker='o')"
   ]
  },
  {
   "cell_type": "code",
   "execution_count": 81,
   "metadata": {},
   "outputs": [],
   "source": []
  },
  {
   "cell_type": "code",
   "execution_count": null,
   "metadata": {},
   "outputs": [],
   "source": []
  }
 ],
 "metadata": {
  "kernelspec": {
   "display_name": "Python 2",
   "language": "python",
   "name": "python2"
  },
  "language_info": {
   "codemirror_mode": {
    "name": "ipython",
    "version": 2
   },
   "file_extension": ".py",
   "mimetype": "text/x-python",
   "name": "python",
   "nbconvert_exporter": "python",
   "pygments_lexer": "ipython2",
   "version": "2.7.15"
  }
 },
 "nbformat": 4,
 "nbformat_minor": 2
}
