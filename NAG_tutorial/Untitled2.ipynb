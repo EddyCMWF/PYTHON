{
 "cells": [
  {
   "cell_type": "code",
   "execution_count": 2,
   "metadata": {},
   "outputs": [],
   "source": [
    "\n",
    "# import libraries\n",
    "from naginterfaces.library import lapacklin\n",
    "import numpy as np\n",
    "from matplotlib import pyplot as plt\n",
    "# set some global options\n",
    "np.set_printoptions(precision=2,suppress=True)\n",
    "plt.rcParams.update({'font.size': 14})"
   ]
  },
  {
   "cell_type": "code",
   "execution_count": 3,
   "metadata": {},
   "outputs": [],
   "source": [
    "x = [ -1.5, -1.25, -1.0, -0.75, -0.5, -0.25, 0.0, 0.25, 0.5, 0.75, 1.0, 1.25, 1.5 ];\n",
    "y = [ 0.0, 0.25, 0.5, 1.25, 3.0, 6.0, 8.0, 6.0, 3.0, 1.25, 0.5, 0.25, 0.0 ];\n",
    "n=len(x)"
   ]
  },
  {
   "cell_type": "code",
   "execution_count": 6,
   "metadata": {},
   "outputs": [],
   "source": [
    "\n",
    "A = np.array([ [x[i]**j for j in range(n) ] for i in range(n) ])\n"
   ]
  },
  {
   "cell_type": "code",
   "execution_count": 27,
   "metadata": {},
   "outputs": [],
   "source": [
    "MM, ipiv, a = lapacklin.dgesv(A,np.array(y).reshape(n,1))"
   ]
  },
  {
   "cell_type": "code",
   "execution_count": 28,
   "metadata": {},
   "outputs": [
    {
     "data": {
      "text/plain": [
       "array([[   1.  ,   -1.5 ,    2.25,   -3.38,    5.06,   -7.59,   11.39,\n",
       "         -17.09,   25.63,  -38.44,   57.67,  -86.5 ,  129.75],\n",
       "       [   1.  ,    3.  ,    0.  ,    6.75,    0.  ,   15.19,    0.  ,\n",
       "          34.17,    0.  ,   76.89,    0.  ,  173.  ,    0.  ],\n",
       "       [   1.  ,    0.5 ,   -2.25,    0.  ,   -5.06,    0.  ,  -11.39,\n",
       "           0.  ,  -25.63,    0.  ,  -57.67,    0.  , -129.75],\n",
       "       [   1.  ,    0.25,    0.75,    1.27,   -0.95,    3.56,   -2.67,\n",
       "           8.41,   -6.31,   19.15,  -14.36,   43.21,  -32.4 ],\n",
       "       [   1.  ,    0.83,    0.56,   -0.99,   -2.19,   -0.55,   -6.7 ,\n",
       "          -2.08,  -16.62,   -5.72,  -38.81,  -13.99,  -88.67],\n",
       "       [   1.  ,    0.08,    0.31,    0.68,    0.2 ,    0.97,   -0.97,\n",
       "           4.17,   -4.29,   12.71,  -13.36,   33.85,  -36.13],\n",
       "       [   1.  ,    0.67,    0.89,   -0.79,    0.57,    0.65,    1.09,\n",
       "          -0.55,    4.44,   -2.63,   13.06,   -8.58,   34.  ],\n",
       "       [   1.  ,    0.92,    0.31,   -0.68,    0.79,   -0.44,   -0.98,\n",
       "          -0.81,   -0.6 ,   -4.03,   -3.1 ,  -13.49,  -10.54],\n",
       "       [   1.  ,    0.17,    0.56,    0.99,    0.14,    0.65,    0.14,\n",
       "           0.29,    0.53,   -0.13,    2.77,   -0.74,    9.57],\n",
       "       [   1.  ,    0.42,    0.97,    0.43,   -0.13,   -0.35,   -0.31,\n",
       "          -0.32,   -0.73,   -0.29,    0.14,   -1.55,    0.79],\n",
       "       [   1.  ,    0.75,    0.75,   -1.  ,    0.87,    0.49,    0.87,\n",
       "          -0.29,   -0.23,    0.72,   -0.21,   -0.05,   -1.16],\n",
       "       [   1.  ,    0.33,    0.89,    0.79,   -0.11,   -0.39,   -0.26,\n",
       "          -0.35,   -0.93,    0.85,   -0.3 ,   -0.08,    0.02],\n",
       "       [   1.  ,    0.58,    0.97,   -0.43,    0.25,    0.42,    0.56,\n",
       "           0.19,    0.29,   -0.67,   -0.46,    0.62,   -0.04]])"
      ]
     },
     "execution_count": 28,
     "metadata": {},
     "output_type": "execute_result"
    }
   ],
   "source": [
    "MM"
   ]
  },
  {
   "cell_type": "code",
   "execution_count": 36,
   "metadata": {},
   "outputs": [
    {
     "name": "stdout",
     "output_type": "stream",
     "text": [
      "[[   8.  ]\n",
      " [   0.  ]\n",
      " [ -38.19]\n",
      " [  -0.  ]\n",
      " [ 110.19]\n",
      " [   0.  ]\n",
      " [-188.3 ]\n",
      " [  -0.  ]\n",
      " [ 172.87]\n",
      " [   0.  ]\n",
      " [ -76.96]\n",
      " [  -0.  ]\n",
      " [  12.89]]\n"
     ]
    },
    {
     "data": {
      "text/plain": [
       "6.500000000005343"
      ]
     },
     "execution_count": 36,
     "metadata": {},
     "output_type": "execute_result"
    }
   ],
   "source": [
    "print(a)\n",
    "np.sum(a*A[:,0])\n"
   ]
  },
  {
   "cell_type": "code",
   "execution_count": 30,
   "metadata": {},
   "outputs": [
    {
     "data": {
      "text/plain": [
       "array([ 1, 13,  7,  4, 11, 13,  9, 12,  9, 13, 13, 13, 13], dtype=int32)"
      ]
     },
     "execution_count": 30,
     "metadata": {},
     "output_type": "execute_result"
    }
   ],
   "source": [
    "ipiv"
   ]
  },
  {
   "cell_type": "code",
   "execution_count": 33,
   "metadata": {},
   "outputs": [
    {
     "data": {
      "text/plain": [
       "[0.0, 0.25, 0.5, 1.25, 3.0, 6.0, 8.0, 6.0, 3.0, 1.25, 0.5, 0.25, 0.0]"
      ]
     },
     "execution_count": 33,
     "metadata": {},
     "output_type": "execute_result"
    }
   ],
   "source": [
    "y"
   ]
  },
  {
   "cell_type": "code",
   "execution_count": null,
   "metadata": {},
   "outputs": [],
   "source": []
  }
 ],
 "metadata": {
  "kernelspec": {
   "display_name": "Python 2",
   "language": "python",
   "name": "python2"
  },
  "language_info": {
   "codemirror_mode": {
    "name": "ipython",
    "version": 2
   },
   "file_extension": ".py",
   "mimetype": "text/x-python",
   "name": "python",
   "nbconvert_exporter": "python",
   "pygments_lexer": "ipython2",
   "version": "2.7.15"
  }
 },
 "nbformat": 4,
 "nbformat_minor": 2
}
