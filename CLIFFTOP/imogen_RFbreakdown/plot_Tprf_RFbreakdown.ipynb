{
 "cells": [
  {
   "cell_type": "code",
   "execution_count": 1,
   "metadata": {
    "collapsed": true,
    "deletable": true,
    "editable": true
   },
   "outputs": [],
   "source": [
    "import numpy as np\n",
    "import matplotlib.pyplot as plt\n",
    "import matplotlib as mpl\n",
    "import sys,os\n",
    "import math\n"
   ]
  },
  {
   "cell_type": "code",
   "execution_count": 4,
   "metadata": {
    "collapsed": false,
    "deletable": true,
    "editable": true
   },
   "outputs": [],
   "source": [
    "npy_DIR='/users/eow/edwcom/CLIFFTOP/Tprofiles/chg_output/'\n",
    "emiss_invert_running = np.load(npy_DIR+'emiss_invert_running.npy')\n",
    "delta_temp_global = np.load(npy_DIR+'delta_temp_global.npy')\n",
    "dq_all = np.load(npy_DIR+'dq_all.npy')\n",
    "co2_ppm_all = np.load(npy_DIR+'co2_ppm_all.npy')"
   ]
  },
  {
   "cell_type": "code",
   "execution_count": 5,
   "metadata": {
    "collapsed": false,
    "deletable": true,
    "editable": true
   },
   "outputs": [
    {
     "data": {
      "text/plain": [
       "(666, 34)"
      ]
     },
     "execution_count": 5,
     "metadata": {},
     "output_type": "execute_result"
    }
   ],
   "source": [
    "dq_all.shape\n"
   ]
  },
  {
   "cell_type": "code",
   "execution_count": null,
   "metadata": {
    "collapsed": true,
    "deletable": true,
    "editable": true
   },
   "outputs": [],
   "source": [
    "scenario_dir='/users/eow/edwcom/CLIFFTOP/IMOGEN/scenarios/'\n",
    "BL_scenario='SSP-2.6_IMAGE'\n",
    "qnonco2_file=scenario_dir+scenario+'_qnonco2_smooth.txt'\n",
    "co2_file=scenario_dir+scenario+'_concs_co2_smooth.txt'\n",
    "ch4n2o_file=scenario_dir+scenario+'_concs_ch4_n2o_smooth.txt'\n",
    "\n",
    "\n",
    "BL_years=np.array()\n",
    "BL_qnonco2=np.array()\n",
    "BL_co2=np.array()\n",
    "\n"
   ]
  }
 ],
 "metadata": {
  "kernelspec": {
   "display_name": "Python 3",
   "language": "python",
   "name": "python3"
  },
  "language_info": {
   "codemirror_mode": {
    "name": "ipython",
    "version": 3
   },
   "file_extension": ".py",
   "mimetype": "text/x-python",
   "name": "python",
   "nbconvert_exporter": "python",
   "pygments_lexer": "ipython3",
   "version": "3.5.3"
  }
 },
 "nbformat": 4,
 "nbformat_minor": 2
}
