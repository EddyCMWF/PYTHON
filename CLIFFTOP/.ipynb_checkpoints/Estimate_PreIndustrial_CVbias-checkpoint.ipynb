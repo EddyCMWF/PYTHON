{
 "cells": [
  {
   "cell_type": "code",
   "execution_count": 1,
   "metadata": {
    "collapsed": true
   },
   "outputs": [],
   "source": [
    "import numpy as np\n",
    "import netCDF4 as nc\n",
    "import sys,os\n",
    "\n",
    "#import pandas as pd\n",
    "from imogen import data_info\n",
    "#import iris\n",
    "#import iris.plot as iplt\n",
    "#import iris.quickplot as qplt\n",
    "\n",
    "from PlotTools import plot_tools as PTs\n",
    "\n",
    "import matplotlib.pyplot as plt\n",
    "plt.rcParams['figure.figsize']=(20,16)\n",
    "%matplotlib inline\n"
   ]
  },
  {
   "cell_type": "code",
   "execution_count": 2,
   "metadata": {
    "collapsed": true
   },
   "outputs": [],
   "source": [
    "GtC_to_ppm=0.471\n",
    "ppm_to_kgC = 1e12/GtC_to_ppm\n",
    "\n",
    "\n",
    "Tile_names=data_info.TILE_short_names()\n",
    "Tile_colours = data_info.TILE_colours()\n",
    "nTiles=len(Tile_names)\n"
   ]
  },
  {
   "cell_type": "code",
   "execution_count": 11,
   "metadata": {
    "collapsed": false
   },
   "outputs": [
    {
     "data": {
      "text/plain": [
       "256"
      ]
     },
     "execution_count": 11,
     "metadata": {},
     "output_type": "execute_result"
    }
   ],
   "source": [
    "CONFIG= 'BASELINE_CONFIG'  #'METHANE_FEEDBACK'  #  \n",
    "\n",
    "DATA_DIR = '/prj/CLIFFTOP/ECP_output/EQUILIBRIUM_OUTPUT/'+CONFIG+'/'\n",
    "PLOT_DIR = '/prj/CLIFFTOP/ECP_output/EQUILIBRIUM_OUTPUT/plots/Cveg_Bias/'\n",
    "\n",
    "os.system('mkdir '+PLOT_DIR)\n"
   ]
  },
  {
   "cell_type": "code",
   "execution_count": 12,
   "metadata": {
    "collapsed": false
   },
   "outputs": [
    {
     "data": {
      "text/plain": [
       "['/prj/CLIFFTOP/PreIndustrialLandCover/HYDE_AREAVEG/land-cover_hyde_landcover_yr1850.nc',\n",
       " '/prj/CLIFFTOP/PreIndustrialLandCover/HH_AREAVEG/land-cover_hh_landcover_yr1850.nc',\n",
       " '/prj/CLIFFTOP/PreIndustrialLandCover/RF_AREAVEG/land-cover_rf_landcover_yr1850.nc']"
      ]
     },
     "execution_count": 12,
     "metadata": {},
     "output_type": "execute_result"
    }
   ],
   "source": [
    "OBS_FILES"
   ]
  },
  {
   "cell_type": "code",
   "execution_count": 5,
   "metadata": {
    "collapsed": true
   },
   "outputs": [],
   "source": [
    "ANCILS_DIR='/prj/CLIFFTOP/COMMON_DATA/ANCILS/'\n",
    "GRID_file= ANCILS_DIR+'grid_info.nc'\n",
    "grinf=nc.Dataset(GRID_file,'r')\n",
    "lats_2d = grinf.variables['latitude'][:]\n",
    "lons_2d = grinf.variables['longitude'][:]\n",
    "Area_2d = grinf.variables['Area'][:]\n",
    "land_index = grinf.variables['land_index'][:]\n",
    "grinf.close()\n",
    "\n",
    "AREA_file=ANCILS_DIR+'Area_in_iris_format.nc'\n",
    "Ainf=nc.Dataset(AREA_file,'r')\n",
    "AREA_1D = Ainf.variables['area'][:]\n",
    "Ainf.close()\n",
    "\n",
    "# soil layer thicknesses\n",
    "#dz_soil= np.array([0.05,0.08408964,0.11397535,0.14142136,0.16718508,0.19168293,\n",
    "#                   0.21517585,0.23784142,0.25980762,0.28117066,0.30200527,\n",
    "#                   0.32237098,0.34231625,0.36188121])\n",
    "#dweight_soil = dz_soil/np.sum(dz_soil)\n",
    "#print(np.sum(dweight_soil))\n",
    "#print(dweight_soil)\n",
    "\n",
    "tiles= data_info.TILE_short_names\n"
   ]
  },
  {
   "cell_type": "code",
   "execution_count": 14,
   "metadata": {
    "collapsed": false
   },
   "outputs": [
    {
     "name": "stdout",
     "output_type": "stream",
     "text": [
      "0 BL-Tree\n",
      "      0 TrpEBF\n",
      "      1 TrpDBF\n",
      "      2 TmpEBF\n",
      "      3 TmpDBF\n",
      "      4 SecTrpEBF\n",
      "      5 SecTrpDBF\n",
      "      6 SecTmpEBF\n",
      "      7 SecTmpDBF\n",
      "1 NL-Tree\n",
      "      8 TmpENF\n",
      "      9 BorENF\n",
      "      10 BorDNF\n",
      "      11 SecTmpENF\n",
      "      12 SecBorENF\n",
      "      13 SecBorDNF\n",
      "2 Natural-Grasses\n",
      "      14 C3grass\n",
      "      15 C4grass\n",
      "3 Agricultural-Grasses\n",
      "      17 C3crop\n",
      "      18 C4crop\n",
      "      19 C3past\n",
      "      20 C4past\n",
      "4 Shrub\n",
      "      21 Denseshrub\n",
      "      22 Openshrub\n",
      "      23 Tundra\n",
      "5 Soil\n",
      "      24 Desert\n",
      "6 Savanna\n",
      "      16 Savanna\n",
      "/prj/CLIFFTOP/PreIndustrialLandCover/HYDE_AREAVEG/land-cover_hyde_landcover_yr1850.nc\n"
     ]
    }
   ],
   "source": [
    "\n",
    "OBS_DIR  = '/prj/CLIFFTOP/PreIndustrialLandCover/'\n",
    "OBS_list = ['hyde']  #,'hh','rf']\n",
    "OBS_FILES = [ OBS_DIR+obs.upper()+'_AREAVEG/land-cover_'+obs+'_landcover_yr1850.nc' for obs in OBS_list ]\n",
    "nOBS = len(OBS_list)\n",
    "\n",
    "OBS_LCtypes = ['TrpEBF','TrpDBF','TmpEBF','TmpDBF',\n",
    "               'SecTrpEBF','SecTrpDBF','SecTmpEBF','SecTmpDBF',\n",
    "               'TmpENF','BorENF','BorDNF',\n",
    "               'SecTmpENF','SecBorENF','SecBorDNF',\n",
    "               'C3grass','C4grass',\n",
    "               'Savanna',\n",
    "               'C3crop','C4crop','C3past','C4past',\n",
    "               'Denseshrub','Openshrub','Tundra',\n",
    "               'Desert','PdRI','Water','Urban',\n",
    "              ]\n",
    "\n",
    "OBS_LCgroups = ['BL-Tree','NL-Tree','Natural-Grasses','Agricultural-Grasses','Shrub','Soil','Savanna']\n",
    "OBS_LCgroups_locs = [ range(0,8), range(8,14), range(14,16), range(17,21), range(21,24), [24], [16] ]\n",
    "nGROUPS = len(OBS_LCgroups)\n",
    "for iGRP in range(nGROUPS):\n",
    "    print(iGRP,OBS_LCgroups[iGRP])\n",
    "    for iLC in OBS_LCgroups_locs[iGRP]:\n",
    "        print('     ',iLC, OBS_LCtypes[iLC])\n",
    "\n",
    "for iobs in range(nOBS):\n",
    "    print(OBS_FILES[iobs])\n",
    "    inf=nc.Dataset(OBS_FILES[iobs])\n",
    "    inf.close()\n",
    "    \n",
    "    \n"
   ]
  }
 ],
 "metadata": {
  "kernelspec": {
   "display_name": "Python 3",
   "language": "python",
   "name": "python3"
  },
  "language_info": {
   "codemirror_mode": {
    "name": "ipython",
    "version": 3
   },
   "file_extension": ".py",
   "mimetype": "text/x-python",
   "name": "python",
   "nbconvert_exporter": "python",
   "pygments_lexer": "ipython3",
   "version": "3.5.3"
  }
 },
 "nbformat": 4,
 "nbformat_minor": 2
}
