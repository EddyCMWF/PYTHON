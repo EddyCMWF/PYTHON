{
 "cells": [
  {
   "cell_type": "code",
   "execution_count": null,
   "metadata": {
    "collapsed": true
   },
   "outputs": [],
   "source": [
    "import numpy as np\n",
    "import netCDF4 as nc\n",
    "\n",
    "import matplotlib.pyplot as plt\n",
    "plt.rcParams['figure.figsize']=(20,12)\n",
    "%matplotlib inline\n",
    "\n"
   ]
  },
  {
   "cell_type": "code",
   "execution_count": 56,
   "metadata": {
    "collapsed": false
   },
   "outputs": [],
   "source": [
    "gridfile='grid_info.nc'\n",
    "grinf=nc.Dataset(gridfile,'a')\n",
    "lats_2d=grinf.variables['latitude'][:]\n",
    "lons_2d=grinf.variables['longitude'][:]\n",
    "grindex=grinf.variables['land_index'][:]\n",
    "grinf.close()\n",
    "\n"
   ]
  },
  {
   "cell_type": "code",
   "execution_count": null,
   "metadata": {
    "collapsed": false
   },
   "outputs": [],
   "source": [
    "\n"
   ]
  },
  {
   "cell_type": "code",
   "execution_count": null,
   "metadata": {
    "collapsed": true
   },
   "outputs": [],
   "source": []
  },
  {
   "cell_type": "code",
   "execution_count": 49,
   "metadata": {
    "collapsed": false
   },
   "outputs": [],
   "source": [
    "lats_1d=ammf.variables['latitude'][:]\n",
    "lons_1d=ammf.variables['longitude'][:]\n",
    "land_index=np.zeros_like(lats_2d,dtype='int')-1\n",
    "\n",
    "for ipt in range(len(lats_1d)):\n",
    "    \n",
    "    lat,lon = lats_1d[ipt],lons_1d[ipt]\n",
    "    \n",
    "    land_index[ (lats_2d==lat)&(lons_2d==lon) ] = ipt\n",
    "\n",
    "land_index=np.ma.masked_equal(land_index,-1)\n",
    "\n",
    "outvar=grinf.createVariable('land_index','i',('y','x'),fill_value=-1)\n",
    "outvar.description = \"Index to put land points on to 2D grid\" \n",
    "outvar[:]=land_index\n",
    "grinf.close()\n"
   ]
  },
  {
   "cell_type": "code",
   "execution_count": 58,
   "metadata": {
    "collapsed": false
   },
   "outputs": [
    {
     "data": {
      "text/plain": [
       "<matplotlib.image.AxesImage at 0x7f9b84283a90>"
      ]
     },
     "execution_count": 58,
     "metadata": {},
     "output_type": "execute_result"
    },
    {
     "data": {
      "image/png": "[encoded data removed]",
      "text/plain": [
       "<matplotlib.figure.Figure at 0x7f9b842fa7b8>"
      ]
     },
     "metadata": {},
     "output_type": "display_data"
    }
   ],
   "source": [
    "plot_data=np.ma.masked_array(t_soil[0,land_index],mask=land_index.mask)\n",
    "plt.imshow(plot_data,origin='bottom',interpolation='nearest')"
   ]
  },
  {
   "cell_type": "code",
   "execution_count": 38,
   "metadata": {
    "collapsed": false
   },
   "outputs": [],
   "source": [
    "infile='vn4.7_imogen.spinup_409.dump.18600101.0.noNAN.nc'\n",
    "ammf=nc.Dataset(infile,'a')\n"
   ]
  },
  {
   "cell_type": "code",
   "execution_count": 5,
   "metadata": {
    "collapsed": false
   },
   "outputs": [
    {
     "name": "stdout",
     "output_type": "stream",
     "text": [
      "canopy\n",
      "cs\n",
      "gs\n",
      "snow_tile\n",
      "t_soil\n",
      "tstar_tile\n",
      "sthuf\n",
      "lai\n",
      "canht\n",
      "frac_agr_prev\n",
      "wood_prod_fast\n",
      "wood_prod_med\n",
      "wood_prod_slow\n",
      "frac_past_prev\n",
      "sthzw\n",
      "zw\n",
      "rgrain\n",
      "tsoil_deep\n",
      "co2_ppmv\n",
      "co2_change_ppmv\n",
      "dtemp_o\n",
      "fa_ocean\n",
      "seed_rain\n",
      "cv\n",
      "rho_snow\n",
      "snow_depth\n",
      "snow_grnd\n",
      "nsnow\n",
      "snow_ds\n",
      "snow_ice\n",
      "snow_liq\n",
      "tsnow\n",
      "rgrainl\n",
      "frac\n",
      "b\n",
      "sathh\n",
      "satcon\n",
      "sm_sat\n",
      "sm_crit\n",
      "sm_wilt\n",
      "hcap\n",
      "hcon\n",
      "albsoil\n",
      "clay\n",
      "fexp\n",
      "ti_mean\n",
      "ti_sig\n",
      "frac_agr\n",
      "co2_mmr\n",
      "latitude\n",
      "longitude\n"
     ]
    }
   ],
   "source": [
    "\n",
    "DATA_DICT={}\n",
    "\n",
    "for var in ammf.variables:\n",
    "    print(var)\n",
    "    DATA_DICT[var]=ammf.variables[var][:]\n",
    "    if len(np.where(np.isnan(DATA_DICT[var]))[0])>0:\n",
    "        print(len(np.where(np.isnan(DATA_DICT[var]))[0]))\n",
    "    #if var not in ['co2_ppmv','co2_change_ppmv','dtemp_o','seed_rain','co2_mmr']:\n",
    "    #    print(DATA_DICT[var].reshape(-1,DATA_DICT[var].shape[-1])[:,1538])\n"
   ]
  },
  {
   "cell_type": "code",
   "execution_count": 6,
   "metadata": {
    "collapsed": false
   },
   "outputs": [
    {
     "name": "stdout",
     "output_type": "stream",
     "text": [
      "snow_tile 0.0\n",
      "tstar_tile 273.0\n",
      "wood_prod_fast 0.0\n",
      "wood_prod_med 0.0\n",
      "wood_prod_slow 0.0\n",
      "sthzw 1.0\n",
      "zw 25.0\n",
      "rho_snow 109.0\n",
      "frac 1e-06\n"
     ]
    }
   ],
   "source": [
    "# correct NaN values\n",
    "fill_vars=['snow_tile','tstar_tile','wood_prod_fast',\\\n",
    "           'wood_prod_med','wood_prod_slow','sthzw','zw','rho_snow','frac']\n",
    "fill_vals=[0.,273.,0.,0.,0.,1.,25.,109.0,1e-6]\n",
    "for var,fill_value in zip(fill_vars,fill_vals):\n",
    "    print(var, fill_value)\n",
    "    DATA_DICT[var][np.isnan(DATA_DICT[var])] = \\\n",
    "            fill_value\n",
    "    ammf.variables[var][:]=DATA_DICT[var]\n",
    "        "
   ]
  },
  {
   "cell_type": "code",
   "execution_count": 7,
   "metadata": {
    "collapsed": false
   },
   "outputs": [],
   "source": [
    "ti_mean=ammf.variables['ti_mean'][:]\n",
    "ti_sig=ammf.variables['ti_sig'][:]\n"
   ]
  },
  {
   "cell_type": "code",
   "execution_count": 8,
   "metadata": {
    "collapsed": false
   },
   "outputs": [],
   "source": [
    "badex=np.where(ti_mean<0)\n",
    "while len(badex[0])>0:\n",
    "    ti_mean[badex]=ti_mean[badex[0]-1]\n",
    "    badex=np.where(ti_mean<0)"
   ]
  },
  {
   "cell_type": "code",
   "execution_count": 9,
   "metadata": {
    "collapsed": false
   },
   "outputs": [],
   "source": [
    "badex=np.where(ti_sig<0)\n",
    "while len(badex[0])>0:\n",
    "    ti_sig[badex]=ti_sig[badex[0]-1]\n",
    "    badex=np.where(ti_sig<0)"
   ]
  },
  {
   "cell_type": "code",
   "execution_count": 10,
   "metadata": {
    "collapsed": false
   },
   "outputs": [],
   "source": [
    "ammf.variables['ti_mean'][:]=ti_mean\n",
    "ammf.variables['ti_sig'][:]=ti_sig"
   ]
  },
  {
   "cell_type": "code",
   "execution_count": 11,
   "metadata": {
    "collapsed": false
   },
   "outputs": [
    {
     "name": "stdout",
     "output_type": "stream",
     "text": [
      "(17, 1631)\n",
      "[]\n",
      "(array([], dtype=int64), array([], dtype=int64))\n"
     ]
    }
   ],
   "source": [
    "\n",
    "tstar=ammf.variables['tstar_tile'][:]\n",
    "#tstar[tstar<200]=np.min(tstar[tstar>200])\n",
    "print(tstar.shape)\n",
    "\n",
    "print(tstar[tstar<200])\n",
    "print(np.where(tstar<200))\n"
   ]
  },
  {
   "cell_type": "code",
   "execution_count": 12,
   "metadata": {
    "collapsed": false
   },
   "outputs": [
    {
     "name": "stdout",
     "output_type": "stream",
     "text": [
      "(14, 1631)\n",
      "(array([], dtype=int64),)\n",
      "[]\n",
      "[]\n"
     ]
    }
   ],
   "source": [
    "t_soil=ammf.variables['t_soil'][:]\n",
    "frac=ammf.variables['frac'][:]\n",
    "print(t_soil.shape)\n",
    "\n",
    "# replace zero values for value in layer below. These only occur in top layer\n",
    "ilayer = 0\n",
    "badex=np.where(t_soil[ilayer,:]==0)\n",
    "print(badex)\n",
    "print(t_soil[ilayer,badex])\n",
    "t_soil[ilayer,badex]=t_soil[ilayer+1,badex]\n",
    "print(t_soil[ilayer,badex])\n",
    "\n",
    "\n",
    "# 4 soil columns remain with t_soil<1k for whole column, \n",
    "# replace with neighbouring soil column until none remain\n",
    "badex=np.where(t_soil[ilayer,:]<1)\n",
    "while len(badex[0])>0:\n",
    "    t_soil[:,badex[0]]=t_soil[:,badex[0]-1]\n",
    "    badex=np.where(t_soil[ilayer,:]<1)\n",
    "    \n",
    "#for ilayer in range(14):\n",
    "#    badex=np.where(t_soil[ilayer,:]<200)\n",
    "#    print(badex)\n",
    "#    print(t_soil[ilayer,badex])\n",
    "#    print(t_soil[ilayer,badex[0]-1])\n",
    "#    #print(frac[:,badex])\n",
    "\n",
    "#=np.min(t_soil[t_soil>200])\n",
    "\n",
    "\n"
   ]
  },
  {
   "cell_type": "code",
   "execution_count": 13,
   "metadata": {
    "collapsed": false,
    "scrolled": true
   },
   "outputs": [],
   "source": [
    "#print(t_soil[:,[1359, 1430, 1431, 1432, 1492, 1538]])"
   ]
  },
  {
   "cell_type": "code",
   "execution_count": 14,
   "metadata": {
    "collapsed": false
   },
   "outputs": [],
   "source": [
    "ammf.variables['t_soil'][:]=t_soil\n",
    "ammf.variables['tstar_tile'][:]=tstar"
   ]
  },
  {
   "cell_type": "code",
   "execution_count": null,
   "metadata": {
    "collapsed": false
   },
   "outputs": [],
   "source": []
  },
  {
   "cell_type": "code",
   "execution_count": 15,
   "metadata": {
    "collapsed": false
   },
   "outputs": [],
   "source": [
    "#for var in ammf.variables:\n",
    "#    print(var)\n",
    "#    if var not in ['co2_ppmv','co2_change_ppmv','dtemp_o','seed_rain','co2_mmr']:\n",
    "#        temp_data=ammf.variables[var][:]\n",
    "#        temp_data=temp_data.reshape(-1,temp_data.shape[-1])\n",
    "#        print(temp_data[:,1539])\n",
    "    "
   ]
  },
  {
   "cell_type": "code",
   "execution_count": 21,
   "metadata": {
    "collapsed": false
   },
   "outputs": [],
   "source": [
    "#print(DATA_DICT['frac'][:,1359])\n",
    "sum_frac=np.sum(DATA_DICT['frac'],axis=0)\n",
    "#print(sum_frac[1539])\n",
    "sum_frac.shape\n",
    "badex=np.where(sum_frac<0.99)\n",
    "len(badex[0])\n",
    "fill_lc_index=15  # soil\n",
    "#for pt in badex[0]:\n",
    "#    print(sum_frac[pt])\n",
    "#    print(DATA_DICT['frac'][:,pt])\n",
    "#    print(DATA_DICT['sm_sat'][:,pt])\n",
    "#    print(DATA_DICT['latitude'][pt],DATA_DICT['longitude'][pt])\n",
    "#    DATA_DICT['frac'][fill_lc_index,pt] = 1-sum_frac[pt]\n",
    "    \n",
    "#ammf.variables['frac'][:]=DATA_DICT['frac']\n",
    "    "
   ]
  },
  {
   "cell_type": "code",
   "execution_count": 22,
   "metadata": {
    "collapsed": false
   },
   "outputs": [
    {
     "data": {
      "text/plain": [
       "(array([], dtype=int64),)"
      ]
     },
     "execution_count": 22,
     "metadata": {},
     "output_type": "execute_result"
    }
   ],
   "source": [
    "badex"
   ]
  },
  {
   "cell_type": "code",
   "execution_count": 32,
   "metadata": {
    "collapsed": false
   },
   "outputs": [
    {
     "data": {
      "text/plain": [
       "<matplotlib.colorbar.Colorbar at 0x7f9b8446cc50>"
      ]
     },
     "execution_count": 32,
     "metadata": {},
     "output_type": "execute_result"
    },
    {
     "data": {
      "image/png": "[encoded data removed]",
      "text/plain": [
       "<matplotlib.figure.Figure at 0x7f9b84a8fc88>"
      ]
     },
     "metadata": {},
     "output_type": "display_data"
    }
   ],
   "source": [
    "plt.figure(figsize=(16,8))\n",
    "plot_data=np.ma.masked_array(sum_frac[grindex],mask=grindex.mask)\n",
    "plt.imshow(plot_data,origin='bottom',interpolation='nearest',vmin=0.99,vmax=1)\n",
    "plt.colorbar()"
   ]
  },
  {
   "cell_type": "code",
   "execution_count": 33,
   "metadata": {
    "collapsed": false
   },
   "outputs": [],
   "source": [
    "ammf.variables['frac'][:]=DATA_DICT['frac']"
   ]
  },
  {
   "cell_type": "code",
   "execution_count": 34,
   "metadata": {
    "collapsed": false
   },
   "outputs": [],
   "source": [
    "ammf.close()"
   ]
  },
  {
   "cell_type": "raw",
   "metadata": {
    "collapsed": true
   },
   "source": []
  },
  {
   "cell_type": "markdown",
   "metadata": {
    "collapsed": false
   },
   "source": [
    "grinvar=grinf.createVariable('land_index','float32',('y','x'),fill_value=-1)\n",
    "grinvar.units='-'\n",
    "grinvar.description='Index to put land points on to 2D grid'\n",
    "grinvar[:]=land_index\n"
   ]
  },
  {
   "cell_type": "code",
   "execution_count": null,
   "metadata": {
    "collapsed": true
   },
   "outputs": [],
   "source": [
    "grinf.close()"
   ]
  },
  {
   "cell_type": "code",
   "execution_count": null,
   "metadata": {
    "collapsed": false
   },
   "outputs": [],
   "source": [
    "var='snow_tile'\n",
    "fill_value=0\n",
    "#plt.imshow(DATA_DICT[var][0,land_index][30:,25:50],origin='bottom')\n",
    "#plt.colorbar()\n",
    "#plt.show()\n",
    "\n",
    "if var in DATA_DICT:\n",
    "    DATA_DICT[var][np.isnan(DATA_DICT[var])] = \\\n",
    "            fill_value\n",
    "\n",
    "#plt.imshow(np.ma.masked_array(DATA_DICT[var][0,land_index],mask=land_index.mask)[30:,25:50],origin='bottom')\n",
    "#plt.colorbar()\n",
    "#plt.show()\n"
   ]
  },
  {
   "cell_type": "code",
   "execution_count": null,
   "metadata": {
    "collapsed": false
   },
   "outputs": [],
   "source": []
  },
  {
   "cell_type": "code",
   "execution_count": null,
   "metadata": {
    "collapsed": false
   },
   "outputs": [],
   "source": [
    "var='tstar_tile'\n",
    "fill_value=273.15\n",
    "#plt.imshow(DATA_DICT[var][0,land_index][30:,25:50],origin='bottom')\n",
    "#plt.colorbar()\n",
    "#plt.show()\n",
    "\n",
    "if var in DATA_DICT:\n",
    "    DATA_DICT[var][np.isnan(DATA_DICT[var])] = \\\n",
    "            fill_value\n",
    "\n",
    "#plt.imshow(np.ma.masked_array(DATA_DICT[var][0,land_index],mask=land_index.mask)[30:,25:50],origin='bottom')\n",
    "#plt.colorbar()\n",
    "#plt.show()"
   ]
  },
  {
   "cell_type": "code",
   "execution_count": null,
   "metadata": {
    "collapsed": false
   },
   "outputs": [],
   "source": [
    "fill_vars=['snow_tile','tstar_tile','wood_prod_fast','wood_prod_med','wood_prod_slow','sthzw','zw','rho_snow','frac']\n",
    "fill_vals=[0.,273.15,0.,0.,0.,1.,25.,109.0,1e6]\n",
    "for var,fill_value in zip(fill_vars,fill_vals):\n",
    "    print(var, fill_value)\n",
    "    #if len(DATA_DICT[var].shape)==2:\n",
    "    #    plt.imshow(np.ma.masked_array(DATA_DICT[var][0,land_index],mask=land_index.mask)\\\n",
    "    #               ,origin='bottom')\n",
    "    #else:\n",
    "    #    plt.imshow(np.ma.masked_array(DATA_DICT[var][land_index],mask=land_index.mask)\\\n",
    "    #               ,origin='bottom')\n",
    "    #plt.colorbar()\n",
    "    #plt.show()\n",
    "    \n",
    "    if var in DATA_DICT:\n",
    "        DATA_DICT[var][np.isnan(DATA_DICT[var])] = \\\n",
    "            fill_value\n",
    "\n",
    "    #if len(DATA_DICT[var].shape)==2:\n",
    "    #    plt.imshow(np.ma.masked_array(DATA_DICT[var][0,land_index],mask=land_index.mask)\\\n",
    "    #               ,origin='bottom')\n",
    "    #else:\n",
    "    #    plt.imshow(np.ma.masked_array(DATA_DICT[var][land_index],mask=land_index.mask)\\\n",
    "    #               ,origin='bottom')\n",
    "    #plt.colorbar()\n",
    "    #plt.show()\n",
    "    "
   ]
  },
  {
   "cell_type": "code",
   "execution_count": null,
   "metadata": {
    "collapsed": false
   },
   "outputs": [],
   "source": [
    "# Extra fix for sthzw\n",
    "var='sthzw'\n",
    "DATA_DICT[var][DATA_DICT[var]<0]=0.5"
   ]
  },
  {
   "cell_type": "code",
   "execution_count": null,
   "metadata": {
    "collapsed": false
   },
   "outputs": [],
   "source": [
    "#var='sthzw'\n",
    "#plot_data=np.ma.masked_array(DATA_DICT[var][land_index],mask=land_index.mask)#\n",
    "#\n",
    "#plt.figure(figsize=(10,5))\n",
    "#plt.imshow(plot_data,origin='bottom',vmin=0.3)\n",
    "#plt.title(var)\n",
    "#plt.colorbar()\n",
    "#plt.show()"
   ]
  },
  {
   "cell_type": "code",
   "execution_count": null,
   "metadata": {
    "collapsed": false
   },
   "outputs": [],
   "source": [
    "for var in DATA_DICT:\n",
    "    ammf.variables[var][:]=DATA_DICT[var]"
   ]
  },
  {
   "cell_type": "code",
   "execution_count": null,
   "metadata": {
    "collapsed": false
   },
   "outputs": [],
   "source": []
  },
  {
   "cell_type": "code",
   "execution_count": null,
   "metadata": {
    "collapsed": false
   },
   "outputs": [],
   "source": [
    "ammf.close()\n"
   ]
  },
  {
   "cell_type": "code",
   "execution_count": null,
   "metadata": {
    "collapsed": true
   },
   "outputs": [],
   "source": []
  }
 ],
 "metadata": {
  "kernelspec": {
   "display_name": "Python 3",
   "language": "python",
   "name": "python3"
  },
  "language_info": {
   "codemirror_mode": {
    "name": "ipython",
    "version": 3
   },
   "file_extension": ".py",
   "mimetype": "text/x-python",
   "name": "python",
   "nbconvert_exporter": "python",
   "pygments_lexer": "ipython3",
   "version": "3.5.2"
  }
 },
 "nbformat": 4,
 "nbformat_minor": 0
}
